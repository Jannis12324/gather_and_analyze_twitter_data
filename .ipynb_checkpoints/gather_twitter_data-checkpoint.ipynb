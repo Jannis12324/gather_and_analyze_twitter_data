{
 "cells": [
  {
   "cell_type": "markdown",
   "metadata": {},
   "source": [
    "# Gather data"
   ]
  },
  {
   "cell_type": "markdown",
   "metadata": {},
   "source": [
    "### Import necessary libraries"
   ]
  },
  {
   "cell_type": "code",
   "execution_count": 91,
   "metadata": {},
   "outputs": [],
   "source": [
    "import tweepy\n",
    "import pandas as pd\n",
    "import requests\n",
    "import io\n",
    "import json\n",
    "import os\n",
    "import glob\n",
    "import numpy as np\n",
    "import re\n",
    "from datetime import datetime as dt\n",
    "import matplotlib.pyplot as plt"
   ]
  },
  {
   "cell_type": "markdown",
   "metadata": {},
   "source": [
    "### Initialize twitter API access"
   ]
  },
  {
   "cell_type": "code",
   "execution_count": 2,
   "metadata": {},
   "outputs": [],
   "source": [
    "\n",
    "consumer_key = ''\n",
    "consumer_secret = ''\n",
    "access_token = ''\n",
    "access_secret = ''\n",
    "\n",
    "\n",
    "auth = tweepy.OAuthHandler(consumer_key, consumer_secret)\n",
    "auth.set_access_token(access_token, access_secret)\n",
    "\n",
    "api = tweepy.API(auth ,wait_on_rate_limit=True, wait_on_rate_limit_notify=True)"
   ]
  },
  {
   "cell_type": "markdown",
   "metadata": {},
   "source": [
    "### Import twitter archive of user WeRateDogs"
   ]
  },
  {
   "cell_type": "code",
   "execution_count": 3,
   "metadata": {},
   "outputs": [],
   "source": [
    "df = pd.read_csv(\"twitter-archive-enhanced.csv\")"
   ]
  },
  {
   "cell_type": "markdown",
   "metadata": {},
   "source": [
    "### Gather additional tweet data and save it in a folder"
   ]
  },
  {
   "cell_type": "code",
   "execution_count": 4,
   "metadata": {},
   "outputs": [],
   "source": [
    "# Check which staus info is already collected\n",
    "folder_name = \"tweet_data\"\n",
    "ids_collected = list(map(lambda x: int(x[11:-4]), glob.glob(folder_name+\"/*.txt\")))"
   ]
  },
  {
   "cell_type": "code",
   "execution_count": 5,
   "metadata": {},
   "outputs": [],
   "source": [
    "def get_tweet_status():\n",
    "    '''\n",
    "    Takes the status ids of the twitter archive csv and queries the twitter api for the complete information.\n",
    "    Saves a text file with the information for each twitter status. Also saves a list of statuses that were \n",
    "    not able to be retrieved from the API\n",
    "    \n",
    "    Args:\n",
    "        None\n",
    "    Output:\n",
    "        None\n",
    "    '''\n",
    "    # Create a folder to store all the tweet data inside\n",
    "    if not os.path.exists(folder_name):\n",
    "        os.makedirs(folder_name)\n",
    "\n",
    "    # Error list for possibly deleted tweets\n",
    "    error_list = []\n",
    "    # Variable to measure progress\n",
    "    i = 1\n",
    "    # Get the status for each tweet id in the tweet_id column of the twitter archive\n",
    "    \n",
    "    for tweet_id in list(df.tweet_id):\n",
    "        \n",
    "        # Print progress status for every 20th call\n",
    "        if i%20 ==0:\n",
    "            print(str(i/len(df)*100)+\"% of API download done\")\n",
    "        \n",
    "        # If the id is already collected it should be skipped to save time\n",
    "        if tweet_id not in ids_collected:\n",
    "            try:\n",
    "                tweet = api.get_status(tweet_id)\n",
    "                data = tweet._json\n",
    "\n",
    "                #Save the json data as a txt file with the corresponding tweet id (Saving as .txt to fulfill project rubric)\n",
    "                with open(folder_name+\"/\"+str(tweet_id)+'.txt', 'w', encoding='utf-8') as f:\n",
    "                    json.dump(data, f, ensure_ascii=False, indent=4)\n",
    "            except Exception as e:\n",
    "                error_list.append(tweet_id)\n",
    "                print(\"The status of the tweet with id {} is not possible to access\".format(tweet_id))\n",
    "            # Store the tweet json data in a variable\n",
    "            \n",
    "                \n",
    "        i+=1\n",
    "        \n",
    "    # Save the error list for later usage    \n",
    "    pd.DataFrame(error_list).to_csv(\"na_ids.csv\", index = False)\n",
    "    "
   ]
  },
  {
   "cell_type": "code",
   "execution_count": 6,
   "metadata": {},
   "outputs": [],
   "source": [
    "# Only used once to get the data\n",
    "#get_tweet_status()"
   ]
  },
  {
   "cell_type": "markdown",
   "metadata": {},
   "source": [
    "### Import tweet status data pulled from the API as text and write it in a dataframe\n",
    "Comment: I saved the data as txt to fulfill the rubric of this project to work with three different kind of data.\n",
    "It would have been a lot easier to query the json structure than this regex stuff which is quite an unrobust and dirty solution I think."
   ]
  },
  {
   "cell_type": "code",
   "execution_count": 7,
   "metadata": {},
   "outputs": [],
   "source": [
    "def text_to_df():  \n",
    "    '''\n",
    "    Takes the text files from the subfolder and saves the tweet id,\n",
    "    follower_count, favourites of user count, retweet count and the \n",
    "    favourites of the post count in a dataframe.\n",
    "    \n",
    "    Args:\n",
    "        None\n",
    "    Output:\n",
    "        Saves the data as a dataframe, returns no output.\n",
    "    '''\n",
    "    # Initialize list of dictionaries\n",
    "    df_list = []\n",
    "\n",
    "    for status in glob.glob(folder_name+\"/*.txt\"):\n",
    "        with open(status, encoding = \"utf-8\") as file:\n",
    "            # Read only the couple of first lines for the id, afterwards the files differ from each other\n",
    "            lines = file.readlines()[2:4]\n",
    "            file.seek(0)\n",
    "            text = file.read()\n",
    "            text_id = lines[1].strip()[11:-2]\n",
    "\n",
    "            # Be sure that ids are consistent\n",
    "            if text_id != status[11:-4]:\n",
    "                raise Exception(\"Id saved in file does not match id from filename\")\n",
    "\n",
    "            # Find the needed data with regex, since line by line reading not possible\n",
    "            follower_count = re.findall(r\"\\\"followers_count\\\": (\\d+),\", text)[0]\n",
    "            favourites_of_user_count = re.findall(r\"\\\"favourites_count\\\": (\\d+),\", text)[0]\n",
    "            favourite_of_post_count = re.findall(r\"\\\"favorite_count\\\": (\\d+),\", text)[0]\n",
    "            retweet_count = re.findall(r\"\\\"retweet_count\\\": (\\d+),\", text)[0]\n",
    "\n",
    "            # Append the list entry of dictionaries to create a dataframe\n",
    "            df_list.append({\"tweet_id\": text_id,\n",
    "                           \"follower_count\": follower_count,\n",
    "                           \"favourites_of_user_count\": favourites_of_user_count,\n",
    "                           \"retweet_count\": retweet_count,\n",
    "                           \"favourite_of_post_count\": favourite_of_post_count})\n",
    "\n",
    "            file.close()\n",
    "\n",
    "\n",
    "    df_additional_data = pd.DataFrame(df_list, columns = [\"tweet_id\", \"follower_count\", \"favourites_of_user_count\", \"retweet_count\", \"favourite_of_post_count\"])\n",
    "    df_additional_data.to_csv(\"api_twitter_status.csv\")"
   ]
  },
  {
   "cell_type": "code",
   "execution_count": 8,
   "metadata": {},
   "outputs": [],
   "source": [
    "# Only needed to run once to create the df\n",
    "#text_to_df()"
   ]
  },
  {
   "cell_type": "code",
   "execution_count": null,
   "metadata": {},
   "outputs": [],
   "source": []
  },
  {
   "cell_type": "markdown",
   "metadata": {},
   "source": [
    "### Download the dog predictions file"
   ]
  },
  {
   "cell_type": "code",
   "execution_count": 9,
   "metadata": {},
   "outputs": [],
   "source": [
    "r = requests.get('https://d17h27t6h515a5.cloudfront.net/topher/2017/August/599fd2ad_image-predictions/image-predictions.tsv').content\n",
    "\n",
    "dog_predictions = pd.read_csv(io.StringIO(r.decode('utf-8')), sep = \"\\t\")\n",
    "\n",
    "dog_predictions.to_csv(\"dog_predictions.csv\")"
   ]
  },
  {
   "cell_type": "markdown",
   "metadata": {},
   "source": [
    "# Asses\n",
    "Now that all needed data is gathered the three data frames are assessed.\n",
    "The dataframes are:\n",
    " - twitter-archives-enhanced.csv\n",
    " - api_twitter_status.csv\n",
    " - dog_predictions.csv\n",
    " \n",
    " *All found issues are recorded at the bottom of this chapter*\n"
   ]
  },
  {
   "cell_type": "code",
   "execution_count": 10,
   "metadata": {},
   "outputs": [],
   "source": [
    "twitter_df = pd.read_csv(\"twitter-archive-enhanced.csv\")\n",
    "api_df = pd.read_csv(\"api_twitter_status.csv\", index_col = 0)\n",
    "dogs_df = pd.read_csv(\"dog_predictions.csv\", index_col = 0)\n",
    "# List of statuses that were not available over the api\n",
    "na_id = pd.read_csv(\"na_ids.csv\")"
   ]
  },
  {
   "cell_type": "code",
   "execution_count": 11,
   "metadata": {},
   "outputs": [
    {
     "data": {
      "text/html": [
       "<div>\n",
       "<style scoped>\n",
       "    .dataframe tbody tr th:only-of-type {\n",
       "        vertical-align: middle;\n",
       "    }\n",
       "\n",
       "    .dataframe tbody tr th {\n",
       "        vertical-align: top;\n",
       "    }\n",
       "\n",
       "    .dataframe thead th {\n",
       "        text-align: right;\n",
       "    }\n",
       "</style>\n",
       "<table border=\"1\" class=\"dataframe\">\n",
       "  <thead>\n",
       "    <tr style=\"text-align: right;\">\n",
       "      <th></th>\n",
       "      <th>tweet_id</th>\n",
       "      <th>in_reply_to_status_id</th>\n",
       "      <th>in_reply_to_user_id</th>\n",
       "      <th>timestamp</th>\n",
       "      <th>source</th>\n",
       "      <th>text</th>\n",
       "      <th>retweeted_status_id</th>\n",
       "      <th>retweeted_status_user_id</th>\n",
       "      <th>retweeted_status_timestamp</th>\n",
       "      <th>expanded_urls</th>\n",
       "      <th>rating_numerator</th>\n",
       "      <th>rating_denominator</th>\n",
       "      <th>name</th>\n",
       "      <th>doggo</th>\n",
       "      <th>floofer</th>\n",
       "      <th>pupper</th>\n",
       "      <th>puppo</th>\n",
       "    </tr>\n",
       "  </thead>\n",
       "  <tbody>\n",
       "    <tr>\n",
       "      <th>931</th>\n",
       "      <td>754120377874386944</td>\n",
       "      <td>NaN</td>\n",
       "      <td>NaN</td>\n",
       "      <td>2016-07-16 01:08:03 +0000</td>\n",
       "      <td>&lt;a href=\"http://twitter.com/download/iphone\" r...</td>\n",
       "      <td>When you hear your owner say they need to hatc...</td>\n",
       "      <td>NaN</td>\n",
       "      <td>NaN</td>\n",
       "      <td>NaN</td>\n",
       "      <td>https://twitter.com/dog_rates/status/754120377...</td>\n",
       "      <td>10</td>\n",
       "      <td>10</td>\n",
       "      <td>None</td>\n",
       "      <td>None</td>\n",
       "      <td>None</td>\n",
       "      <td>None</td>\n",
       "      <td>None</td>\n",
       "    </tr>\n",
       "    <tr>\n",
       "      <th>50</th>\n",
       "      <td>882627270321602560</td>\n",
       "      <td>NaN</td>\n",
       "      <td>NaN</td>\n",
       "      <td>2017-07-05 15:48:34 +0000</td>\n",
       "      <td>&lt;a href=\"http://twitter.com/download/iphone\" r...</td>\n",
       "      <td>This is Stanley. He has his first swim lesson ...</td>\n",
       "      <td>NaN</td>\n",
       "      <td>NaN</td>\n",
       "      <td>NaN</td>\n",
       "      <td>https://twitter.com/dog_rates/status/882627270...</td>\n",
       "      <td>13</td>\n",
       "      <td>10</td>\n",
       "      <td>Stanley</td>\n",
       "      <td>None</td>\n",
       "      <td>None</td>\n",
       "      <td>None</td>\n",
       "      <td>None</td>\n",
       "    </tr>\n",
       "    <tr>\n",
       "      <th>446</th>\n",
       "      <td>819015337530290176</td>\n",
       "      <td>NaN</td>\n",
       "      <td>NaN</td>\n",
       "      <td>2017-01-11 02:57:27 +0000</td>\n",
       "      <td>&lt;a href=\"http://twitter.com/download/iphone\" r...</td>\n",
       "      <td>RT @dog_rates: This is Bo. He was a very good ...</td>\n",
       "      <td>8.190048e+17</td>\n",
       "      <td>4.196984e+09</td>\n",
       "      <td>2017-01-11 02:15:36 +0000</td>\n",
       "      <td>https://twitter.com/dog_rates/status/819004803...</td>\n",
       "      <td>14</td>\n",
       "      <td>10</td>\n",
       "      <td>Bo</td>\n",
       "      <td>doggo</td>\n",
       "      <td>None</td>\n",
       "      <td>None</td>\n",
       "      <td>None</td>\n",
       "    </tr>\n",
       "    <tr>\n",
       "      <th>150</th>\n",
       "      <td>863062471531167744</td>\n",
       "      <td>NaN</td>\n",
       "      <td>NaN</td>\n",
       "      <td>2017-05-12 16:05:02 +0000</td>\n",
       "      <td>&lt;a href=\"http://twitter.com/download/iphone\" r...</td>\n",
       "      <td>Say hello to Quinn. She's quite the goofball. ...</td>\n",
       "      <td>NaN</td>\n",
       "      <td>NaN</td>\n",
       "      <td>NaN</td>\n",
       "      <td>https://www.gofundme.com/helpquinny,https://tw...</td>\n",
       "      <td>13</td>\n",
       "      <td>10</td>\n",
       "      <td>Quinn</td>\n",
       "      <td>None</td>\n",
       "      <td>None</td>\n",
       "      <td>None</td>\n",
       "      <td>None</td>\n",
       "    </tr>\n",
       "    <tr>\n",
       "      <th>1838</th>\n",
       "      <td>675898130735476737</td>\n",
       "      <td>NaN</td>\n",
       "      <td>NaN</td>\n",
       "      <td>2015-12-13 04:40:46 +0000</td>\n",
       "      <td>&lt;a href=\"http://twitter.com/download/iphone\" r...</td>\n",
       "      <td>I'm sure you've all seen this pupper. Not prep...</td>\n",
       "      <td>NaN</td>\n",
       "      <td>NaN</td>\n",
       "      <td>NaN</td>\n",
       "      <td>https://twitter.com/dog_rates/status/675898130...</td>\n",
       "      <td>10</td>\n",
       "      <td>10</td>\n",
       "      <td>None</td>\n",
       "      <td>None</td>\n",
       "      <td>None</td>\n",
       "      <td>pupper</td>\n",
       "      <td>None</td>\n",
       "    </tr>\n",
       "  </tbody>\n",
       "</table>\n",
       "</div>"
      ],
      "text/plain": [
       "                tweet_id  in_reply_to_status_id  in_reply_to_user_id  \\\n",
       "931   754120377874386944                    NaN                  NaN   \n",
       "50    882627270321602560                    NaN                  NaN   \n",
       "446   819015337530290176                    NaN                  NaN   \n",
       "150   863062471531167744                    NaN                  NaN   \n",
       "1838  675898130735476737                    NaN                  NaN   \n",
       "\n",
       "                      timestamp  \\\n",
       "931   2016-07-16 01:08:03 +0000   \n",
       "50    2017-07-05 15:48:34 +0000   \n",
       "446   2017-01-11 02:57:27 +0000   \n",
       "150   2017-05-12 16:05:02 +0000   \n",
       "1838  2015-12-13 04:40:46 +0000   \n",
       "\n",
       "                                                 source  \\\n",
       "931   <a href=\"http://twitter.com/download/iphone\" r...   \n",
       "50    <a href=\"http://twitter.com/download/iphone\" r...   \n",
       "446   <a href=\"http://twitter.com/download/iphone\" r...   \n",
       "150   <a href=\"http://twitter.com/download/iphone\" r...   \n",
       "1838  <a href=\"http://twitter.com/download/iphone\" r...   \n",
       "\n",
       "                                                   text  retweeted_status_id  \\\n",
       "931   When you hear your owner say they need to hatc...                  NaN   \n",
       "50    This is Stanley. He has his first swim lesson ...                  NaN   \n",
       "446   RT @dog_rates: This is Bo. He was a very good ...         8.190048e+17   \n",
       "150   Say hello to Quinn. She's quite the goofball. ...                  NaN   \n",
       "1838  I'm sure you've all seen this pupper. Not prep...                  NaN   \n",
       "\n",
       "      retweeted_status_user_id retweeted_status_timestamp  \\\n",
       "931                        NaN                        NaN   \n",
       "50                         NaN                        NaN   \n",
       "446               4.196984e+09  2017-01-11 02:15:36 +0000   \n",
       "150                        NaN                        NaN   \n",
       "1838                       NaN                        NaN   \n",
       "\n",
       "                                          expanded_urls  rating_numerator  \\\n",
       "931   https://twitter.com/dog_rates/status/754120377...                10   \n",
       "50    https://twitter.com/dog_rates/status/882627270...                13   \n",
       "446   https://twitter.com/dog_rates/status/819004803...                14   \n",
       "150   https://www.gofundme.com/helpquinny,https://tw...                13   \n",
       "1838  https://twitter.com/dog_rates/status/675898130...                10   \n",
       "\n",
       "      rating_denominator     name  doggo floofer  pupper puppo  \n",
       "931                   10     None   None    None    None  None  \n",
       "50                    10  Stanley   None    None    None  None  \n",
       "446                   10       Bo  doggo    None    None  None  \n",
       "150                   10    Quinn   None    None    None  None  \n",
       "1838                  10     None   None    None  pupper  None  "
      ]
     },
     "execution_count": 11,
     "metadata": {},
     "output_type": "execute_result"
    }
   ],
   "source": [
    "twitter_df.sample(5)"
   ]
  },
  {
   "cell_type": "code",
   "execution_count": 12,
   "metadata": {},
   "outputs": [
    {
     "name": "stdout",
     "output_type": "stream",
     "text": [
      "<class 'pandas.core.frame.DataFrame'>\n",
      "RangeIndex: 2356 entries, 0 to 2355\n",
      "Data columns (total 17 columns):\n",
      "tweet_id                      2356 non-null int64\n",
      "in_reply_to_status_id         78 non-null float64\n",
      "in_reply_to_user_id           78 non-null float64\n",
      "timestamp                     2356 non-null object\n",
      "source                        2356 non-null object\n",
      "text                          2356 non-null object\n",
      "retweeted_status_id           181 non-null float64\n",
      "retweeted_status_user_id      181 non-null float64\n",
      "retweeted_status_timestamp    181 non-null object\n",
      "expanded_urls                 2297 non-null object\n",
      "rating_numerator              2356 non-null int64\n",
      "rating_denominator            2356 non-null int64\n",
      "name                          2356 non-null object\n",
      "doggo                         2356 non-null object\n",
      "floofer                       2356 non-null object\n",
      "pupper                        2356 non-null object\n",
      "puppo                         2356 non-null object\n",
      "dtypes: float64(4), int64(3), object(10)\n",
      "memory usage: 313.0+ KB\n"
     ]
    }
   ],
   "source": [
    "twitter_df.info()"
   ]
  },
  {
   "cell_type": "code",
   "execution_count": 13,
   "metadata": {},
   "outputs": [
    {
     "data": {
      "text/plain": [
       "str"
      ]
     },
     "execution_count": 13,
     "metadata": {},
     "output_type": "execute_result"
    }
   ],
   "source": [
    "type(twitter_df.timestamp[0])"
   ]
  },
  {
   "cell_type": "code",
   "execution_count": 14,
   "metadata": {},
   "outputs": [
    {
     "data": {
      "text/plain": [
       "NaN             2278\n",
       "6.671522e+17       2\n",
       "6.737159e+17       1\n",
       "6.753494e+17       1\n",
       "6.754971e+17       1\n",
       "                ... \n",
       "8.707262e+17       1\n",
       "8.482121e+17       1\n",
       "6.715449e+17       1\n",
       "6.936422e+17       1\n",
       "8.406983e+17       1\n",
       "Name: in_reply_to_status_id, Length: 78, dtype: int64"
      ]
     },
     "execution_count": 14,
     "metadata": {},
     "output_type": "execute_result"
    }
   ],
   "source": [
    "twitter_df.in_reply_to_status_id.value_counts(dropna = False)"
   ]
  },
  {
   "cell_type": "code",
   "execution_count": 15,
   "metadata": {},
   "outputs": [
    {
     "data": {
      "text/plain": [
       "<a href=\"http://twitter.com/download/iphone\" rel=\"nofollow\">Twitter for iPhone</a>     2221\n",
       "<a href=\"http://vine.co\" rel=\"nofollow\">Vine - Make a Scene</a>                          91\n",
       "<a href=\"http://twitter.com\" rel=\"nofollow\">Twitter Web Client</a>                       33\n",
       "<a href=\"https://about.twitter.com/products/tweetdeck\" rel=\"nofollow\">TweetDeck</a>      11\n",
       "Name: source, dtype: int64"
      ]
     },
     "execution_count": 15,
     "metadata": {},
     "output_type": "execute_result"
    }
   ],
   "source": [
    "twitter_df.source.value_counts()"
   ]
  },
  {
   "cell_type": "code",
   "execution_count": 16,
   "metadata": {},
   "outputs": [
    {
     "data": {
      "text/plain": [
       "0"
      ]
     },
     "execution_count": 16,
     "metadata": {},
     "output_type": "execute_result"
    }
   ],
   "source": [
    "twitter_df.duplicated().sum()"
   ]
  },
  {
   "cell_type": "code",
   "execution_count": 17,
   "metadata": {},
   "outputs": [
    {
     "data": {
      "text/html": [
       "<div>\n",
       "<style scoped>\n",
       "    .dataframe tbody tr th:only-of-type {\n",
       "        vertical-align: middle;\n",
       "    }\n",
       "\n",
       "    .dataframe tbody tr th {\n",
       "        vertical-align: top;\n",
       "    }\n",
       "\n",
       "    .dataframe thead th {\n",
       "        text-align: right;\n",
       "    }\n",
       "</style>\n",
       "<table border=\"1\" class=\"dataframe\">\n",
       "  <thead>\n",
       "    <tr style=\"text-align: right;\">\n",
       "      <th></th>\n",
       "      <th>tweet_id</th>\n",
       "      <th>follower_count</th>\n",
       "      <th>favourites_of_user_count</th>\n",
       "      <th>retweet_count</th>\n",
       "      <th>favourite_of_post_count</th>\n",
       "    </tr>\n",
       "  </thead>\n",
       "  <tbody>\n",
       "    <tr>\n",
       "      <th>1623</th>\n",
       "      <td>822872901745569793</td>\n",
       "      <td>8709205</td>\n",
       "      <td>144674</td>\n",
       "      <td>44329</td>\n",
       "      <td>134543</td>\n",
       "    </tr>\n",
       "    <tr>\n",
       "      <th>388</th>\n",
       "      <td>690728923253055490</td>\n",
       "      <td>8709217</td>\n",
       "      <td>144674</td>\n",
       "      <td>519</td>\n",
       "      <td>2189</td>\n",
       "    </tr>\n",
       "    <tr>\n",
       "      <th>267</th>\n",
       "      <td>692752401762250755</td>\n",
       "      <td>8709217</td>\n",
       "      <td>144674</td>\n",
       "      <td>3658</td>\n",
       "      <td>6858</td>\n",
       "    </tr>\n",
       "    <tr>\n",
       "      <th>774</th>\n",
       "      <td>770414278348247044</td>\n",
       "      <td>8709208</td>\n",
       "      <td>144674</td>\n",
       "      <td>2138</td>\n",
       "      <td>6454</td>\n",
       "    </tr>\n",
       "    <tr>\n",
       "      <th>2147</th>\n",
       "      <td>708711088997666817</td>\n",
       "      <td>8709216</td>\n",
       "      <td>144674</td>\n",
       "      <td>723</td>\n",
       "      <td>2557</td>\n",
       "    </tr>\n",
       "  </tbody>\n",
       "</table>\n",
       "</div>"
      ],
      "text/plain": [
       "                tweet_id  follower_count  favourites_of_user_count  \\\n",
       "1623  822872901745569793         8709205                    144674   \n",
       "388   690728923253055490         8709217                    144674   \n",
       "267   692752401762250755         8709217                    144674   \n",
       "774   770414278348247044         8709208                    144674   \n",
       "2147  708711088997666817         8709216                    144674   \n",
       "\n",
       "      retweet_count  favourite_of_post_count  \n",
       "1623          44329                   134543  \n",
       "388             519                     2189  \n",
       "267            3658                     6858  \n",
       "774            2138                     6454  \n",
       "2147            723                     2557  "
      ]
     },
     "execution_count": 17,
     "metadata": {},
     "output_type": "execute_result"
    }
   ],
   "source": [
    "api_df.sample(5)"
   ]
  },
  {
   "cell_type": "code",
   "execution_count": 18,
   "metadata": {},
   "outputs": [
    {
     "name": "stdout",
     "output_type": "stream",
     "text": [
      "<class 'pandas.core.frame.DataFrame'>\n",
      "Int64Index: 2331 entries, 0 to 2330\n",
      "Data columns (total 5 columns):\n",
      "tweet_id                    2331 non-null int64\n",
      "follower_count              2331 non-null int64\n",
      "favourites_of_user_count    2331 non-null int64\n",
      "retweet_count               2331 non-null int64\n",
      "favourite_of_post_count     2331 non-null int64\n",
      "dtypes: int64(5)\n",
      "memory usage: 109.3 KB\n"
     ]
    }
   ],
   "source": [
    "api_df.info()"
   ]
  },
  {
   "cell_type": "code",
   "execution_count": 19,
   "metadata": {},
   "outputs": [
    {
     "data": {
      "text/plain": [
       "0"
      ]
     },
     "execution_count": 19,
     "metadata": {},
     "output_type": "execute_result"
    }
   ],
   "source": [
    "api_df.duplicated().sum()"
   ]
  },
  {
   "cell_type": "code",
   "execution_count": 20,
   "metadata": {},
   "outputs": [
    {
     "data": {
      "text/html": [
       "<div>\n",
       "<style scoped>\n",
       "    .dataframe tbody tr th:only-of-type {\n",
       "        vertical-align: middle;\n",
       "    }\n",
       "\n",
       "    .dataframe tbody tr th {\n",
       "        vertical-align: top;\n",
       "    }\n",
       "\n",
       "    .dataframe thead th {\n",
       "        text-align: right;\n",
       "    }\n",
       "</style>\n",
       "<table border=\"1\" class=\"dataframe\">\n",
       "  <thead>\n",
       "    <tr style=\"text-align: right;\">\n",
       "      <th></th>\n",
       "      <th>tweet_id</th>\n",
       "      <th>jpg_url</th>\n",
       "      <th>img_num</th>\n",
       "      <th>p1</th>\n",
       "      <th>p1_conf</th>\n",
       "      <th>p1_dog</th>\n",
       "      <th>p2</th>\n",
       "      <th>p2_conf</th>\n",
       "      <th>p2_dog</th>\n",
       "      <th>p3</th>\n",
       "      <th>p3_conf</th>\n",
       "      <th>p3_dog</th>\n",
       "    </tr>\n",
       "  </thead>\n",
       "  <tbody>\n",
       "    <tr>\n",
       "      <th>255</th>\n",
       "      <td>670755717859713024</td>\n",
       "      <td>https://pbs.twimg.com/media/CU8AwZ_UsAA-Lbu.jpg</td>\n",
       "      <td>1</td>\n",
       "      <td>keeshond</td>\n",
       "      <td>0.994065</td>\n",
       "      <td>True</td>\n",
       "      <td>Norwegian_elkhound</td>\n",
       "      <td>0.001827</td>\n",
       "      <td>True</td>\n",
       "      <td>cairn</td>\n",
       "      <td>0.001821</td>\n",
       "      <td>True</td>\n",
       "    </tr>\n",
       "    <tr>\n",
       "      <th>1382</th>\n",
       "      <td>765395769549590528</td>\n",
       "      <td>https://pbs.twimg.com/media/Cp87Y0jXYAQyjuV.jpg</td>\n",
       "      <td>1</td>\n",
       "      <td>Pembroke</td>\n",
       "      <td>0.509491</td>\n",
       "      <td>True</td>\n",
       "      <td>Cardigan</td>\n",
       "      <td>0.330401</td>\n",
       "      <td>True</td>\n",
       "      <td>Shetland_sheepdog</td>\n",
       "      <td>0.038875</td>\n",
       "      <td>True</td>\n",
       "    </tr>\n",
       "    <tr>\n",
       "      <th>499</th>\n",
       "      <td>675822767435051008</td>\n",
       "      <td>https://pbs.twimg.com/media/CWEBOFYWwAA-O2c.jpg</td>\n",
       "      <td>1</td>\n",
       "      <td>Pomeranian</td>\n",
       "      <td>0.460710</td>\n",
       "      <td>True</td>\n",
       "      <td>chow</td>\n",
       "      <td>0.202765</td>\n",
       "      <td>True</td>\n",
       "      <td>Pekinese</td>\n",
       "      <td>0.133266</td>\n",
       "      <td>True</td>\n",
       "    </tr>\n",
       "    <tr>\n",
       "      <th>1088</th>\n",
       "      <td>718971898235854848</td>\n",
       "      <td>https://pbs.twimg.com/media/CfpNGTHUIAAA8XC.jpg</td>\n",
       "      <td>1</td>\n",
       "      <td>golden_retriever</td>\n",
       "      <td>0.140394</td>\n",
       "      <td>True</td>\n",
       "      <td>Saint_Bernard</td>\n",
       "      <td>0.118769</td>\n",
       "      <td>True</td>\n",
       "      <td>Labrador_retriever</td>\n",
       "      <td>0.075492</td>\n",
       "      <td>True</td>\n",
       "    </tr>\n",
       "    <tr>\n",
       "      <th>558</th>\n",
       "      <td>677698403548192770</td>\n",
       "      <td>https://pbs.twimg.com/media/CWerGmOXAAAm6NY.jpg</td>\n",
       "      <td>1</td>\n",
       "      <td>Shih-Tzu</td>\n",
       "      <td>0.916645</td>\n",
       "      <td>True</td>\n",
       "      <td>Lhasa</td>\n",
       "      <td>0.057883</td>\n",
       "      <td>True</td>\n",
       "      <td>Pekinese</td>\n",
       "      <td>0.020126</td>\n",
       "      <td>True</td>\n",
       "    </tr>\n",
       "  </tbody>\n",
       "</table>\n",
       "</div>"
      ],
      "text/plain": [
       "                tweet_id                                          jpg_url  \\\n",
       "255   670755717859713024  https://pbs.twimg.com/media/CU8AwZ_UsAA-Lbu.jpg   \n",
       "1382  765395769549590528  https://pbs.twimg.com/media/Cp87Y0jXYAQyjuV.jpg   \n",
       "499   675822767435051008  https://pbs.twimg.com/media/CWEBOFYWwAA-O2c.jpg   \n",
       "1088  718971898235854848  https://pbs.twimg.com/media/CfpNGTHUIAAA8XC.jpg   \n",
       "558   677698403548192770  https://pbs.twimg.com/media/CWerGmOXAAAm6NY.jpg   \n",
       "\n",
       "      img_num                p1   p1_conf  p1_dog                  p2  \\\n",
       "255         1          keeshond  0.994065    True  Norwegian_elkhound   \n",
       "1382        1          Pembroke  0.509491    True            Cardigan   \n",
       "499         1        Pomeranian  0.460710    True                chow   \n",
       "1088        1  golden_retriever  0.140394    True       Saint_Bernard   \n",
       "558         1          Shih-Tzu  0.916645    True               Lhasa   \n",
       "\n",
       "       p2_conf  p2_dog                  p3   p3_conf  p3_dog  \n",
       "255   0.001827    True               cairn  0.001821    True  \n",
       "1382  0.330401    True   Shetland_sheepdog  0.038875    True  \n",
       "499   0.202765    True            Pekinese  0.133266    True  \n",
       "1088  0.118769    True  Labrador_retriever  0.075492    True  \n",
       "558   0.057883    True            Pekinese  0.020126    True  "
      ]
     },
     "execution_count": 20,
     "metadata": {},
     "output_type": "execute_result"
    }
   ],
   "source": [
    "dogs_df.sample(5)"
   ]
  },
  {
   "cell_type": "code",
   "execution_count": 21,
   "metadata": {},
   "outputs": [
    {
     "name": "stdout",
     "output_type": "stream",
     "text": [
      "<class 'pandas.core.frame.DataFrame'>\n",
      "Int64Index: 2075 entries, 0 to 2074\n",
      "Data columns (total 12 columns):\n",
      "tweet_id    2075 non-null int64\n",
      "jpg_url     2075 non-null object\n",
      "img_num     2075 non-null int64\n",
      "p1          2075 non-null object\n",
      "p1_conf     2075 non-null float64\n",
      "p1_dog      2075 non-null bool\n",
      "p2          2075 non-null object\n",
      "p2_conf     2075 non-null float64\n",
      "p2_dog      2075 non-null bool\n",
      "p3          2075 non-null object\n",
      "p3_conf     2075 non-null float64\n",
      "p3_dog      2075 non-null bool\n",
      "dtypes: bool(3), float64(3), int64(2), object(4)\n",
      "memory usage: 168.2+ KB\n"
     ]
    }
   ],
   "source": [
    "dogs_df.info()"
   ]
  },
  {
   "cell_type": "code",
   "execution_count": 22,
   "metadata": {},
   "outputs": [
    {
     "data": {
      "text/plain": [
       "golden_retriever      150\n",
       "Labrador_retriever    100\n",
       "Pembroke               89\n",
       "Chihuahua              83\n",
       "pug                    57\n",
       "                     ... \n",
       "wooden_spoon            1\n",
       "marmot                  1\n",
       "quilt                   1\n",
       "maillot                 1\n",
       "flamingo                1\n",
       "Name: p1, Length: 378, dtype: int64"
      ]
     },
     "execution_count": 22,
     "metadata": {},
     "output_type": "execute_result"
    }
   ],
   "source": [
    "dogs_df.p1.value_counts()"
   ]
  },
  {
   "cell_type": "code",
   "execution_count": 23,
   "metadata": {},
   "outputs": [
    {
     "data": {
      "text/plain": [
       "0"
      ]
     },
     "execution_count": 23,
     "metadata": {},
     "output_type": "execute_result"
    }
   ],
   "source": [
    "dogs_df.duplicated().sum()"
   ]
  },
  {
   "cell_type": "markdown",
   "metadata": {},
   "source": [
    "## Recording of issues\n",
    "### Quality issues (dirty data, content issues)\n",
    " - Completeness: Is something missing?\n",
    " - Validity: Records are present but are faulty or in the wrong scheme\n",
    " - Accuracy: Records that are valid but have inaccurate measurements\n",
    " - Consistency: Technical correct but in different formats across tables or rows\n",
    "#### twitter table\n",
    " - Retweets are included although they are not of interest\n",
    " - Replies to other statuses included although they are not of interest\n",
    " - Replies to users included although they are not of interest\n",
    " - Source column does not hold any valuable information\n",
    " - Timestamp is of type string\n",
    " - tweet_id is of type int\n",
    " - Remove columns without information\n",
    "#### api table\n",
    " - tweet_id is of type int\n",
    " - Has missing tweets compared to the twitter table\n",
    "#### dogs table\n",
    " - Naming of dog type is incoherent\n",
    " - tweet_id is of type int\n",
    " - Has missing tweets compared to the twitter table\n",
    "### Tidyness iddues (structural issues)\n",
    " - Type of dog in the twitter table is streched over the last four columns although it is one variable\n",
    " - The twitter table and the api table are the same type of an observational unit (a twitter post)\n"
   ]
  },
  {
   "cell_type": "markdown",
   "metadata": {},
   "source": [
    "# Cleaning the data"
   ]
  },
  {
   "cell_type": "code",
   "execution_count": 24,
   "metadata": {},
   "outputs": [],
   "source": [
    "t_clean = twitter_df.copy()\n",
    "a_clean = api_df.copy()\n",
    "d_clean = dogs_df.copy()"
   ]
  },
  {
   "cell_type": "markdown",
   "metadata": {},
   "source": [
    "### `twitter and api table` are the same type of an observational unit and api table has missing tweets\n",
    "#### Define\n",
    "Merge the two tables together on the tweet_id. Since the api table has less observations an inner merge on the ids available in both tables resolves two issues at the same time."
   ]
  },
  {
   "cell_type": "markdown",
   "metadata": {},
   "source": [
    "#### Code"
   ]
  },
  {
   "cell_type": "code",
   "execution_count": 25,
   "metadata": {},
   "outputs": [
    {
     "data": {
      "text/html": [
       "<div>\n",
       "<style scoped>\n",
       "    .dataframe tbody tr th:only-of-type {\n",
       "        vertical-align: middle;\n",
       "    }\n",
       "\n",
       "    .dataframe tbody tr th {\n",
       "        vertical-align: top;\n",
       "    }\n",
       "\n",
       "    .dataframe thead th {\n",
       "        text-align: right;\n",
       "    }\n",
       "</style>\n",
       "<table border=\"1\" class=\"dataframe\">\n",
       "  <thead>\n",
       "    <tr style=\"text-align: right;\">\n",
       "      <th></th>\n",
       "      <th>tweet_id</th>\n",
       "      <th>in_reply_to_status_id</th>\n",
       "      <th>in_reply_to_user_id</th>\n",
       "      <th>timestamp</th>\n",
       "      <th>source</th>\n",
       "      <th>text</th>\n",
       "      <th>retweeted_status_id</th>\n",
       "      <th>retweeted_status_user_id</th>\n",
       "      <th>retweeted_status_timestamp</th>\n",
       "      <th>expanded_urls</th>\n",
       "      <th>rating_numerator</th>\n",
       "      <th>rating_denominator</th>\n",
       "      <th>name</th>\n",
       "      <th>doggo</th>\n",
       "      <th>floofer</th>\n",
       "      <th>pupper</th>\n",
       "      <th>puppo</th>\n",
       "    </tr>\n",
       "  </thead>\n",
       "  <tbody>\n",
       "    <tr>\n",
       "      <th>0</th>\n",
       "      <td>892420643555336193</td>\n",
       "      <td>NaN</td>\n",
       "      <td>NaN</td>\n",
       "      <td>2017-08-01 16:23:56 +0000</td>\n",
       "      <td>&lt;a href=\"http://twitter.com/download/iphone\" r...</td>\n",
       "      <td>This is Phineas. He's a mystical boy. Only eve...</td>\n",
       "      <td>NaN</td>\n",
       "      <td>NaN</td>\n",
       "      <td>NaN</td>\n",
       "      <td>https://twitter.com/dog_rates/status/892420643...</td>\n",
       "      <td>13</td>\n",
       "      <td>10</td>\n",
       "      <td>Phineas</td>\n",
       "      <td>None</td>\n",
       "      <td>None</td>\n",
       "      <td>None</td>\n",
       "      <td>None</td>\n",
       "    </tr>\n",
       "  </tbody>\n",
       "</table>\n",
       "</div>"
      ],
      "text/plain": [
       "             tweet_id  in_reply_to_status_id  in_reply_to_user_id  \\\n",
       "0  892420643555336193                    NaN                  NaN   \n",
       "\n",
       "                   timestamp  \\\n",
       "0  2017-08-01 16:23:56 +0000   \n",
       "\n",
       "                                              source  \\\n",
       "0  <a href=\"http://twitter.com/download/iphone\" r...   \n",
       "\n",
       "                                                text  retweeted_status_id  \\\n",
       "0  This is Phineas. He's a mystical boy. Only eve...                  NaN   \n",
       "\n",
       "   retweeted_status_user_id retweeted_status_timestamp  \\\n",
       "0                       NaN                        NaN   \n",
       "\n",
       "                                       expanded_urls  rating_numerator  \\\n",
       "0  https://twitter.com/dog_rates/status/892420643...                13   \n",
       "\n",
       "   rating_denominator     name doggo floofer pupper puppo  \n",
       "0                  10  Phineas  None    None   None  None  "
      ]
     },
     "execution_count": 25,
     "metadata": {},
     "output_type": "execute_result"
    }
   ],
   "source": [
    "t_clean.head(1)"
   ]
  },
  {
   "cell_type": "code",
   "execution_count": 26,
   "metadata": {},
   "outputs": [
    {
     "data": {
      "text/html": [
       "<div>\n",
       "<style scoped>\n",
       "    .dataframe tbody tr th:only-of-type {\n",
       "        vertical-align: middle;\n",
       "    }\n",
       "\n",
       "    .dataframe tbody tr th {\n",
       "        vertical-align: top;\n",
       "    }\n",
       "\n",
       "    .dataframe thead th {\n",
       "        text-align: right;\n",
       "    }\n",
       "</style>\n",
       "<table border=\"1\" class=\"dataframe\">\n",
       "  <thead>\n",
       "    <tr style=\"text-align: right;\">\n",
       "      <th></th>\n",
       "      <th>tweet_id</th>\n",
       "      <th>follower_count</th>\n",
       "      <th>favourites_of_user_count</th>\n",
       "      <th>retweet_count</th>\n",
       "      <th>favourite_of_post_count</th>\n",
       "    </tr>\n",
       "  </thead>\n",
       "  <tbody>\n",
       "    <tr>\n",
       "      <th>0</th>\n",
       "      <td>684588130326986752</td>\n",
       "      <td>8709217</td>\n",
       "      <td>144674</td>\n",
       "      <td>1419</td>\n",
       "      <td>4146</td>\n",
       "    </tr>\n",
       "  </tbody>\n",
       "</table>\n",
       "</div>"
      ],
      "text/plain": [
       "             tweet_id  follower_count  favourites_of_user_count  \\\n",
       "0  684588130326986752         8709217                    144674   \n",
       "\n",
       "   retweet_count  favourite_of_post_count  \n",
       "0           1419                     4146  "
      ]
     },
     "execution_count": 26,
     "metadata": {},
     "output_type": "execute_result"
    }
   ],
   "source": [
    "a_clean.head(1)"
   ]
  },
  {
   "cell_type": "code",
   "execution_count": 27,
   "metadata": {},
   "outputs": [],
   "source": [
    "status_df = t_clean.merge(a_clean, how = \"inner\", on = \"tweet_id\")"
   ]
  },
  {
   "cell_type": "markdown",
   "metadata": {},
   "source": [
    "#### Test"
   ]
  },
  {
   "cell_type": "code",
   "execution_count": 28,
   "metadata": {},
   "outputs": [
    {
     "data": {
      "text/html": [
       "<div>\n",
       "<style scoped>\n",
       "    .dataframe tbody tr th:only-of-type {\n",
       "        vertical-align: middle;\n",
       "    }\n",
       "\n",
       "    .dataframe tbody tr th {\n",
       "        vertical-align: top;\n",
       "    }\n",
       "\n",
       "    .dataframe thead th {\n",
       "        text-align: right;\n",
       "    }\n",
       "</style>\n",
       "<table border=\"1\" class=\"dataframe\">\n",
       "  <thead>\n",
       "    <tr style=\"text-align: right;\">\n",
       "      <th></th>\n",
       "      <th>tweet_id</th>\n",
       "      <th>in_reply_to_status_id</th>\n",
       "      <th>in_reply_to_user_id</th>\n",
       "      <th>timestamp</th>\n",
       "      <th>source</th>\n",
       "      <th>text</th>\n",
       "      <th>retweeted_status_id</th>\n",
       "      <th>retweeted_status_user_id</th>\n",
       "      <th>retweeted_status_timestamp</th>\n",
       "      <th>expanded_urls</th>\n",
       "      <th>...</th>\n",
       "      <th>rating_denominator</th>\n",
       "      <th>name</th>\n",
       "      <th>doggo</th>\n",
       "      <th>floofer</th>\n",
       "      <th>pupper</th>\n",
       "      <th>puppo</th>\n",
       "      <th>follower_count</th>\n",
       "      <th>favourites_of_user_count</th>\n",
       "      <th>retweet_count</th>\n",
       "      <th>favourite_of_post_count</th>\n",
       "    </tr>\n",
       "  </thead>\n",
       "  <tbody>\n",
       "    <tr>\n",
       "      <th>0</th>\n",
       "      <td>892420643555336193</td>\n",
       "      <td>NaN</td>\n",
       "      <td>NaN</td>\n",
       "      <td>2017-08-01 16:23:56 +0000</td>\n",
       "      <td>&lt;a href=\"http://twitter.com/download/iphone\" r...</td>\n",
       "      <td>This is Phineas. He's a mystical boy. Only eve...</td>\n",
       "      <td>NaN</td>\n",
       "      <td>NaN</td>\n",
       "      <td>NaN</td>\n",
       "      <td>https://twitter.com/dog_rates/status/892420643...</td>\n",
       "      <td>...</td>\n",
       "      <td>10</td>\n",
       "      <td>Phineas</td>\n",
       "      <td>None</td>\n",
       "      <td>None</td>\n",
       "      <td>None</td>\n",
       "      <td>None</td>\n",
       "      <td>8709203</td>\n",
       "      <td>144674</td>\n",
       "      <td>7776</td>\n",
       "      <td>36526</td>\n",
       "    </tr>\n",
       "  </tbody>\n",
       "</table>\n",
       "<p>1 rows × 21 columns</p>\n",
       "</div>"
      ],
      "text/plain": [
       "             tweet_id  in_reply_to_status_id  in_reply_to_user_id  \\\n",
       "0  892420643555336193                    NaN                  NaN   \n",
       "\n",
       "                   timestamp  \\\n",
       "0  2017-08-01 16:23:56 +0000   \n",
       "\n",
       "                                              source  \\\n",
       "0  <a href=\"http://twitter.com/download/iphone\" r...   \n",
       "\n",
       "                                                text  retweeted_status_id  \\\n",
       "0  This is Phineas. He's a mystical boy. Only eve...                  NaN   \n",
       "\n",
       "   retweeted_status_user_id retweeted_status_timestamp  \\\n",
       "0                       NaN                        NaN   \n",
       "\n",
       "                                       expanded_urls  ...  rating_denominator  \\\n",
       "0  https://twitter.com/dog_rates/status/892420643...  ...                  10   \n",
       "\n",
       "      name doggo floofer pupper puppo follower_count  \\\n",
       "0  Phineas  None    None   None  None        8709203   \n",
       "\n",
       "   favourites_of_user_count  retweet_count  favourite_of_post_count  \n",
       "0                    144674           7776                    36526  \n",
       "\n",
       "[1 rows x 21 columns]"
      ]
     },
     "execution_count": 28,
     "metadata": {},
     "output_type": "execute_result"
    }
   ],
   "source": [
    "status_df.head(1)"
   ]
  },
  {
   "cell_type": "code",
   "execution_count": 29,
   "metadata": {},
   "outputs": [
    {
     "name": "stdout",
     "output_type": "stream",
     "text": [
      "<class 'pandas.core.frame.DataFrame'>\n",
      "Int64Index: 2331 entries, 0 to 2330\n",
      "Data columns (total 21 columns):\n",
      "tweet_id                      2331 non-null int64\n",
      "in_reply_to_status_id         78 non-null float64\n",
      "in_reply_to_user_id           78 non-null float64\n",
      "timestamp                     2331 non-null object\n",
      "source                        2331 non-null object\n",
      "text                          2331 non-null object\n",
      "retweeted_status_id           163 non-null float64\n",
      "retweeted_status_user_id      163 non-null float64\n",
      "retweeted_status_timestamp    163 non-null object\n",
      "expanded_urls                 2272 non-null object\n",
      "rating_numerator              2331 non-null int64\n",
      "rating_denominator            2331 non-null int64\n",
      "name                          2331 non-null object\n",
      "doggo                         2331 non-null object\n",
      "floofer                       2331 non-null object\n",
      "pupper                        2331 non-null object\n",
      "puppo                         2331 non-null object\n",
      "follower_count                2331 non-null int64\n",
      "favourites_of_user_count      2331 non-null int64\n",
      "retweet_count                 2331 non-null int64\n",
      "favourite_of_post_count       2331 non-null int64\n",
      "dtypes: float64(4), int64(7), object(10)\n",
      "memory usage: 400.6+ KB\n"
     ]
    }
   ],
   "source": [
    "status_df.info()"
   ]
  },
  {
   "cell_type": "markdown",
   "metadata": {},
   "source": [
    "### `twitter table` (now status_df table) Type of dog in the twitter table is streched over the last four columns although it is one variable\n",
    "#### Define\n",
    "Make a new column with a variable for the type of dog and get rid of the four type of dog columns."
   ]
  },
  {
   "cell_type": "markdown",
   "metadata": {},
   "source": [
    "#### Code"
   ]
  },
  {
   "cell_type": "code",
   "execution_count": 30,
   "metadata": {},
   "outputs": [
    {
     "data": {
      "text/html": [
       "<div>\n",
       "<style scoped>\n",
       "    .dataframe tbody tr th:only-of-type {\n",
       "        vertical-align: middle;\n",
       "    }\n",
       "\n",
       "    .dataframe tbody tr th {\n",
       "        vertical-align: top;\n",
       "    }\n",
       "\n",
       "    .dataframe thead th {\n",
       "        text-align: right;\n",
       "    }\n",
       "</style>\n",
       "<table border=\"1\" class=\"dataframe\">\n",
       "  <thead>\n",
       "    <tr style=\"text-align: right;\">\n",
       "      <th></th>\n",
       "      <th>tweet_id</th>\n",
       "      <th>in_reply_to_status_id</th>\n",
       "      <th>in_reply_to_user_id</th>\n",
       "      <th>timestamp</th>\n",
       "      <th>source</th>\n",
       "      <th>text</th>\n",
       "      <th>retweeted_status_id</th>\n",
       "      <th>retweeted_status_user_id</th>\n",
       "      <th>retweeted_status_timestamp</th>\n",
       "      <th>expanded_urls</th>\n",
       "      <th>...</th>\n",
       "      <th>rating_denominator</th>\n",
       "      <th>name</th>\n",
       "      <th>doggo</th>\n",
       "      <th>floofer</th>\n",
       "      <th>pupper</th>\n",
       "      <th>puppo</th>\n",
       "      <th>follower_count</th>\n",
       "      <th>favourites_of_user_count</th>\n",
       "      <th>retweet_count</th>\n",
       "      <th>favourite_of_post_count</th>\n",
       "    </tr>\n",
       "  </thead>\n",
       "  <tbody>\n",
       "    <tr>\n",
       "      <th>0</th>\n",
       "      <td>892420643555336193</td>\n",
       "      <td>NaN</td>\n",
       "      <td>NaN</td>\n",
       "      <td>2017-08-01 16:23:56 +0000</td>\n",
       "      <td>&lt;a href=\"http://twitter.com/download/iphone\" r...</td>\n",
       "      <td>This is Phineas. He's a mystical boy. Only eve...</td>\n",
       "      <td>NaN</td>\n",
       "      <td>NaN</td>\n",
       "      <td>NaN</td>\n",
       "      <td>https://twitter.com/dog_rates/status/892420643...</td>\n",
       "      <td>...</td>\n",
       "      <td>10</td>\n",
       "      <td>Phineas</td>\n",
       "      <td>None</td>\n",
       "      <td>None</td>\n",
       "      <td>None</td>\n",
       "      <td>None</td>\n",
       "      <td>8709203</td>\n",
       "      <td>144674</td>\n",
       "      <td>7776</td>\n",
       "      <td>36526</td>\n",
       "    </tr>\n",
       "  </tbody>\n",
       "</table>\n",
       "<p>1 rows × 21 columns</p>\n",
       "</div>"
      ],
      "text/plain": [
       "             tweet_id  in_reply_to_status_id  in_reply_to_user_id  \\\n",
       "0  892420643555336193                    NaN                  NaN   \n",
       "\n",
       "                   timestamp  \\\n",
       "0  2017-08-01 16:23:56 +0000   \n",
       "\n",
       "                                              source  \\\n",
       "0  <a href=\"http://twitter.com/download/iphone\" r...   \n",
       "\n",
       "                                                text  retweeted_status_id  \\\n",
       "0  This is Phineas. He's a mystical boy. Only eve...                  NaN   \n",
       "\n",
       "   retweeted_status_user_id retweeted_status_timestamp  \\\n",
       "0                       NaN                        NaN   \n",
       "\n",
       "                                       expanded_urls  ...  rating_denominator  \\\n",
       "0  https://twitter.com/dog_rates/status/892420643...  ...                  10   \n",
       "\n",
       "      name doggo floofer pupper puppo follower_count  \\\n",
       "0  Phineas  None    None   None  None        8709203   \n",
       "\n",
       "   favourites_of_user_count  retweet_count  favourite_of_post_count  \n",
       "0                    144674           7776                    36526  \n",
       "\n",
       "[1 rows x 21 columns]"
      ]
     },
     "execution_count": 30,
     "metadata": {},
     "output_type": "execute_result"
    }
   ],
   "source": [
    "status_df.head(1)"
   ]
  },
  {
   "cell_type": "code",
   "execution_count": 31,
   "metadata": {},
   "outputs": [],
   "source": [
    "# If no dogtype is present one of the dogtype gets an entry so it is easier to clean after melting\n",
    "for i in range(len(status_df)):\n",
    "    if status_df.iloc[i,13]==status_df.iloc[i,14]==status_df.iloc[i,15]==status_df.iloc[i,16]:\n",
    "        status_df.loc[i, \"doggo\"] = \"no dogtype\""
   ]
  },
  {
   "cell_type": "code",
   "execution_count": 32,
   "metadata": {},
   "outputs": [
    {
     "data": {
      "text/html": [
       "<div>\n",
       "<style scoped>\n",
       "    .dataframe tbody tr th:only-of-type {\n",
       "        vertical-align: middle;\n",
       "    }\n",
       "\n",
       "    .dataframe tbody tr th {\n",
       "        vertical-align: top;\n",
       "    }\n",
       "\n",
       "    .dataframe thead th {\n",
       "        text-align: right;\n",
       "    }\n",
       "</style>\n",
       "<table border=\"1\" class=\"dataframe\">\n",
       "  <thead>\n",
       "    <tr style=\"text-align: right;\">\n",
       "      <th></th>\n",
       "      <th>tweet_id</th>\n",
       "      <th>in_reply_to_status_id</th>\n",
       "      <th>in_reply_to_user_id</th>\n",
       "      <th>timestamp</th>\n",
       "      <th>source</th>\n",
       "      <th>text</th>\n",
       "      <th>retweeted_status_id</th>\n",
       "      <th>retweeted_status_user_id</th>\n",
       "      <th>retweeted_status_timestamp</th>\n",
       "      <th>expanded_urls</th>\n",
       "      <th>...</th>\n",
       "      <th>rating_denominator</th>\n",
       "      <th>name</th>\n",
       "      <th>doggo</th>\n",
       "      <th>floofer</th>\n",
       "      <th>pupper</th>\n",
       "      <th>puppo</th>\n",
       "      <th>follower_count</th>\n",
       "      <th>favourites_of_user_count</th>\n",
       "      <th>retweet_count</th>\n",
       "      <th>favourite_of_post_count</th>\n",
       "    </tr>\n",
       "  </thead>\n",
       "  <tbody>\n",
       "    <tr>\n",
       "      <th>0</th>\n",
       "      <td>892420643555336193</td>\n",
       "      <td>NaN</td>\n",
       "      <td>NaN</td>\n",
       "      <td>2017-08-01 16:23:56 +0000</td>\n",
       "      <td>&lt;a href=\"http://twitter.com/download/iphone\" r...</td>\n",
       "      <td>This is Phineas. He's a mystical boy. Only eve...</td>\n",
       "      <td>NaN</td>\n",
       "      <td>NaN</td>\n",
       "      <td>NaN</td>\n",
       "      <td>https://twitter.com/dog_rates/status/892420643...</td>\n",
       "      <td>...</td>\n",
       "      <td>10</td>\n",
       "      <td>Phineas</td>\n",
       "      <td>no dogtype</td>\n",
       "      <td>None</td>\n",
       "      <td>None</td>\n",
       "      <td>None</td>\n",
       "      <td>8709203</td>\n",
       "      <td>144674</td>\n",
       "      <td>7776</td>\n",
       "      <td>36526</td>\n",
       "    </tr>\n",
       "    <tr>\n",
       "      <th>1</th>\n",
       "      <td>892177421306343426</td>\n",
       "      <td>NaN</td>\n",
       "      <td>NaN</td>\n",
       "      <td>2017-08-01 00:17:27 +0000</td>\n",
       "      <td>&lt;a href=\"http://twitter.com/download/iphone\" r...</td>\n",
       "      <td>This is Tilly. She's just checking pup on you....</td>\n",
       "      <td>NaN</td>\n",
       "      <td>NaN</td>\n",
       "      <td>NaN</td>\n",
       "      <td>https://twitter.com/dog_rates/status/892177421...</td>\n",
       "      <td>...</td>\n",
       "      <td>10</td>\n",
       "      <td>Tilly</td>\n",
       "      <td>no dogtype</td>\n",
       "      <td>None</td>\n",
       "      <td>None</td>\n",
       "      <td>None</td>\n",
       "      <td>8709202</td>\n",
       "      <td>144674</td>\n",
       "      <td>5762</td>\n",
       "      <td>31472</td>\n",
       "    </tr>\n",
       "    <tr>\n",
       "      <th>2</th>\n",
       "      <td>891815181378084864</td>\n",
       "      <td>NaN</td>\n",
       "      <td>NaN</td>\n",
       "      <td>2017-07-31 00:18:03 +0000</td>\n",
       "      <td>&lt;a href=\"http://twitter.com/download/iphone\" r...</td>\n",
       "      <td>This is Archie. He is a rare Norwegian Pouncin...</td>\n",
       "      <td>NaN</td>\n",
       "      <td>NaN</td>\n",
       "      <td>NaN</td>\n",
       "      <td>https://twitter.com/dog_rates/status/891815181...</td>\n",
       "      <td>...</td>\n",
       "      <td>10</td>\n",
       "      <td>Archie</td>\n",
       "      <td>no dogtype</td>\n",
       "      <td>None</td>\n",
       "      <td>None</td>\n",
       "      <td>None</td>\n",
       "      <td>8709202</td>\n",
       "      <td>144674</td>\n",
       "      <td>3814</td>\n",
       "      <td>23715</td>\n",
       "    </tr>\n",
       "    <tr>\n",
       "      <th>3</th>\n",
       "      <td>891689557279858688</td>\n",
       "      <td>NaN</td>\n",
       "      <td>NaN</td>\n",
       "      <td>2017-07-30 15:58:51 +0000</td>\n",
       "      <td>&lt;a href=\"http://twitter.com/download/iphone\" r...</td>\n",
       "      <td>This is Darla. She commenced a snooze mid meal...</td>\n",
       "      <td>NaN</td>\n",
       "      <td>NaN</td>\n",
       "      <td>NaN</td>\n",
       "      <td>https://twitter.com/dog_rates/status/891689557...</td>\n",
       "      <td>...</td>\n",
       "      <td>10</td>\n",
       "      <td>Darla</td>\n",
       "      <td>no dogtype</td>\n",
       "      <td>None</td>\n",
       "      <td>None</td>\n",
       "      <td>None</td>\n",
       "      <td>8709203</td>\n",
       "      <td>144674</td>\n",
       "      <td>7948</td>\n",
       "      <td>39850</td>\n",
       "    </tr>\n",
       "    <tr>\n",
       "      <th>4</th>\n",
       "      <td>891327558926688256</td>\n",
       "      <td>NaN</td>\n",
       "      <td>NaN</td>\n",
       "      <td>2017-07-29 16:00:24 +0000</td>\n",
       "      <td>&lt;a href=\"http://twitter.com/download/iphone\" r...</td>\n",
       "      <td>This is Franklin. He would like you to stop ca...</td>\n",
       "      <td>NaN</td>\n",
       "      <td>NaN</td>\n",
       "      <td>NaN</td>\n",
       "      <td>https://twitter.com/dog_rates/status/891327558...</td>\n",
       "      <td>...</td>\n",
       "      <td>10</td>\n",
       "      <td>Franklin</td>\n",
       "      <td>no dogtype</td>\n",
       "      <td>None</td>\n",
       "      <td>None</td>\n",
       "      <td>None</td>\n",
       "      <td>8709202</td>\n",
       "      <td>144674</td>\n",
       "      <td>8574</td>\n",
       "      <td>38047</td>\n",
       "    </tr>\n",
       "  </tbody>\n",
       "</table>\n",
       "<p>5 rows × 21 columns</p>\n",
       "</div>"
      ],
      "text/plain": [
       "             tweet_id  in_reply_to_status_id  in_reply_to_user_id  \\\n",
       "0  892420643555336193                    NaN                  NaN   \n",
       "1  892177421306343426                    NaN                  NaN   \n",
       "2  891815181378084864                    NaN                  NaN   \n",
       "3  891689557279858688                    NaN                  NaN   \n",
       "4  891327558926688256                    NaN                  NaN   \n",
       "\n",
       "                   timestamp  \\\n",
       "0  2017-08-01 16:23:56 +0000   \n",
       "1  2017-08-01 00:17:27 +0000   \n",
       "2  2017-07-31 00:18:03 +0000   \n",
       "3  2017-07-30 15:58:51 +0000   \n",
       "4  2017-07-29 16:00:24 +0000   \n",
       "\n",
       "                                              source  \\\n",
       "0  <a href=\"http://twitter.com/download/iphone\" r...   \n",
       "1  <a href=\"http://twitter.com/download/iphone\" r...   \n",
       "2  <a href=\"http://twitter.com/download/iphone\" r...   \n",
       "3  <a href=\"http://twitter.com/download/iphone\" r...   \n",
       "4  <a href=\"http://twitter.com/download/iphone\" r...   \n",
       "\n",
       "                                                text  retweeted_status_id  \\\n",
       "0  This is Phineas. He's a mystical boy. Only eve...                  NaN   \n",
       "1  This is Tilly. She's just checking pup on you....                  NaN   \n",
       "2  This is Archie. He is a rare Norwegian Pouncin...                  NaN   \n",
       "3  This is Darla. She commenced a snooze mid meal...                  NaN   \n",
       "4  This is Franklin. He would like you to stop ca...                  NaN   \n",
       "\n",
       "   retweeted_status_user_id retweeted_status_timestamp  \\\n",
       "0                       NaN                        NaN   \n",
       "1                       NaN                        NaN   \n",
       "2                       NaN                        NaN   \n",
       "3                       NaN                        NaN   \n",
       "4                       NaN                        NaN   \n",
       "\n",
       "                                       expanded_urls  ...  rating_denominator  \\\n",
       "0  https://twitter.com/dog_rates/status/892420643...  ...                  10   \n",
       "1  https://twitter.com/dog_rates/status/892177421...  ...                  10   \n",
       "2  https://twitter.com/dog_rates/status/891815181...  ...                  10   \n",
       "3  https://twitter.com/dog_rates/status/891689557...  ...                  10   \n",
       "4  https://twitter.com/dog_rates/status/891327558...  ...                  10   \n",
       "\n",
       "       name       doggo floofer pupper puppo follower_count  \\\n",
       "0   Phineas  no dogtype    None   None  None        8709203   \n",
       "1     Tilly  no dogtype    None   None  None        8709202   \n",
       "2    Archie  no dogtype    None   None  None        8709202   \n",
       "3     Darla  no dogtype    None   None  None        8709203   \n",
       "4  Franklin  no dogtype    None   None  None        8709202   \n",
       "\n",
       "   favourites_of_user_count  retweet_count  favourite_of_post_count  \n",
       "0                    144674           7776                    36526  \n",
       "1                    144674           5762                    31472  \n",
       "2                    144674           3814                    23715  \n",
       "3                    144674           7948                    39850  \n",
       "4                    144674           8574                    38047  \n",
       "\n",
       "[5 rows x 21 columns]"
      ]
     },
     "execution_count": 32,
     "metadata": {},
     "output_type": "execute_result"
    }
   ],
   "source": [
    "status_df.head()"
   ]
  },
  {
   "cell_type": "code",
   "execution_count": 33,
   "metadata": {},
   "outputs": [],
   "source": [
    "# Create a list for all the columns that should stay the same during melting\n",
    "id_columns = list(status_df.columns[:13])\n",
    "for item in list(status_df.columns[17:]):\n",
    "    id_columns.append(item)"
   ]
  },
  {
   "cell_type": "code",
   "execution_count": 34,
   "metadata": {},
   "outputs": [],
   "source": [
    "status_df = pd.melt(status_df, id_vars = id_columns, var_name = \"dog_type\", value_name='dog')"
   ]
  },
  {
   "cell_type": "code",
   "execution_count": 35,
   "metadata": {},
   "outputs": [
    {
     "data": {
      "text/plain": [
       "2345"
      ]
     },
     "execution_count": 35,
     "metadata": {},
     "output_type": "execute_result"
    }
   ],
   "source": [
    "status_df = status_df.query(\"dog != 'None'\")\n",
    "len(status_df)"
   ]
  },
  {
   "cell_type": "code",
   "execution_count": 36,
   "metadata": {},
   "outputs": [
    {
     "data": {
      "text/plain": [
       "28"
      ]
     },
     "execution_count": 36,
     "metadata": {},
     "output_type": "execute_result"
    }
   ],
   "source": [
    "# show all duplicates\n",
    "len(status_df[status_df.tweet_id.duplicated(keep = False)].sort_values(by=\"tweet_id\"))"
   ]
  },
  {
   "cell_type": "code",
   "execution_count": 37,
   "metadata": {},
   "outputs": [],
   "source": [
    "# 14 statuses included two types of dogtype. Since it is ambigious which type is referencing the pictures all are removed\n",
    "# from the dataset. This is ok since it is only a small number"
   ]
  },
  {
   "cell_type": "code",
   "execution_count": 38,
   "metadata": {},
   "outputs": [],
   "source": [
    "# Get a list of the tweet ids with duplicates\n",
    "duplicates = list(status_df[status_df.tweet_id.duplicated(keep = False)].tweet_id)"
   ]
  },
  {
   "cell_type": "code",
   "execution_count": 39,
   "metadata": {},
   "outputs": [],
   "source": [
    "# Remove all rows whose tweet ids are in the duplicates list\n",
    "status_df = status_df[~status_df['tweet_id'].isin(duplicates)]"
   ]
  },
  {
   "cell_type": "code",
   "execution_count": 40,
   "metadata": {},
   "outputs": [],
   "source": [
    "for i in range(len(status_df)):\n",
    "    if status_df.iloc[i,-1]==\"no dogtype\":\n",
    "        status_df.iloc[i, -2] = \"no dogtype\""
   ]
  },
  {
   "cell_type": "code",
   "execution_count": 41,
   "metadata": {},
   "outputs": [],
   "source": [
    "status_df = status_df.drop(columns = \"dog\")"
   ]
  },
  {
   "cell_type": "markdown",
   "metadata": {},
   "source": [
    "#### Test"
   ]
  },
  {
   "cell_type": "code",
   "execution_count": 42,
   "metadata": {},
   "outputs": [
    {
     "data": {
      "text/plain": [
       "no dogtype    1956\n",
       "pupper         243\n",
       "doggo           80\n",
       "puppo           29\n",
       "floofer          9\n",
       "Name: dog_type, dtype: int64"
      ]
     },
     "execution_count": 42,
     "metadata": {},
     "output_type": "execute_result"
    }
   ],
   "source": [
    "status_df.dog_type.value_counts()"
   ]
  },
  {
   "cell_type": "code",
   "execution_count": 43,
   "metadata": {},
   "outputs": [
    {
     "data": {
      "text/html": [
       "<div>\n",
       "<style scoped>\n",
       "    .dataframe tbody tr th:only-of-type {\n",
       "        vertical-align: middle;\n",
       "    }\n",
       "\n",
       "    .dataframe tbody tr th {\n",
       "        vertical-align: top;\n",
       "    }\n",
       "\n",
       "    .dataframe thead th {\n",
       "        text-align: right;\n",
       "    }\n",
       "</style>\n",
       "<table border=\"1\" class=\"dataframe\">\n",
       "  <thead>\n",
       "    <tr style=\"text-align: right;\">\n",
       "      <th></th>\n",
       "      <th>tweet_id</th>\n",
       "      <th>in_reply_to_status_id</th>\n",
       "      <th>in_reply_to_user_id</th>\n",
       "      <th>timestamp</th>\n",
       "      <th>source</th>\n",
       "      <th>text</th>\n",
       "      <th>retweeted_status_id</th>\n",
       "      <th>retweeted_status_user_id</th>\n",
       "      <th>retweeted_status_timestamp</th>\n",
       "      <th>expanded_urls</th>\n",
       "      <th>rating_numerator</th>\n",
       "      <th>rating_denominator</th>\n",
       "      <th>name</th>\n",
       "      <th>follower_count</th>\n",
       "      <th>favourites_of_user_count</th>\n",
       "      <th>retweet_count</th>\n",
       "      <th>favourite_of_post_count</th>\n",
       "      <th>dog_type</th>\n",
       "    </tr>\n",
       "  </thead>\n",
       "  <tbody>\n",
       "    <tr>\n",
       "      <th>34</th>\n",
       "      <td>885518971528720385</td>\n",
       "      <td>NaN</td>\n",
       "      <td>NaN</td>\n",
       "      <td>2017-07-13 15:19:09 +0000</td>\n",
       "      <td>&lt;a href=\"http://twitter.com/download/iphone\" r...</td>\n",
       "      <td>I have a new hero and his name is Howard. 14/1...</td>\n",
       "      <td>NaN</td>\n",
       "      <td>NaN</td>\n",
       "      <td>NaN</td>\n",
       "      <td>https://twitter.com/4bonds2carbon/status/88551...</td>\n",
       "      <td>14</td>\n",
       "      <td>10</td>\n",
       "      <td>None</td>\n",
       "      <td>8709204</td>\n",
       "      <td>144674</td>\n",
       "      <td>3440</td>\n",
       "      <td>19368</td>\n",
       "      <td>no dogtype</td>\n",
       "    </tr>\n",
       "    <tr>\n",
       "      <th>1648</th>\n",
       "      <td>682389078323662849</td>\n",
       "      <td>NaN</td>\n",
       "      <td>NaN</td>\n",
       "      <td>2015-12-31 02:33:29 +0000</td>\n",
       "      <td>&lt;a href=\"http://twitter.com/download/iphone\" r...</td>\n",
       "      <td>Meet Brody. He's a Downton Abbey Falsetto. Add...</td>\n",
       "      <td>NaN</td>\n",
       "      <td>NaN</td>\n",
       "      <td>NaN</td>\n",
       "      <td>https://twitter.com/dog_rates/status/682389078...</td>\n",
       "      <td>9</td>\n",
       "      <td>10</td>\n",
       "      <td>Brody</td>\n",
       "      <td>8709243</td>\n",
       "      <td>144674</td>\n",
       "      <td>463</td>\n",
       "      <td>1668</td>\n",
       "      <td>no dogtype</td>\n",
       "    </tr>\n",
       "    <tr>\n",
       "      <th>536</th>\n",
       "      <td>804026241225523202</td>\n",
       "      <td>NaN</td>\n",
       "      <td>NaN</td>\n",
       "      <td>2016-11-30 18:16:08 +0000</td>\n",
       "      <td>&lt;a href=\"http://twitter.com/download/iphone\" r...</td>\n",
       "      <td>This is Bo. He's going to make me cry. 13/10 p...</td>\n",
       "      <td>NaN</td>\n",
       "      <td>NaN</td>\n",
       "      <td>NaN</td>\n",
       "      <td>https://twitter.com/dog_rates/status/804026241...</td>\n",
       "      <td>13</td>\n",
       "      <td>10</td>\n",
       "      <td>Bo</td>\n",
       "      <td>8709206</td>\n",
       "      <td>144674</td>\n",
       "      <td>16700</td>\n",
       "      <td>45901</td>\n",
       "      <td>no dogtype</td>\n",
       "    </tr>\n",
       "    <tr>\n",
       "      <th>151</th>\n",
       "      <td>861005113778896900</td>\n",
       "      <td>NaN</td>\n",
       "      <td>NaN</td>\n",
       "      <td>2017-05-06 23:49:50 +0000</td>\n",
       "      <td>&lt;a href=\"http://twitter.com/download/iphone\" r...</td>\n",
       "      <td>This is Burt. He thinks your thesis statement ...</td>\n",
       "      <td>NaN</td>\n",
       "      <td>NaN</td>\n",
       "      <td>NaN</td>\n",
       "      <td>https://twitter.com/dog_rates/status/861005113...</td>\n",
       "      <td>12</td>\n",
       "      <td>10</td>\n",
       "      <td>Burt</td>\n",
       "      <td>8709205</td>\n",
       "      <td>144674</td>\n",
       "      <td>3646</td>\n",
       "      <td>16159</td>\n",
       "      <td>no dogtype</td>\n",
       "    </tr>\n",
       "    <tr>\n",
       "      <th>128</th>\n",
       "      <td>866686824827068416</td>\n",
       "      <td>NaN</td>\n",
       "      <td>NaN</td>\n",
       "      <td>2017-05-22 16:06:55 +0000</td>\n",
       "      <td>&lt;a href=\"http://twitter.com/download/iphone\" r...</td>\n",
       "      <td>This is Lili. She can't believe you betrayed h...</td>\n",
       "      <td>NaN</td>\n",
       "      <td>NaN</td>\n",
       "      <td>NaN</td>\n",
       "      <td>https://twitter.com/dog_rates/status/866686824...</td>\n",
       "      <td>12</td>\n",
       "      <td>10</td>\n",
       "      <td>Lili</td>\n",
       "      <td>8709204</td>\n",
       "      <td>144674</td>\n",
       "      <td>3282</td>\n",
       "      <td>18523</td>\n",
       "      <td>no dogtype</td>\n",
       "    </tr>\n",
       "  </tbody>\n",
       "</table>\n",
       "</div>"
      ],
      "text/plain": [
       "                tweet_id  in_reply_to_status_id  in_reply_to_user_id  \\\n",
       "34    885518971528720385                    NaN                  NaN   \n",
       "1648  682389078323662849                    NaN                  NaN   \n",
       "536   804026241225523202                    NaN                  NaN   \n",
       "151   861005113778896900                    NaN                  NaN   \n",
       "128   866686824827068416                    NaN                  NaN   \n",
       "\n",
       "                      timestamp  \\\n",
       "34    2017-07-13 15:19:09 +0000   \n",
       "1648  2015-12-31 02:33:29 +0000   \n",
       "536   2016-11-30 18:16:08 +0000   \n",
       "151   2017-05-06 23:49:50 +0000   \n",
       "128   2017-05-22 16:06:55 +0000   \n",
       "\n",
       "                                                 source  \\\n",
       "34    <a href=\"http://twitter.com/download/iphone\" r...   \n",
       "1648  <a href=\"http://twitter.com/download/iphone\" r...   \n",
       "536   <a href=\"http://twitter.com/download/iphone\" r...   \n",
       "151   <a href=\"http://twitter.com/download/iphone\" r...   \n",
       "128   <a href=\"http://twitter.com/download/iphone\" r...   \n",
       "\n",
       "                                                   text  retweeted_status_id  \\\n",
       "34    I have a new hero and his name is Howard. 14/1...                  NaN   \n",
       "1648  Meet Brody. He's a Downton Abbey Falsetto. Add...                  NaN   \n",
       "536   This is Bo. He's going to make me cry. 13/10 p...                  NaN   \n",
       "151   This is Burt. He thinks your thesis statement ...                  NaN   \n",
       "128   This is Lili. She can't believe you betrayed h...                  NaN   \n",
       "\n",
       "      retweeted_status_user_id retweeted_status_timestamp  \\\n",
       "34                         NaN                        NaN   \n",
       "1648                       NaN                        NaN   \n",
       "536                        NaN                        NaN   \n",
       "151                        NaN                        NaN   \n",
       "128                        NaN                        NaN   \n",
       "\n",
       "                                          expanded_urls  rating_numerator  \\\n",
       "34    https://twitter.com/4bonds2carbon/status/88551...                14   \n",
       "1648  https://twitter.com/dog_rates/status/682389078...                 9   \n",
       "536   https://twitter.com/dog_rates/status/804026241...                13   \n",
       "151   https://twitter.com/dog_rates/status/861005113...                12   \n",
       "128   https://twitter.com/dog_rates/status/866686824...                12   \n",
       "\n",
       "      rating_denominator   name  follower_count  favourites_of_user_count  \\\n",
       "34                    10   None         8709204                    144674   \n",
       "1648                  10  Brody         8709243                    144674   \n",
       "536                   10     Bo         8709206                    144674   \n",
       "151                   10   Burt         8709205                    144674   \n",
       "128                   10   Lili         8709204                    144674   \n",
       "\n",
       "      retweet_count  favourite_of_post_count    dog_type  \n",
       "34             3440                    19368  no dogtype  \n",
       "1648            463                     1668  no dogtype  \n",
       "536           16700                    45901  no dogtype  \n",
       "151            3646                    16159  no dogtype  \n",
       "128            3282                    18523  no dogtype  "
      ]
     },
     "execution_count": 43,
     "metadata": {},
     "output_type": "execute_result"
    }
   ],
   "source": [
    "status_df.sample(5)"
   ]
  },
  {
   "cell_type": "markdown",
   "metadata": {},
   "source": [
    "### `twitter table` (now status table) \n",
    " - Retweets are included although they are not of interest\n",
    " - Replies to other statuses included although they are not of interest\n",
    " - Replies to users included although they are not of interest\n",
    "#### Define\n",
    "Remove all retweets and replies of and to other statuses and users by identifying rows that hold values that are not NaN\n",
    "#### Code"
   ]
  },
  {
   "cell_type": "code",
   "execution_count": 44,
   "metadata": {},
   "outputs": [],
   "source": [
    "stat_df = status_df.copy()"
   ]
  },
  {
   "cell_type": "code",
   "execution_count": 45,
   "metadata": {},
   "outputs": [
    {
     "data": {
      "text/plain": [
       "2317"
      ]
     },
     "execution_count": 45,
     "metadata": {},
     "output_type": "execute_result"
    }
   ],
   "source": [
    "len(stat_df)"
   ]
  },
  {
   "cell_type": "code",
   "execution_count": 46,
   "metadata": {},
   "outputs": [],
   "source": [
    "stat_df = stat_df[stat_df['in_reply_to_status_id'].isna()]"
   ]
  },
  {
   "cell_type": "code",
   "execution_count": 47,
   "metadata": {},
   "outputs": [
    {
     "data": {
      "text/plain": [
       "2240"
      ]
     },
     "execution_count": 47,
     "metadata": {},
     "output_type": "execute_result"
    }
   ],
   "source": [
    "len(stat_df)"
   ]
  },
  {
   "cell_type": "code",
   "execution_count": 48,
   "metadata": {},
   "outputs": [
    {
     "data": {
      "text/plain": [
       "2240"
      ]
     },
     "execution_count": 48,
     "metadata": {},
     "output_type": "execute_result"
    }
   ],
   "source": [
    "stat_df = stat_df[stat_df['in_reply_to_user_id'].isna()]\n",
    "\n",
    "len(stat_df)"
   ]
  },
  {
   "cell_type": "code",
   "execution_count": 49,
   "metadata": {},
   "outputs": [
    {
     "data": {
      "text/plain": [
       "2079"
      ]
     },
     "execution_count": 49,
     "metadata": {},
     "output_type": "execute_result"
    }
   ],
   "source": [
    "stat_df = stat_df[stat_df['retweeted_status_id'].isna()]\n",
    "\n",
    "len(stat_df)"
   ]
  },
  {
   "cell_type": "code",
   "execution_count": 50,
   "metadata": {},
   "outputs": [
    {
     "data": {
      "text/plain": [
       "2079"
      ]
     },
     "execution_count": 50,
     "metadata": {},
     "output_type": "execute_result"
    }
   ],
   "source": [
    "stat_df = stat_df[stat_df['retweeted_status_user_id'].isna()]\n",
    "\n",
    "len(stat_df)"
   ]
  },
  {
   "cell_type": "markdown",
   "metadata": {},
   "source": [
    "#### Test"
   ]
  },
  {
   "cell_type": "code",
   "execution_count": 51,
   "metadata": {},
   "outputs": [
    {
     "data": {
      "text/plain": [
       "Series([], Name: in_reply_to_status_id, dtype: int64)"
      ]
     },
     "execution_count": 51,
     "metadata": {},
     "output_type": "execute_result"
    }
   ],
   "source": [
    "stat_df.in_reply_to_status_id.value_counts()"
   ]
  },
  {
   "cell_type": "code",
   "execution_count": 52,
   "metadata": {},
   "outputs": [
    {
     "data": {
      "text/plain": [
       "Series([], Name: in_reply_to_user_id, dtype: int64)"
      ]
     },
     "execution_count": 52,
     "metadata": {},
     "output_type": "execute_result"
    }
   ],
   "source": [
    "stat_df.in_reply_to_user_id.value_counts()"
   ]
  },
  {
   "cell_type": "code",
   "execution_count": 53,
   "metadata": {},
   "outputs": [
    {
     "data": {
      "text/plain": [
       "Series([], Name: retweeted_status_id, dtype: int64)"
      ]
     },
     "execution_count": 53,
     "metadata": {},
     "output_type": "execute_result"
    }
   ],
   "source": [
    "stat_df.retweeted_status_id.value_counts()"
   ]
  },
  {
   "cell_type": "code",
   "execution_count": 54,
   "metadata": {},
   "outputs": [
    {
     "data": {
      "text/plain": [
       "Series([], Name: retweeted_status_user_id, dtype: int64)"
      ]
     },
     "execution_count": 54,
     "metadata": {},
     "output_type": "execute_result"
    }
   ],
   "source": [
    "stat_df.retweeted_status_user_id.value_counts()"
   ]
  },
  {
   "cell_type": "markdown",
   "metadata": {},
   "source": [
    "#### Define \n",
    "Remove the columns that do not hold any information anymore. (The four columns tested above and the source column)"
   ]
  },
  {
   "cell_type": "markdown",
   "metadata": {},
   "source": [
    "#### Code"
   ]
  },
  {
   "cell_type": "code",
   "execution_count": 55,
   "metadata": {},
   "outputs": [],
   "source": [
    "stat_df.drop(columns = [\"in_reply_to_status_id\", \"in_reply_to_user_id\", \"retweeted_status_id\", \"retweeted_status_user_id\", \"retweeted_status_timestamp\", \"source\"], inplace = True)"
   ]
  },
  {
   "cell_type": "markdown",
   "metadata": {},
   "source": [
    "#### Test"
   ]
  },
  {
   "cell_type": "code",
   "execution_count": 56,
   "metadata": {},
   "outputs": [
    {
     "data": {
      "text/html": [
       "<div>\n",
       "<style scoped>\n",
       "    .dataframe tbody tr th:only-of-type {\n",
       "        vertical-align: middle;\n",
       "    }\n",
       "\n",
       "    .dataframe tbody tr th {\n",
       "        vertical-align: top;\n",
       "    }\n",
       "\n",
       "    .dataframe thead th {\n",
       "        text-align: right;\n",
       "    }\n",
       "</style>\n",
       "<table border=\"1\" class=\"dataframe\">\n",
       "  <thead>\n",
       "    <tr style=\"text-align: right;\">\n",
       "      <th></th>\n",
       "      <th>tweet_id</th>\n",
       "      <th>timestamp</th>\n",
       "      <th>text</th>\n",
       "      <th>expanded_urls</th>\n",
       "      <th>rating_numerator</th>\n",
       "      <th>rating_denominator</th>\n",
       "      <th>name</th>\n",
       "      <th>follower_count</th>\n",
       "      <th>favourites_of_user_count</th>\n",
       "      <th>retweet_count</th>\n",
       "      <th>favourite_of_post_count</th>\n",
       "      <th>dog_type</th>\n",
       "    </tr>\n",
       "  </thead>\n",
       "  <tbody>\n",
       "    <tr>\n",
       "      <th>0</th>\n",
       "      <td>892420643555336193</td>\n",
       "      <td>2017-08-01 16:23:56 +0000</td>\n",
       "      <td>This is Phineas. He's a mystical boy. Only eve...</td>\n",
       "      <td>https://twitter.com/dog_rates/status/892420643...</td>\n",
       "      <td>13</td>\n",
       "      <td>10</td>\n",
       "      <td>Phineas</td>\n",
       "      <td>8709203</td>\n",
       "      <td>144674</td>\n",
       "      <td>7776</td>\n",
       "      <td>36526</td>\n",
       "      <td>no dogtype</td>\n",
       "    </tr>\n",
       "  </tbody>\n",
       "</table>\n",
       "</div>"
      ],
      "text/plain": [
       "             tweet_id                  timestamp  \\\n",
       "0  892420643555336193  2017-08-01 16:23:56 +0000   \n",
       "\n",
       "                                                text  \\\n",
       "0  This is Phineas. He's a mystical boy. Only eve...   \n",
       "\n",
       "                                       expanded_urls  rating_numerator  \\\n",
       "0  https://twitter.com/dog_rates/status/892420643...                13   \n",
       "\n",
       "   rating_denominator     name  follower_count  favourites_of_user_count  \\\n",
       "0                  10  Phineas         8709203                    144674   \n",
       "\n",
       "   retweet_count  favourite_of_post_count    dog_type  \n",
       "0           7776                    36526  no dogtype  "
      ]
     },
     "execution_count": 56,
     "metadata": {},
     "output_type": "execute_result"
    }
   ],
   "source": [
    "stat_df.head(1)"
   ]
  },
  {
   "cell_type": "markdown",
   "metadata": {},
   "source": [
    "### `all tables` tweet_id is of type int\n",
    "### `stat table` timestamp is string\n",
    "#### Define\n",
    "Change all tweet_id columns from int to string.\n",
    "Change the timestamp format from string to datetime"
   ]
  },
  {
   "cell_type": "markdown",
   "metadata": {},
   "source": [
    "#### Code"
   ]
  },
  {
   "cell_type": "code",
   "execution_count": 57,
   "metadata": {},
   "outputs": [
    {
     "data": {
      "text/html": [
       "<div>\n",
       "<style scoped>\n",
       "    .dataframe tbody tr th:only-of-type {\n",
       "        vertical-align: middle;\n",
       "    }\n",
       "\n",
       "    .dataframe tbody tr th {\n",
       "        vertical-align: top;\n",
       "    }\n",
       "\n",
       "    .dataframe thead th {\n",
       "        text-align: right;\n",
       "    }\n",
       "</style>\n",
       "<table border=\"1\" class=\"dataframe\">\n",
       "  <thead>\n",
       "    <tr style=\"text-align: right;\">\n",
       "      <th></th>\n",
       "      <th>tweet_id</th>\n",
       "      <th>timestamp</th>\n",
       "      <th>text</th>\n",
       "      <th>expanded_urls</th>\n",
       "      <th>rating_numerator</th>\n",
       "      <th>rating_denominator</th>\n",
       "      <th>name</th>\n",
       "      <th>follower_count</th>\n",
       "      <th>favourites_of_user_count</th>\n",
       "      <th>retweet_count</th>\n",
       "      <th>favourite_of_post_count</th>\n",
       "      <th>dog_type</th>\n",
       "    </tr>\n",
       "  </thead>\n",
       "  <tbody>\n",
       "    <tr>\n",
       "      <th>0</th>\n",
       "      <td>892420643555336193</td>\n",
       "      <td>2017-08-01 16:23:56 +0000</td>\n",
       "      <td>This is Phineas. He's a mystical boy. Only eve...</td>\n",
       "      <td>https://twitter.com/dog_rates/status/892420643...</td>\n",
       "      <td>13</td>\n",
       "      <td>10</td>\n",
       "      <td>Phineas</td>\n",
       "      <td>8709203</td>\n",
       "      <td>144674</td>\n",
       "      <td>7776</td>\n",
       "      <td>36526</td>\n",
       "      <td>no dogtype</td>\n",
       "    </tr>\n",
       "  </tbody>\n",
       "</table>\n",
       "</div>"
      ],
      "text/plain": [
       "             tweet_id                  timestamp  \\\n",
       "0  892420643555336193  2017-08-01 16:23:56 +0000   \n",
       "\n",
       "                                                text  \\\n",
       "0  This is Phineas. He's a mystical boy. Only eve...   \n",
       "\n",
       "                                       expanded_urls  rating_numerator  \\\n",
       "0  https://twitter.com/dog_rates/status/892420643...                13   \n",
       "\n",
       "   rating_denominator     name  follower_count  favourites_of_user_count  \\\n",
       "0                  10  Phineas         8709203                    144674   \n",
       "\n",
       "   retweet_count  favourite_of_post_count    dog_type  \n",
       "0           7776                    36526  no dogtype  "
      ]
     },
     "execution_count": 57,
     "metadata": {},
     "output_type": "execute_result"
    }
   ],
   "source": [
    "stat_df.head(1)"
   ]
  },
  {
   "cell_type": "code",
   "execution_count": 58,
   "metadata": {},
   "outputs": [],
   "source": [
    "stat_df[\"tweet_id\"] = stat_df[\"tweet_id\"].astype(str)\n",
    "d_clean[\"tweet_id\"] = d_clean[\"tweet_id\"].astype(str)"
   ]
  },
  {
   "cell_type": "code",
   "execution_count": 59,
   "metadata": {},
   "outputs": [],
   "source": [
    "stat_df[\"timestamp\"] = pd.to_datetime(stat_df[\"timestamp\"])"
   ]
  },
  {
   "cell_type": "markdown",
   "metadata": {},
   "source": [
    "#### Test"
   ]
  },
  {
   "cell_type": "code",
   "execution_count": 60,
   "metadata": {},
   "outputs": [
    {
     "data": {
      "text/plain": [
       "'666020888022790149'"
      ]
     },
     "execution_count": 60,
     "metadata": {},
     "output_type": "execute_result"
    }
   ],
   "source": [
    "d_clean.tweet_id[0]"
   ]
  },
  {
   "cell_type": "code",
   "execution_count": 61,
   "metadata": {},
   "outputs": [
    {
     "data": {
      "text/plain": [
       "'892420643555336193'"
      ]
     },
     "execution_count": 61,
     "metadata": {},
     "output_type": "execute_result"
    }
   ],
   "source": [
    "stat_df.tweet_id[0]"
   ]
  },
  {
   "cell_type": "code",
   "execution_count": 62,
   "metadata": {},
   "outputs": [
    {
     "name": "stdout",
     "output_type": "stream",
     "text": [
      "<class 'pandas.core.frame.DataFrame'>\n",
      "Int64Index: 2079 entries, 0 to 8052\n",
      "Data columns (total 12 columns):\n",
      "tweet_id                    2079 non-null object\n",
      "timestamp                   2079 non-null datetime64[ns, UTC]\n",
      "text                        2079 non-null object\n",
      "expanded_urls               2076 non-null object\n",
      "rating_numerator            2079 non-null int64\n",
      "rating_denominator          2079 non-null int64\n",
      "name                        2079 non-null object\n",
      "follower_count              2079 non-null int64\n",
      "favourites_of_user_count    2079 non-null int64\n",
      "retweet_count               2079 non-null int64\n",
      "favourite_of_post_count     2079 non-null int64\n",
      "dog_type                    2079 non-null object\n",
      "dtypes: datetime64[ns, UTC](1), int64(6), object(5)\n",
      "memory usage: 291.1+ KB\n"
     ]
    }
   ],
   "source": [
    "stat_df.info()"
   ]
  },
  {
   "cell_type": "markdown",
   "metadata": {},
   "source": [
    "### `Dog prediction table` Naming of dog type is incoherent\n",
    "#### Define\n",
    "Remove the underscore between the words and capitalize the first letter of each word. Check for different spellings or versions of the same breed and equalize them\n",
    "#### Code"
   ]
  },
  {
   "cell_type": "code",
   "execution_count": 63,
   "metadata": {},
   "outputs": [
    {
     "data": {
      "text/html": [
       "<div>\n",
       "<style scoped>\n",
       "    .dataframe tbody tr th:only-of-type {\n",
       "        vertical-align: middle;\n",
       "    }\n",
       "\n",
       "    .dataframe tbody tr th {\n",
       "        vertical-align: top;\n",
       "    }\n",
       "\n",
       "    .dataframe thead th {\n",
       "        text-align: right;\n",
       "    }\n",
       "</style>\n",
       "<table border=\"1\" class=\"dataframe\">\n",
       "  <thead>\n",
       "    <tr style=\"text-align: right;\">\n",
       "      <th></th>\n",
       "      <th>tweet_id</th>\n",
       "      <th>jpg_url</th>\n",
       "      <th>img_num</th>\n",
       "      <th>p1</th>\n",
       "      <th>p1_conf</th>\n",
       "      <th>p1_dog</th>\n",
       "      <th>p2</th>\n",
       "      <th>p2_conf</th>\n",
       "      <th>p2_dog</th>\n",
       "      <th>p3</th>\n",
       "      <th>p3_conf</th>\n",
       "      <th>p3_dog</th>\n",
       "    </tr>\n",
       "  </thead>\n",
       "  <tbody>\n",
       "    <tr>\n",
       "      <th>0</th>\n",
       "      <td>666020888022790149</td>\n",
       "      <td>https://pbs.twimg.com/media/CT4udn0WwAA0aMy.jpg</td>\n",
       "      <td>1</td>\n",
       "      <td>Welsh_springer_spaniel</td>\n",
       "      <td>0.465074</td>\n",
       "      <td>True</td>\n",
       "      <td>collie</td>\n",
       "      <td>0.156665</td>\n",
       "      <td>True</td>\n",
       "      <td>Shetland_sheepdog</td>\n",
       "      <td>0.061428</td>\n",
       "      <td>True</td>\n",
       "    </tr>\n",
       "  </tbody>\n",
       "</table>\n",
       "</div>"
      ],
      "text/plain": [
       "             tweet_id                                          jpg_url  \\\n",
       "0  666020888022790149  https://pbs.twimg.com/media/CT4udn0WwAA0aMy.jpg   \n",
       "\n",
       "   img_num                      p1   p1_conf  p1_dog      p2   p2_conf  \\\n",
       "0        1  Welsh_springer_spaniel  0.465074    True  collie  0.156665   \n",
       "\n",
       "   p2_dog                 p3   p3_conf  p3_dog  \n",
       "0    True  Shetland_sheepdog  0.061428    True  "
      ]
     },
     "execution_count": 63,
     "metadata": {},
     "output_type": "execute_result"
    }
   ],
   "source": [
    "d_clean.head(1)"
   ]
  },
  {
   "cell_type": "code",
   "execution_count": 64,
   "metadata": {},
   "outputs": [],
   "source": [
    "dog_cols = [\"p1\", \"p2\", \"p3\"]\n",
    "for col in dog_cols:\n",
    "    d_clean[col] = d_clean[col].str.replace(\"_\", \" \")\n",
    "    d_clean[col] = d_clean[col].str.title()"
   ]
  },
  {
   "cell_type": "code",
   "execution_count": 65,
   "metadata": {},
   "outputs": [],
   "source": [
    "dog_list = d_clean.query(\"p1_dog == True\").p1.value_counts()"
   ]
  },
  {
   "cell_type": "code",
   "execution_count": 66,
   "metadata": {},
   "outputs": [],
   "source": [
    "# Save to inspect with a another software\n",
    "pd.DataFrame(dog_list).to_csv(\"dog_list.csv\")\n",
    "# No different spellings for the same breed could be found"
   ]
  },
  {
   "cell_type": "markdown",
   "metadata": {},
   "source": [
    "#### Test"
   ]
  },
  {
   "cell_type": "code",
   "execution_count": 103,
   "metadata": {},
   "outputs": [
    {
     "data": {
      "text/html": [
       "<div>\n",
       "<style scoped>\n",
       "    .dataframe tbody tr th:only-of-type {\n",
       "        vertical-align: middle;\n",
       "    }\n",
       "\n",
       "    .dataframe tbody tr th {\n",
       "        vertical-align: top;\n",
       "    }\n",
       "\n",
       "    .dataframe thead th {\n",
       "        text-align: right;\n",
       "    }\n",
       "</style>\n",
       "<table border=\"1\" class=\"dataframe\">\n",
       "  <thead>\n",
       "    <tr style=\"text-align: right;\">\n",
       "      <th></th>\n",
       "      <th>tweet_id</th>\n",
       "      <th>jpg_url</th>\n",
       "      <th>img_num</th>\n",
       "      <th>p1</th>\n",
       "      <th>p1_conf</th>\n",
       "      <th>p1_dog</th>\n",
       "      <th>p2</th>\n",
       "      <th>p2_conf</th>\n",
       "      <th>p2_dog</th>\n",
       "      <th>p3</th>\n",
       "      <th>p3_conf</th>\n",
       "      <th>p3_dog</th>\n",
       "    </tr>\n",
       "  </thead>\n",
       "  <tbody>\n",
       "    <tr>\n",
       "      <th>0</th>\n",
       "      <td>666020888022790149</td>\n",
       "      <td>https://pbs.twimg.com/media/CT4udn0WwAA0aMy.jpg</td>\n",
       "      <td>1</td>\n",
       "      <td>Welsh Springer Spaniel</td>\n",
       "      <td>0.465074</td>\n",
       "      <td>True</td>\n",
       "      <td>Collie</td>\n",
       "      <td>0.156665</td>\n",
       "      <td>True</td>\n",
       "      <td>Shetland Sheepdog</td>\n",
       "      <td>0.061428</td>\n",
       "      <td>True</td>\n",
       "    </tr>\n",
       "  </tbody>\n",
       "</table>\n",
       "</div>"
      ],
      "text/plain": [
       "             tweet_id                                          jpg_url  \\\n",
       "0  666020888022790149  https://pbs.twimg.com/media/CT4udn0WwAA0aMy.jpg   \n",
       "\n",
       "   img_num                      p1   p1_conf  p1_dog      p2   p2_conf  \\\n",
       "0        1  Welsh Springer Spaniel  0.465074    True  Collie  0.156665   \n",
       "\n",
       "   p2_dog                 p3   p3_conf  p3_dog  \n",
       "0    True  Shetland Sheepdog  0.061428    True  "
      ]
     },
     "execution_count": 103,
     "metadata": {},
     "output_type": "execute_result"
    }
   ],
   "source": [
    "d_clean.head(1)"
   ]
  },
  {
   "cell_type": "code",
   "execution_count": 68,
   "metadata": {},
   "outputs": [
    {
     "data": {
      "text/plain": [
       "Golden Retriever      150\n",
       "Labrador Retriever    100\n",
       "Pembroke               89\n",
       "Chihuahua              83\n",
       "Pug                    57\n",
       "                     ... \n",
       "Standard Schnauzer      1\n",
       "Entlebucher             1\n",
       "Clumber                 1\n",
       "Silky Terrier           1\n",
       "Groenendael             1\n",
       "Name: p1, Length: 111, dtype: int64"
      ]
     },
     "execution_count": 68,
     "metadata": {},
     "output_type": "execute_result"
    }
   ],
   "source": [
    "dog_list"
   ]
  },
  {
   "cell_type": "code",
   "execution_count": 69,
   "metadata": {},
   "outputs": [
    {
     "data": {
      "text/plain": [
       "Afghan Hound                       4\n",
       "Airedale                          12\n",
       "American Staffordshire Terrier    13\n",
       "Appenzeller                        2\n",
       "Australian Terrier                 2\n",
       "                                  ..\n",
       "Welsh Springer Spaniel             3\n",
       "West Highland White Terrier       14\n",
       "Whippet                            9\n",
       "Wire-Haired Fox Terrier            2\n",
       "Yorkshire Terrier                  8\n",
       "Name: p1, Length: 111, dtype: int64"
      ]
     },
     "execution_count": 69,
     "metadata": {},
     "output_type": "execute_result"
    }
   ],
   "source": [
    "dog_list.sort_index()"
   ]
  },
  {
   "cell_type": "markdown",
   "metadata": {},
   "source": [
    "# Storing the data"
   ]
  },
  {
   "cell_type": "code",
   "execution_count": 151,
   "metadata": {},
   "outputs": [],
   "source": [
    "stat_df.to_csv(\"tweets_clean.csv\", index = False)\n",
    "d_clean.to_csv(\"dog_predictions_clean.csv\", index = False)"
   ]
  },
  {
   "cell_type": "markdown",
   "metadata": {},
   "source": [
    "# Analysis\n",
    " - Which dog breeds get the most favourites by users?\n",
    " - Which dog breeds gets the most retweets by users?\n",
    " - How does the account popularity develop over time?"
   ]
  },
  {
   "cell_type": "markdown",
   "metadata": {},
   "source": [
    "#### Which dog breeds get posted the most?"
   ]
  },
  {
   "cell_type": "code",
   "execution_count": 164,
   "metadata": {},
   "outputs": [],
   "source": [
    "tweets = pd.read_csv(\"tweets_clean.csv\")\n",
    "dogs = pd.read_csv(\"dog_predictions_clean.csv\")"
   ]
  },
  {
   "cell_type": "code",
   "execution_count": 165,
   "metadata": {},
   "outputs": [
    {
     "data": {
      "text/html": [
       "<div>\n",
       "<style scoped>\n",
       "    .dataframe tbody tr th:only-of-type {\n",
       "        vertical-align: middle;\n",
       "    }\n",
       "\n",
       "    .dataframe tbody tr th {\n",
       "        vertical-align: top;\n",
       "    }\n",
       "\n",
       "    .dataframe thead th {\n",
       "        text-align: right;\n",
       "    }\n",
       "</style>\n",
       "<table border=\"1\" class=\"dataframe\">\n",
       "  <thead>\n",
       "    <tr style=\"text-align: right;\">\n",
       "      <th></th>\n",
       "      <th>tweet_id</th>\n",
       "      <th>jpg_url</th>\n",
       "      <th>img_num</th>\n",
       "      <th>p1</th>\n",
       "      <th>p1_conf</th>\n",
       "      <th>p1_dog</th>\n",
       "      <th>p2</th>\n",
       "      <th>p2_conf</th>\n",
       "      <th>p2_dog</th>\n",
       "      <th>p3</th>\n",
       "      <th>p3_conf</th>\n",
       "      <th>p3_dog</th>\n",
       "    </tr>\n",
       "  </thead>\n",
       "  <tbody>\n",
       "    <tr>\n",
       "      <th>0</th>\n",
       "      <td>666020888022790149</td>\n",
       "      <td>https://pbs.twimg.com/media/CT4udn0WwAA0aMy.jpg</td>\n",
       "      <td>1</td>\n",
       "      <td>Welsh Springer Spaniel</td>\n",
       "      <td>0.465074</td>\n",
       "      <td>True</td>\n",
       "      <td>Collie</td>\n",
       "      <td>0.156665</td>\n",
       "      <td>True</td>\n",
       "      <td>Shetland Sheepdog</td>\n",
       "      <td>0.061428</td>\n",
       "      <td>True</td>\n",
       "    </tr>\n",
       "  </tbody>\n",
       "</table>\n",
       "</div>"
      ],
      "text/plain": [
       "             tweet_id                                          jpg_url  \\\n",
       "0  666020888022790149  https://pbs.twimg.com/media/CT4udn0WwAA0aMy.jpg   \n",
       "\n",
       "   img_num                      p1   p1_conf  p1_dog      p2   p2_conf  \\\n",
       "0        1  Welsh Springer Spaniel  0.465074    True  Collie  0.156665   \n",
       "\n",
       "   p2_dog                 p3   p3_conf  p3_dog  \n",
       "0    True  Shetland Sheepdog  0.061428    True  "
      ]
     },
     "execution_count": 165,
     "metadata": {},
     "output_type": "execute_result"
    }
   ],
   "source": [
    "dogs.head(1)"
   ]
  },
  {
   "cell_type": "code",
   "execution_count": 166,
   "metadata": {},
   "outputs": [],
   "source": [
    "# Merge the two dataframes\n",
    "df = tweets.merge(dogs, how=\"inner\", on = \"tweet_id\")"
   ]
  },
  {
   "cell_type": "code",
   "execution_count": 167,
   "metadata": {},
   "outputs": [],
   "source": [
    "# Check the amount of dogs for each breed\n",
    "dog_numbers = df.query(\"p1_dog == True\").groupby(df.p1).count()"
   ]
  },
  {
   "cell_type": "code",
   "execution_count": 168,
   "metadata": {},
   "outputs": [
    {
     "data": {
      "text/html": [
       "<div>\n",
       "<style scoped>\n",
       "    .dataframe tbody tr th:only-of-type {\n",
       "        vertical-align: middle;\n",
       "    }\n",
       "\n",
       "    .dataframe tbody tr th {\n",
       "        vertical-align: top;\n",
       "    }\n",
       "\n",
       "    .dataframe thead th {\n",
       "        text-align: right;\n",
       "    }\n",
       "</style>\n",
       "<table border=\"1\" class=\"dataframe\">\n",
       "  <thead>\n",
       "    <tr style=\"text-align: right;\">\n",
       "      <th></th>\n",
       "      <th>tweet_id</th>\n",
       "      <th>timestamp</th>\n",
       "      <th>text</th>\n",
       "      <th>expanded_urls</th>\n",
       "      <th>rating_numerator</th>\n",
       "      <th>rating_denominator</th>\n",
       "      <th>name</th>\n",
       "      <th>follower_count</th>\n",
       "      <th>favourites_of_user_count</th>\n",
       "      <th>retweet_count</th>\n",
       "      <th>...</th>\n",
       "      <th>img_num</th>\n",
       "      <th>p1</th>\n",
       "      <th>p1_conf</th>\n",
       "      <th>p1_dog</th>\n",
       "      <th>p2</th>\n",
       "      <th>p2_conf</th>\n",
       "      <th>p2_dog</th>\n",
       "      <th>p3</th>\n",
       "      <th>p3_conf</th>\n",
       "      <th>p3_dog</th>\n",
       "    </tr>\n",
       "    <tr>\n",
       "      <th>p1</th>\n",
       "      <th></th>\n",
       "      <th></th>\n",
       "      <th></th>\n",
       "      <th></th>\n",
       "      <th></th>\n",
       "      <th></th>\n",
       "      <th></th>\n",
       "      <th></th>\n",
       "      <th></th>\n",
       "      <th></th>\n",
       "      <th></th>\n",
       "      <th></th>\n",
       "      <th></th>\n",
       "      <th></th>\n",
       "      <th></th>\n",
       "      <th></th>\n",
       "      <th></th>\n",
       "      <th></th>\n",
       "      <th></th>\n",
       "      <th></th>\n",
       "      <th></th>\n",
       "    </tr>\n",
       "  </thead>\n",
       "  <tbody>\n",
       "    <tr>\n",
       "      <th>Afghan Hound</th>\n",
       "      <td>3</td>\n",
       "      <td>3</td>\n",
       "      <td>3</td>\n",
       "      <td>3</td>\n",
       "      <td>3</td>\n",
       "      <td>3</td>\n",
       "      <td>3</td>\n",
       "      <td>3</td>\n",
       "      <td>3</td>\n",
       "      <td>3</td>\n",
       "      <td>...</td>\n",
       "      <td>3</td>\n",
       "      <td>3</td>\n",
       "      <td>3</td>\n",
       "      <td>3</td>\n",
       "      <td>3</td>\n",
       "      <td>3</td>\n",
       "      <td>3</td>\n",
       "      <td>3</td>\n",
       "      <td>3</td>\n",
       "      <td>3</td>\n",
       "    </tr>\n",
       "  </tbody>\n",
       "</table>\n",
       "<p>1 rows × 23 columns</p>\n",
       "</div>"
      ],
      "text/plain": [
       "              tweet_id  timestamp  text  expanded_urls  rating_numerator  \\\n",
       "p1                                                                         \n",
       "Afghan Hound         3          3     3              3                 3   \n",
       "\n",
       "              rating_denominator  name  follower_count  \\\n",
       "p1                                                       \n",
       "Afghan Hound                   3     3               3   \n",
       "\n",
       "              favourites_of_user_count  retweet_count  ...  img_num  p1  \\\n",
       "p1                                                     ...                \n",
       "Afghan Hound                         3              3  ...        3   3   \n",
       "\n",
       "              p1_conf  p1_dog  p2  p2_conf  p2_dog  p3  p3_conf  p3_dog  \n",
       "p1                                                                       \n",
       "Afghan Hound        3       3   3        3       3   3        3       3  \n",
       "\n",
       "[1 rows x 23 columns]"
      ]
     },
     "execution_count": 168,
     "metadata": {},
     "output_type": "execute_result"
    }
   ],
   "source": [
    "dog_numbers.head(1)"
   ]
  },
  {
   "cell_type": "code",
   "execution_count": 169,
   "metadata": {},
   "outputs": [
    {
     "data": {
      "image/png": "[encoded data removed]",
      "text/plain": [
       "<Figure size 1440x576 with 1 Axes>"
      ]
     },
     "metadata": {
      "needs_background": "light"
     },
     "output_type": "display_data"
    }
   ],
   "source": [
    "fig = plt.figure()\n",
    "\n",
    "ax = fig.add_subplot(111) # Create matplotlib axes\n",
    "\n",
    "width = 0.4\n",
    "\n",
    "dog_numbers.sort_values(by = \"tweet_id\", ascending = False).tweet_id.plot(kind='bar', color='blue', ax=ax, width=width, position=1, figsize = (20,8))\n",
    "\n",
    "\n",
    "ax.set_ylabel('Number of times posted')\n",
    "ax.set_xlabel('Dog breeds')\n",
    "\n",
    "\n",
    "plt.show()"
   ]
  },
  {
   "cell_type": "markdown",
   "metadata": {},
   "source": [
    "#### Which dog breed gets the most favourites (likes)?"
   ]
  },
  {
   "cell_type": "code",
   "execution_count": 170,
   "metadata": {},
   "outputs": [],
   "source": [
    "fav_dogs = df.query(\"p1_dog == True\").groupby(df.p1).sum()[[\"retweet_count\", \"favourite_of_post_count\", \"rating_numerator\"]]"
   ]
  },
  {
   "cell_type": "code",
   "execution_count": 171,
   "metadata": {},
   "outputs": [],
   "source": [
    "rel_fav_dogs = fav_dogs.copy()\n",
    "\n",
    "# Numbers for this analysis\n",
    "rel_fav_dogs[\"Relative favourites\"] = fav_dogs[\"favourite_of_post_count\"]/dog_numbers[\"tweet_id\"]\n",
    "# Numbers for the next analysis\n",
    "rel_fav_dogs[\"Relative retweets\"] = fav_dogs[\"retweet_count\"]/dog_numbers[\"tweet_id\"]\n",
    "# Numbers for the third analysis\n",
    "rel_fav_dogs[\"Relative rating\"] = fav_dogs[\"rating_numerator\"]/dog_numbers[\"tweet_id\"]\n",
    "rel_fav_dogs = rel_fav_dogs.sort_values(by = \"Relative favourites\", ascending = False)"
   ]
  },
  {
   "cell_type": "code",
   "execution_count": 172,
   "metadata": {},
   "outputs": [
    {
     "data": {
      "image/png": "[encoded data removed]",
      "text/plain": [
       "<Figure size 1440x576 with 2 Axes>"
      ]
     },
     "metadata": {
      "needs_background": "light"
     },
     "output_type": "display_data"
    }
   ],
   "source": [
    "fig = plt.figure()\n",
    "\n",
    "ax = fig.add_subplot(111) # Create matplotlib axes\n",
    "ax2 = ax.twinx() # Create another axes that shares the same x-axis as ax.\n",
    "\n",
    "width = 0.4\n",
    "\n",
    "rel_fav_dogs[\"Relative favourites\"].plot(kind='bar', color='red', ax=ax, width=width, position=1, figsize = (20,8))\n",
    "rel_fav_dogs[\"Relative retweets\"].plot(kind='bar', color='blue', ax=ax2, width=width, position=0)\n",
    "\n",
    "ax2.set_ylabel('Retweet count per dog posted')\n",
    "ax.set_ylabel('Favourite count per dog posted')\n",
    "ax.set_xlabel('Dog breeds')\n",
    "\n",
    "\n",
    "plt.show()"
   ]
  },
  {
   "cell_type": "markdown",
   "metadata": {},
   "source": [
    "#### Which dog breed gets the most retweets?"
   ]
  },
  {
   "cell_type": "code",
   "execution_count": 173,
   "metadata": {},
   "outputs": [
    {
     "data": {
      "image/png": "[encoded data removed]",
      "text/plain": [
       "<Figure size 1440x576 with 2 Axes>"
      ]
     },
     "metadata": {
      "needs_background": "light"
     },
     "output_type": "display_data"
    }
   ],
   "source": [
    "rel_fav_dogs = rel_fav_dogs.sort_values(by = \"Relative retweets\", ascending = False)\n",
    "fig = plt.figure()\n",
    "\n",
    "ax = fig.add_subplot(111) # Create matplotlib axes\n",
    "ax2 = ax.twinx() # Create another axes that shares the same x-axis as ax.\n",
    "\n",
    "width = 0.4\n",
    "\n",
    "rel_fav_dogs[\"Relative favourites\"].plot(kind='bar', color='red', ax=ax, width=width, position=1, figsize = (20,8))\n",
    "rel_fav_dogs[\"Relative retweets\"].plot(kind='bar', color='blue', ax=ax2, width=width, position=0)\n",
    "\n",
    "ax2.set_ylabel('Retweet count per dog posted')\n",
    "ax.set_ylabel('Favourite count per dog posted')\n",
    "ax.set_xlabel('Dog breeds')\n",
    "\n",
    "\n",
    "plt.show()"
   ]
  },
  {
   "cell_type": "markdown",
   "metadata": {},
   "source": [
    "#### Which breeds are favoured by the account?"
   ]
  },
  {
   "cell_type": "code",
   "execution_count": 174,
   "metadata": {},
   "outputs": [
    {
     "data": {
      "text/html": [
       "<div>\n",
       "<style scoped>\n",
       "    .dataframe tbody tr th:only-of-type {\n",
       "        vertical-align: middle;\n",
       "    }\n",
       "\n",
       "    .dataframe tbody tr th {\n",
       "        vertical-align: top;\n",
       "    }\n",
       "\n",
       "    .dataframe thead th {\n",
       "        text-align: right;\n",
       "    }\n",
       "</style>\n",
       "<table border=\"1\" class=\"dataframe\">\n",
       "  <thead>\n",
       "    <tr style=\"text-align: right;\">\n",
       "      <th></th>\n",
       "      <th>retweet_count</th>\n",
       "      <th>favourite_of_post_count</th>\n",
       "      <th>rating_numerator</th>\n",
       "      <th>Relative favourites</th>\n",
       "      <th>Relative retweets</th>\n",
       "      <th>Relative rating</th>\n",
       "    </tr>\n",
       "    <tr>\n",
       "      <th>p1</th>\n",
       "      <th></th>\n",
       "      <th></th>\n",
       "      <th></th>\n",
       "      <th></th>\n",
       "      <th></th>\n",
       "      <th></th>\n",
       "    </tr>\n",
       "  </thead>\n",
       "  <tbody>\n",
       "    <tr>\n",
       "      <th>Standard Poodle</th>\n",
       "      <td>41516.0</td>\n",
       "      <td>102826.0</td>\n",
       "      <td>72.0</td>\n",
       "      <td>14689.428571</td>\n",
       "      <td>5930.857143</td>\n",
       "      <td>5930.857143</td>\n",
       "    </tr>\n",
       "  </tbody>\n",
       "</table>\n",
       "</div>"
      ],
      "text/plain": [
       "                 retweet_count  favourite_of_post_count  rating_numerator  \\\n",
       "p1                                                                          \n",
       "Standard Poodle        41516.0                 102826.0              72.0   \n",
       "\n",
       "                 Relative favourites  Relative retweets  Relative rating  \n",
       "p1                                                                        \n",
       "Standard Poodle         14689.428571        5930.857143      5930.857143  "
      ]
     },
     "execution_count": 174,
     "metadata": {},
     "output_type": "execute_result"
    }
   ],
   "source": [
    "rel_fav_dogs.head(1)"
   ]
  },
  {
   "cell_type": "markdown",
   "metadata": {},
   "source": [
    "# Sources"
   ]
  },
  {
   "cell_type": "markdown",
   "metadata": {},
   "source": [
    "Two axis barplot: https://stackoverflow.com/questions/24183101/pandas-bar-plot-with-two-bars-and-two-y-axis"
   ]
  },
  {
   "cell_type": "code",
   "execution_count": null,
   "metadata": {},
   "outputs": [],
   "source": []
  }
 ],
 "metadata": {
  "kernelspec": {
   "display_name": "Python 3",
   "language": "python",
   "name": "python3"
  },
  "language_info": {
   "codemirror_mode": {
    "name": "ipython",
    "version": 3
   },
   "file_extension": ".py",
   "mimetype": "text/x-python",
   "name": "python",
   "nbconvert_exporter": "python",
   "pygments_lexer": "ipython3",
   "version": "3.7.6"
  }
 },
 "nbformat": 4,
 "nbformat_minor": 2
}
