{
 "cells": [
  {
   "cell_type": "markdown",
   "metadata": {},
   "source": [
    "# Gather data"
   ]
  },
  {
   "cell_type": "markdown",
   "metadata": {},
   "source": [
    "### Import necessary libraries"
   ]
  },
  {
   "cell_type": "code",
   "execution_count": 1,
   "metadata": {},
   "outputs": [],
   "source": [
    "import tweepy\n",
    "import pandas as pd\n",
    "import requests\n",
    "import io\n",
    "import json\n",
    "import os\n",
    "import glob\n",
    "import numpy as np\n",
    "import re"
   ]
  },
  {
   "cell_type": "markdown",
   "metadata": {},
   "source": [
    "### Initialize twitter API access"
   ]
  },
  {
   "cell_type": "code",
   "execution_count": 45,
   "metadata": {},
   "outputs": [],
   "source": [
    "\n",
    "consumer_key = ''\n",
    "consumer_secret = ''\n",
    "access_token = ''\n",
    "access_secret = ''\n",
    "\n",
    "\n",
    "auth = tweepy.OAuthHandler(consumer_key, consumer_secret)\n",
    "auth.set_access_token(access_token, access_secret)\n",
    "\n",
    "api = tweepy.API(auth ,wait_on_rate_limit=True, wait_on_rate_limit_notify=True)"
   ]
  },
  {
   "cell_type": "markdown",
   "metadata": {},
   "source": [
    "### Import twitter archive of user WeRateDogs"
   ]
  },
  {
   "cell_type": "code",
   "execution_count": 46,
   "metadata": {},
   "outputs": [],
   "source": [
    "df = pd.read_csv(\"twitter-archive-enhanced.csv\")"
   ]
  },
  {
   "cell_type": "markdown",
   "metadata": {},
   "source": [
    "### Gather additional tweet data and save it in a folder"
   ]
  },
  {
   "cell_type": "code",
   "execution_count": 47,
   "metadata": {},
   "outputs": [],
   "source": [
    "# Check which staus info is already collected\n",
    "folder_name = \"tweet_data\"\n",
    "ids_collected = list(map(lambda x: int(x[11:-4]), glob.glob(folder_name+\"/*.txt\")))"
   ]
  },
  {
   "cell_type": "code",
   "execution_count": 260,
   "metadata": {},
   "outputs": [],
   "source": [
    "def get_tweet_status():\n",
    "    '''\n",
    "    Takes the status ids of the twitter archive csv and queries the twitter api for the complete information.\n",
    "    Saves a text file with the information for each twitter status. Also saves a list of statuses that were \n",
    "    not able to be retrieved from the API\n",
    "    \n",
    "    Args:\n",
    "        None\n",
    "    Output:\n",
    "        None\n",
    "    '''\n",
    "    # Create a folder to store all the tweet data inside\n",
    "    if not os.path.exists(folder_name):\n",
    "        os.makedirs(folder_name)\n",
    "\n",
    "    # Error list for possibly deleted tweets\n",
    "    error_list = []\n",
    "    # Variable to measure progress\n",
    "    i = 1\n",
    "    # Get the status for each tweet id in the tweet_id column of the twitter archive\n",
    "    \n",
    "    for tweet_id in list(df.tweet_id):\n",
    "        \n",
    "        # Print progress status for every 20th call\n",
    "        if i%20 ==0:\n",
    "            print(str(i/len(df)*100)+\"% of API download done\")\n",
    "        \n",
    "        # If the id is already collected it should be skipped to save time\n",
    "        if tweet_id not in ids_collected:\n",
    "            try:\n",
    "                tweet = api.get_status(tweet_id)\n",
    "                data = tweet._json\n",
    "\n",
    "                #Save the json data as a txt file with the corresponding tweet id (Saving as .txt to fulfill project rubric)\n",
    "                with open(folder_name+\"/\"+str(tweet_id)+'.txt', 'w', encoding='utf-8') as f:\n",
    "                    json.dump(data, f, ensure_ascii=False, indent=4)\n",
    "            except Exception as e:\n",
    "                error_list.append(tweet_id)\n",
    "                print(\"The status of the tweet with id {} is not possible to access\".format(tweet_id))\n",
    "            # Store the tweet json data in a variable\n",
    "            \n",
    "                \n",
    "        i+=1\n",
    "        \n",
    "    # Save the error list for later usage    \n",
    "    pd.DataFrame(error_list).to_csv(\"na_ids.csv\", index = False)\n",
    "    "
   ]
  },
  {
   "cell_type": "code",
   "execution_count": 49,
   "metadata": {},
   "outputs": [
    {
     "name": "stdout",
     "output_type": "stream",
     "text": [
      "0.8488964346349746% of API download done\n",
      "The status of the tweet with id 888202515573088257 is not possible to access\n",
      "1.697792869269949% of API download done\n",
      "2.5466893039049237% of API download done\n",
      "3.395585738539898% of API download done\n",
      "The status of the tweet with id 873697596434513921 is not possible to access\n",
      "4.244482173174872% of API download done\n",
      "The status of the tweet with id 872668790621863937 is not possible to access\n",
      "The status of the tweet with id 872261713294495745 is not possible to access\n",
      "The status of the tweet with id 869988702071779329 is not possible to access\n",
      "5.093378607809847% of API download done\n",
      "The status of the tweet with id 866816280283807744 is not possible to access\n",
      "5.942275042444821% of API download done\n",
      "The status of the tweet with id 861769973181624320 is not possible to access\n",
      "6.791171477079796% of API download done\n",
      "7.6400679117147705% of API download done\n",
      "The status of the tweet with id 856602993587888130 is not possible to access\n",
      "8.488964346349745% of API download done\n",
      "The status of the tweet with id 851953902622658560 is not possible to access\n",
      "9.337860780984721% of API download done\n",
      "10.186757215619695% of API download done\n",
      "The status of the tweet with id 845459076796616705 is not possible to access\n",
      "The status of the tweet with id 844704788403113984 is not possible to access\n",
      "11.03565365025467% of API download done\n",
      "The status of the tweet with id 842892208864923648 is not possible to access\n",
      "11.884550084889643% of API download done\n",
      "The status of the tweet with id 837366284874571778 is not possible to access\n",
      "The status of the tweet with id 837012587749474308 is not possible to access\n",
      "12.73344651952462% of API download done\n",
      "13.582342954159593% of API download done\n",
      "14.431239388794568% of API download done\n",
      "15.280135823429541% of API download done\n",
      "The status of the tweet with id 829374341691346946 is not possible to access\n",
      "16.129032258064516% of API download done\n",
      "The status of the tweet with id 827228250799742977 is not possible to access\n",
      "16.97792869269949% of API download done\n",
      "17.826825127334462% of API download done\n",
      "18.675721561969443% of API download done\n",
      "19.524617996604416% of API download done\n",
      "20.37351443123939% of API download done\n",
      "21.222410865874362% of API download done\n",
      "The status of the tweet with id 812747805718642688 is not possible to access\n",
      "22.07130730050934% of API download done\n",
      "22.920203735144312% of API download done\n",
      "23.769100169779286% of API download done\n",
      "The status of the tweet with id 802247111496568832 is not possible to access\n",
      "24.61799660441426% of API download done\n",
      "25.46689303904924% of API download done\n",
      "26.31578947368421% of API download done\n",
      "27.164685908319186% of API download done\n",
      "28.01358234295416% of API download done\n",
      "28.862478777589136% of API download done\n",
      "29.711375212224105% of API download done\n",
      "30.560271646859082% of API download done\n",
      "31.40916808149406% of API download done\n",
      "The status of the tweet with id 779123168116150273 is not possible to access\n",
      "32.25806451612903% of API download done\n",
      "33.106960950764005% of API download done\n",
      "The status of the tweet with id 775096608509886464 is not possible to access\n",
      "33.95585738539898% of API download done\n",
      "The status of the tweet with id 771004394259247104 is not possible to access\n",
      "The status of the tweet with id 770743923962707968 is not possible to access\n",
      "34.80475382003396% of API download done\n",
      "35.653650254668925% of API download done\n",
      "36.502546689303905% of API download done\n",
      "37.351443123938886% of API download done\n",
      "The status of the tweet with id 759566828574212096 is not possible to access\n",
      "38.20033955857385% of API download done\n",
      "39.04923599320883% of API download done\n",
      "The status of the tweet with id 754011816964026368 is not possible to access\n",
      "39.898132427843805% of API download done\n",
      "40.74702886247878% of API download done\n",
      "41.59592529711375% of API download done\n",
      "42.444821731748725% of API download done\n",
      "43.2937181663837% of API download done\n",
      "44.14261460101868% of API download done\n",
      "44.99151103565365% of API download done\n",
      "45.840407470288625% of API download done\n",
      "46.6893039049236% of API download done\n",
      "47.53820033955857% of API download done\n",
      "48.38709677419355% of API download done\n",
      "49.23599320882852% of API download done\n",
      "50.08488964346349% of API download done\n",
      "50.93378607809848% of API download done\n",
      "51.782682512733444% of API download done\n",
      "52.63157894736842% of API download done\n",
      "53.4804753820034% of API download done\n",
      "54.32937181663837% of API download done\n",
      "55.178268251273344% of API download done\n",
      "56.02716468590832% of API download done\n",
      "56.8760611205433% of API download done\n",
      "57.72495755517827% of API download done\n",
      "58.57385398981324% of API download done\n",
      "59.42275042444821% of API download done\n",
      "60.27164685908319% of API download done\n",
      "61.120543293718164% of API download done\n",
      "61.96943972835314% of API download done\n",
      "62.81833616298812% of API download done\n",
      "63.66723259762309% of API download done\n",
      "64.51612903225806% of API download done\n",
      "65.36502546689303% of API download done\n",
      "66.21392190152801% of API download done\n",
      "67.06281833616299% of API download done\n",
      "67.91171477079796% of API download done\n",
      "68.76061120543294% of API download done\n",
      "69.60950764006792% of API download done\n"
     ]
    },
    {
     "name": "stderr",
     "output_type": "stream",
     "text": [
      "Rate limit reached. Sleeping for: 682\n"
     ]
    },
    {
     "name": "stdout",
     "output_type": "stream",
     "text": [
      "70.45840407470288% of API download done\n",
      "71.30730050933785% of API download done\n",
      "72.15619694397284% of API download done\n",
      "73.00509337860781% of API download done\n",
      "The status of the tweet with id 680055455951884288 is not possible to access\n",
      "73.85398981324278% of API download done\n",
      "74.70288624787777% of API download done\n",
      "75.55178268251274% of API download done\n",
      "76.4006791171477% of API download done\n",
      "77.24957555178268% of API download done\n",
      "78.09847198641766% of API download done\n",
      "78.94736842105263% of API download done\n",
      "79.79626485568761% of API download done\n",
      "80.64516129032258% of API download done\n",
      "81.49405772495756% of API download done\n",
      "82.34295415959252% of API download done\n",
      "83.1918505942275% of API download done\n",
      "84.04074702886248% of API download done\n",
      "84.88964346349745% of API download done\n",
      "85.73853989813243% of API download done\n",
      "86.5874363327674% of API download done\n",
      "87.43633276740238% of API download done\n",
      "88.28522920203736% of API download done\n",
      "89.13412563667232% of API download done\n",
      "89.9830220713073% of API download done\n",
      "90.83191850594228% of API download done\n",
      "91.68081494057725% of API download done\n",
      "92.52971137521222% of API download done\n",
      "93.3786078098472% of API download done\n",
      "94.22750424448218% of API download done\n",
      "95.07640067911714% of API download done\n",
      "95.92529711375212% of API download done\n",
      "96.7741935483871% of API download done\n",
      "97.62308998302207% of API download done\n",
      "98.47198641765704% of API download done\n",
      "99.32088285229203% of API download done\n"
     ]
    }
   ],
   "source": [
    "# Only used once to get the data\n",
    "#get_tweet_status()"
   ]
  },
  {
   "cell_type": "markdown",
   "metadata": {},
   "source": [
    "### Import tweet status data pulled from the API as text and write it in a dataframe\n",
    "Comment: I saved the data as txt to fulfill the rubric of this project to work with three different kind of data.\n",
    "It would have been a lot easier to query the json structure than this regex stuff which is quite an unrobust and dirty solution I think."
   ]
  },
  {
   "cell_type": "code",
   "execution_count": 248,
   "metadata": {},
   "outputs": [],
   "source": [
    "def text_to_df():  \n",
    "    '''\n",
    "    Takes the text files from the subfolder and saves the tweet id,\n",
    "    follower_count, favourites of user count, retweet count and the \n",
    "    favourites of the post count in a dataframe.\n",
    "    \n",
    "    Args:\n",
    "        None\n",
    "    Output:\n",
    "        Saves the data as a dataframe, returns no output.\n",
    "    '''\n",
    "    # Initialize list of dictionaries\n",
    "    df_list = []\n",
    "\n",
    "    for status in glob.glob(folder_name+\"/*.txt\"):\n",
    "        with open(status, encoding = \"utf-8\") as file:\n",
    "            # Read only the couple of first lines for the id, afterwards the files differ from each other\n",
    "            lines = file.readlines()[2:4]\n",
    "            file.seek(0)\n",
    "            text = file.read()\n",
    "            text_id = lines[1].strip()[11:-2]\n",
    "\n",
    "            # Be sure that ids are consistent\n",
    "            if text_id != status[11:-4]:\n",
    "                raise Exception(\"Id saved in file does not match id from filename\")\n",
    "\n",
    "            # Find the needed data with regex, since line by line reading not possible\n",
    "            follower_count = re.findall(r\"\\\"followers_count\\\": (\\d+),\", text)[0]\n",
    "            favourites_of_user_count = re.findall(r\"\\\"favourites_count\\\": (\\d+),\", text)[0]\n",
    "            favourite_of_post_count = re.findall(r\"\\\"favorite_count\\\": (\\d+),\", text)[0]\n",
    "            retweet_count = re.findall(r\"\\\"retweet_count\\\": (\\d+),\", text)[0]\n",
    "\n",
    "            # Append the list entry of dictionaries to create a dataframe\n",
    "            df_list.append({\"tweet_id\": text_id,\n",
    "                           \"follower_count\": follower_count,\n",
    "                           \"favourites_of_user_count\": favourites_of_user_count,\n",
    "                           \"retweet_count\": retweet_count,\n",
    "                           \"favourite_of_post_count\": favourite_of_post_count})\n",
    "\n",
    "            file.close()\n",
    "\n",
    "\n",
    "    df_additional_data = pd.DataFrame(df_list, columns = [\"tweet_id\", \"follower_count\", \"favourites_of_user_count\", \"retweet_count\", \"favourite_of_post_count\"])\n",
    "    df_additional_data.to_csv(\"api_twitter_status.csv\")"
   ]
  },
  {
   "cell_type": "code",
   "execution_count": 259,
   "metadata": {},
   "outputs": [],
   "source": [
    "# Only needed to run once to create the df\n",
    "#text_to_df()"
   ]
  },
  {
   "cell_type": "code",
   "execution_count": null,
   "metadata": {},
   "outputs": [],
   "source": []
  },
  {
   "cell_type": "markdown",
   "metadata": {},
   "source": [
    "### Download the dog predictions file"
   ]
  },
  {
   "cell_type": "code",
   "execution_count": 252,
   "metadata": {},
   "outputs": [],
   "source": [
    "r = requests.get('https://d17h27t6h515a5.cloudfront.net/topher/2017/August/599fd2ad_image-predictions/image-predictions.tsv').content\n",
    "\n",
    "dog_predictions = pd.read_csv(io.StringIO(r.decode('utf-8')), sep = \"\\t\")\n",
    "\n",
    "dog_predictions.to_csv(\"dog_predictions.csv\")"
   ]
  },
  {
   "cell_type": "markdown",
   "metadata": {},
   "source": [
    "# Asses\n",
    "Now that all needed data is gathered the three data frames are assessed.\n",
    "The dataframes are:\n",
    " - twitter-archives-enhanced.csv\n",
    " - api_twitter_status.csv\n",
    " - dog_predictions.csv\n",
    " \n",
    " *All found issues are recorded at the bottom of this chapter*\n"
   ]
  },
  {
   "cell_type": "code",
   "execution_count": 2,
   "metadata": {},
   "outputs": [],
   "source": [
    "twitter_df = pd.read_csv(\"twitter-archive-enhanced.csv\")\n",
    "api_df = pd.read_csv(\"api_twitter_status.csv\", index_col = 0)\n",
    "dogs_df = pd.read_csv(\"dog_predictions.csv\", index_col = 0)\n",
    "# List of statuses that were not available over the api\n",
    "na_id = pd.read_csv(\"na_ids.csv\")"
   ]
  },
  {
   "cell_type": "code",
   "execution_count": 3,
   "metadata": {},
   "outputs": [
    {
     "data": {
      "text/html": [
       "<div>\n",
       "<style scoped>\n",
       "    .dataframe tbody tr th:only-of-type {\n",
       "        vertical-align: middle;\n",
       "    }\n",
       "\n",
       "    .dataframe tbody tr th {\n",
       "        vertical-align: top;\n",
       "    }\n",
       "\n",
       "    .dataframe thead th {\n",
       "        text-align: right;\n",
       "    }\n",
       "</style>\n",
       "<table border=\"1\" class=\"dataframe\">\n",
       "  <thead>\n",
       "    <tr style=\"text-align: right;\">\n",
       "      <th></th>\n",
       "      <th>tweet_id</th>\n",
       "      <th>in_reply_to_status_id</th>\n",
       "      <th>in_reply_to_user_id</th>\n",
       "      <th>timestamp</th>\n",
       "      <th>source</th>\n",
       "      <th>text</th>\n",
       "      <th>retweeted_status_id</th>\n",
       "      <th>retweeted_status_user_id</th>\n",
       "      <th>retweeted_status_timestamp</th>\n",
       "      <th>expanded_urls</th>\n",
       "      <th>rating_numerator</th>\n",
       "      <th>rating_denominator</th>\n",
       "      <th>name</th>\n",
       "      <th>doggo</th>\n",
       "      <th>floofer</th>\n",
       "      <th>pupper</th>\n",
       "      <th>puppo</th>\n",
       "    </tr>\n",
       "  </thead>\n",
       "  <tbody>\n",
       "    <tr>\n",
       "      <th>444</th>\n",
       "      <td>819238181065359361</td>\n",
       "      <td>NaN</td>\n",
       "      <td>NaN</td>\n",
       "      <td>2017-01-11 17:42:57 +0000</td>\n",
       "      <td>&lt;a href=\"http://twitter.com\" rel=\"nofollow\"&gt;Tw...</td>\n",
       "      <td>Some happy pupper news to share. 10/10 for eve...</td>\n",
       "      <td>NaN</td>\n",
       "      <td>NaN</td>\n",
       "      <td>NaN</td>\n",
       "      <td>http://us.blastingnews.com/news/2017/01/200-do...</td>\n",
       "      <td>10</td>\n",
       "      <td>10</td>\n",
       "      <td>None</td>\n",
       "      <td>None</td>\n",
       "      <td>None</td>\n",
       "      <td>pupper</td>\n",
       "      <td>None</td>\n",
       "    </tr>\n",
       "    <tr>\n",
       "      <th>1511</th>\n",
       "      <td>691416866452082688</td>\n",
       "      <td>NaN</td>\n",
       "      <td>NaN</td>\n",
       "      <td>2016-01-25 00:26:41 +0000</td>\n",
       "      <td>&lt;a href=\"http://twitter.com/download/iphone\" r...</td>\n",
       "      <td>I present to you... Dog Jesus. 13/10 (he could...</td>\n",
       "      <td>NaN</td>\n",
       "      <td>NaN</td>\n",
       "      <td>NaN</td>\n",
       "      <td>https://twitter.com/dog_rates/status/691416866...</td>\n",
       "      <td>13</td>\n",
       "      <td>10</td>\n",
       "      <td>None</td>\n",
       "      <td>None</td>\n",
       "      <td>None</td>\n",
       "      <td>None</td>\n",
       "      <td>None</td>\n",
       "    </tr>\n",
       "    <tr>\n",
       "      <th>282</th>\n",
       "      <td>839239871831150596</td>\n",
       "      <td>NaN</td>\n",
       "      <td>NaN</td>\n",
       "      <td>2017-03-07 22:22:32 +0000</td>\n",
       "      <td>&lt;a href=\"http://twitter.com/download/iphone\" r...</td>\n",
       "      <td>This is Odie. He's big. 13/10 would attempt to...</td>\n",
       "      <td>NaN</td>\n",
       "      <td>NaN</td>\n",
       "      <td>NaN</td>\n",
       "      <td>https://twitter.com/dog_rates/status/839239871...</td>\n",
       "      <td>13</td>\n",
       "      <td>10</td>\n",
       "      <td>Odie</td>\n",
       "      <td>None</td>\n",
       "      <td>None</td>\n",
       "      <td>None</td>\n",
       "      <td>None</td>\n",
       "    </tr>\n",
       "    <tr>\n",
       "      <th>2003</th>\n",
       "      <td>672475084225949696</td>\n",
       "      <td>NaN</td>\n",
       "      <td>NaN</td>\n",
       "      <td>2015-12-03 17:58:48 +0000</td>\n",
       "      <td>&lt;a href=\"http://twitter.com/download/iphone\" r...</td>\n",
       "      <td>This is Buddy. He's photogenic af. Loves to se...</td>\n",
       "      <td>NaN</td>\n",
       "      <td>NaN</td>\n",
       "      <td>NaN</td>\n",
       "      <td>https://twitter.com/dog_rates/status/672475084...</td>\n",
       "      <td>8</td>\n",
       "      <td>10</td>\n",
       "      <td>Buddy</td>\n",
       "      <td>None</td>\n",
       "      <td>None</td>\n",
       "      <td>None</td>\n",
       "      <td>None</td>\n",
       "    </tr>\n",
       "    <tr>\n",
       "      <th>1925</th>\n",
       "      <td>674063288070742018</td>\n",
       "      <td>NaN</td>\n",
       "      <td>NaN</td>\n",
       "      <td>2015-12-08 03:09:46 +0000</td>\n",
       "      <td>&lt;a href=\"http://twitter.com/download/iphone\" r...</td>\n",
       "      <td>This is Earl. Earl is lost. Someone help Earl....</td>\n",
       "      <td>NaN</td>\n",
       "      <td>NaN</td>\n",
       "      <td>NaN</td>\n",
       "      <td>https://twitter.com/dog_rates/status/674063288...</td>\n",
       "      <td>5</td>\n",
       "      <td>10</td>\n",
       "      <td>Earl</td>\n",
       "      <td>None</td>\n",
       "      <td>None</td>\n",
       "      <td>None</td>\n",
       "      <td>None</td>\n",
       "    </tr>\n",
       "  </tbody>\n",
       "</table>\n",
       "</div>"
      ],
      "text/plain": [
       "                tweet_id  in_reply_to_status_id  in_reply_to_user_id  \\\n",
       "444   819238181065359361                    NaN                  NaN   \n",
       "1511  691416866452082688                    NaN                  NaN   \n",
       "282   839239871831150596                    NaN                  NaN   \n",
       "2003  672475084225949696                    NaN                  NaN   \n",
       "1925  674063288070742018                    NaN                  NaN   \n",
       "\n",
       "                      timestamp  \\\n",
       "444   2017-01-11 17:42:57 +0000   \n",
       "1511  2016-01-25 00:26:41 +0000   \n",
       "282   2017-03-07 22:22:32 +0000   \n",
       "2003  2015-12-03 17:58:48 +0000   \n",
       "1925  2015-12-08 03:09:46 +0000   \n",
       "\n",
       "                                                 source  \\\n",
       "444   <a href=\"http://twitter.com\" rel=\"nofollow\">Tw...   \n",
       "1511  <a href=\"http://twitter.com/download/iphone\" r...   \n",
       "282   <a href=\"http://twitter.com/download/iphone\" r...   \n",
       "2003  <a href=\"http://twitter.com/download/iphone\" r...   \n",
       "1925  <a href=\"http://twitter.com/download/iphone\" r...   \n",
       "\n",
       "                                                   text  retweeted_status_id  \\\n",
       "444   Some happy pupper news to share. 10/10 for eve...                  NaN   \n",
       "1511  I present to you... Dog Jesus. 13/10 (he could...                  NaN   \n",
       "282   This is Odie. He's big. 13/10 would attempt to...                  NaN   \n",
       "2003  This is Buddy. He's photogenic af. Loves to se...                  NaN   \n",
       "1925  This is Earl. Earl is lost. Someone help Earl....                  NaN   \n",
       "\n",
       "      retweeted_status_user_id retweeted_status_timestamp  \\\n",
       "444                        NaN                        NaN   \n",
       "1511                       NaN                        NaN   \n",
       "282                        NaN                        NaN   \n",
       "2003                       NaN                        NaN   \n",
       "1925                       NaN                        NaN   \n",
       "\n",
       "                                          expanded_urls  rating_numerator  \\\n",
       "444   http://us.blastingnews.com/news/2017/01/200-do...                10   \n",
       "1511  https://twitter.com/dog_rates/status/691416866...                13   \n",
       "282   https://twitter.com/dog_rates/status/839239871...                13   \n",
       "2003  https://twitter.com/dog_rates/status/672475084...                 8   \n",
       "1925  https://twitter.com/dog_rates/status/674063288...                 5   \n",
       "\n",
       "      rating_denominator   name doggo floofer  pupper puppo  \n",
       "444                   10   None  None    None  pupper  None  \n",
       "1511                  10   None  None    None    None  None  \n",
       "282                   10   Odie  None    None    None  None  \n",
       "2003                  10  Buddy  None    None    None  None  \n",
       "1925                  10   Earl  None    None    None  None  "
      ]
     },
     "execution_count": 3,
     "metadata": {},
     "output_type": "execute_result"
    }
   ],
   "source": [
    "twitter_df.sample(5)"
   ]
  },
  {
   "cell_type": "code",
   "execution_count": 15,
   "metadata": {},
   "outputs": [
    {
     "name": "stdout",
     "output_type": "stream",
     "text": [
      "<class 'pandas.core.frame.DataFrame'>\n",
      "RangeIndex: 2356 entries, 0 to 2355\n",
      "Data columns (total 17 columns):\n",
      "tweet_id                      2356 non-null int64\n",
      "in_reply_to_status_id         78 non-null float64\n",
      "in_reply_to_user_id           78 non-null float64\n",
      "timestamp                     2356 non-null object\n",
      "source                        2356 non-null object\n",
      "text                          2356 non-null object\n",
      "retweeted_status_id           181 non-null float64\n",
      "retweeted_status_user_id      181 non-null float64\n",
      "retweeted_status_timestamp    181 non-null object\n",
      "expanded_urls                 2297 non-null object\n",
      "rating_numerator              2356 non-null int64\n",
      "rating_denominator            2356 non-null int64\n",
      "name                          2356 non-null object\n",
      "doggo                         2356 non-null object\n",
      "floofer                       2356 non-null object\n",
      "pupper                        2356 non-null object\n",
      "puppo                         2356 non-null object\n",
      "dtypes: float64(4), int64(3), object(10)\n",
      "memory usage: 313.0+ KB\n"
     ]
    }
   ],
   "source": [
    "twitter_df.info()"
   ]
  },
  {
   "cell_type": "code",
   "execution_count": 16,
   "metadata": {},
   "outputs": [
    {
     "data": {
      "text/plain": [
       "str"
      ]
     },
     "execution_count": 16,
     "metadata": {},
     "output_type": "execute_result"
    }
   ],
   "source": [
    "type(twitter_df.timestamp[0])"
   ]
  },
  {
   "cell_type": "code",
   "execution_count": 4,
   "metadata": {},
   "outputs": [
    {
     "data": {
      "text/plain": [
       "NaN             2278\n",
       "6.671522e+17       2\n",
       "6.737159e+17       1\n",
       "6.753494e+17       1\n",
       "6.754971e+17       1\n",
       "                ... \n",
       "8.707262e+17       1\n",
       "8.482121e+17       1\n",
       "6.715449e+17       1\n",
       "6.936422e+17       1\n",
       "8.406983e+17       1\n",
       "Name: in_reply_to_status_id, Length: 78, dtype: int64"
      ]
     },
     "execution_count": 4,
     "metadata": {},
     "output_type": "execute_result"
    }
   ],
   "source": [
    "twitter_df.in_reply_to_status_id.value_counts(dropna = False)"
   ]
  },
  {
   "cell_type": "code",
   "execution_count": 11,
   "metadata": {},
   "outputs": [
    {
     "data": {
      "text/plain": [
       "<a href=\"http://twitter.com/download/iphone\" rel=\"nofollow\">Twitter for iPhone</a>     2221\n",
       "<a href=\"http://vine.co\" rel=\"nofollow\">Vine - Make a Scene</a>                          91\n",
       "<a href=\"http://twitter.com\" rel=\"nofollow\">Twitter Web Client</a>                       33\n",
       "<a href=\"https://about.twitter.com/products/tweetdeck\" rel=\"nofollow\">TweetDeck</a>      11\n",
       "Name: source, dtype: int64"
      ]
     },
     "execution_count": 11,
     "metadata": {},
     "output_type": "execute_result"
    }
   ],
   "source": [
    "twitter_df.source.value_counts()"
   ]
  },
  {
   "cell_type": "code",
   "execution_count": 21,
   "metadata": {},
   "outputs": [
    {
     "data": {
      "text/plain": [
       "0"
      ]
     },
     "execution_count": 21,
     "metadata": {},
     "output_type": "execute_result"
    }
   ],
   "source": [
    "twitter_df.duplicated().sum()"
   ]
  },
  {
   "cell_type": "code",
   "execution_count": 5,
   "metadata": {},
   "outputs": [
    {
     "data": {
      "text/html": [
       "<div>\n",
       "<style scoped>\n",
       "    .dataframe tbody tr th:only-of-type {\n",
       "        vertical-align: middle;\n",
       "    }\n",
       "\n",
       "    .dataframe tbody tr th {\n",
       "        vertical-align: top;\n",
       "    }\n",
       "\n",
       "    .dataframe thead th {\n",
       "        text-align: right;\n",
       "    }\n",
       "</style>\n",
       "<table border=\"1\" class=\"dataframe\">\n",
       "  <thead>\n",
       "    <tr style=\"text-align: right;\">\n",
       "      <th></th>\n",
       "      <th>tweet_id</th>\n",
       "      <th>follower_count</th>\n",
       "      <th>favourites_of_user_count</th>\n",
       "      <th>retweet_count</th>\n",
       "      <th>favourite_of_post_count</th>\n",
       "    </tr>\n",
       "  </thead>\n",
       "  <tbody>\n",
       "    <tr>\n",
       "      <th>1506</th>\n",
       "      <td>838083903487373313</td>\n",
       "      <td>8709205</td>\n",
       "      <td>144674</td>\n",
       "      <td>3163</td>\n",
       "      <td>17791</td>\n",
       "    </tr>\n",
       "    <tr>\n",
       "      <th>1380</th>\n",
       "      <td>834458053273591808</td>\n",
       "      <td>8709205</td>\n",
       "      <td>144674</td>\n",
       "      <td>1703</td>\n",
       "      <td>9732</td>\n",
       "    </tr>\n",
       "    <tr>\n",
       "      <th>1543</th>\n",
       "      <td>836380477523124226</td>\n",
       "      <td>8709205</td>\n",
       "      <td>144674</td>\n",
       "      <td>3010</td>\n",
       "      <td>14898</td>\n",
       "    </tr>\n",
       "    <tr>\n",
       "      <th>965</th>\n",
       "      <td>666345417576210432</td>\n",
       "      <td>8709247</td>\n",
       "      <td>144674</td>\n",
       "      <td>128</td>\n",
       "      <td>275</td>\n",
       "    </tr>\n",
       "    <tr>\n",
       "      <th>1677</th>\n",
       "      <td>880095782870896641</td>\n",
       "      <td>8709204</td>\n",
       "      <td>144674</td>\n",
       "      <td>4002</td>\n",
       "      <td>26147</td>\n",
       "    </tr>\n",
       "  </tbody>\n",
       "</table>\n",
       "</div>"
      ],
      "text/plain": [
       "                tweet_id  follower_count  favourites_of_user_count  \\\n",
       "1506  838083903487373313         8709205                    144674   \n",
       "1380  834458053273591808         8709205                    144674   \n",
       "1543  836380477523124226         8709205                    144674   \n",
       "965   666345417576210432         8709247                    144674   \n",
       "1677  880095782870896641         8709204                    144674   \n",
       "\n",
       "      retweet_count  favourite_of_post_count  \n",
       "1506           3163                    17791  \n",
       "1380           1703                     9732  \n",
       "1543           3010                    14898  \n",
       "965             128                      275  \n",
       "1677           4002                    26147  "
      ]
     },
     "execution_count": 5,
     "metadata": {},
     "output_type": "execute_result"
    }
   ],
   "source": [
    "api_df.sample(5)"
   ]
  },
  {
   "cell_type": "code",
   "execution_count": 17,
   "metadata": {},
   "outputs": [
    {
     "name": "stdout",
     "output_type": "stream",
     "text": [
      "<class 'pandas.core.frame.DataFrame'>\n",
      "Int64Index: 2331 entries, 0 to 2330\n",
      "Data columns (total 5 columns):\n",
      "tweet_id                    2331 non-null int64\n",
      "follower_count              2331 non-null int64\n",
      "favourites_of_user_count    2331 non-null int64\n",
      "retweet_count               2331 non-null int64\n",
      "favourite_of_post_count     2331 non-null int64\n",
      "dtypes: int64(5)\n",
      "memory usage: 109.3 KB\n"
     ]
    }
   ],
   "source": [
    "api_df.info()"
   ]
  },
  {
   "cell_type": "code",
   "execution_count": 22,
   "metadata": {},
   "outputs": [
    {
     "data": {
      "text/plain": [
       "0"
      ]
     },
     "execution_count": 22,
     "metadata": {},
     "output_type": "execute_result"
    }
   ],
   "source": [
    "api_df.duplicated().sum()"
   ]
  },
  {
   "cell_type": "code",
   "execution_count": 6,
   "metadata": {},
   "outputs": [
    {
     "data": {
      "text/html": [
       "<div>\n",
       "<style scoped>\n",
       "    .dataframe tbody tr th:only-of-type {\n",
       "        vertical-align: middle;\n",
       "    }\n",
       "\n",
       "    .dataframe tbody tr th {\n",
       "        vertical-align: top;\n",
       "    }\n",
       "\n",
       "    .dataframe thead th {\n",
       "        text-align: right;\n",
       "    }\n",
       "</style>\n",
       "<table border=\"1\" class=\"dataframe\">\n",
       "  <thead>\n",
       "    <tr style=\"text-align: right;\">\n",
       "      <th></th>\n",
       "      <th>tweet_id</th>\n",
       "      <th>jpg_url</th>\n",
       "      <th>img_num</th>\n",
       "      <th>p1</th>\n",
       "      <th>p1_conf</th>\n",
       "      <th>p1_dog</th>\n",
       "      <th>p2</th>\n",
       "      <th>p2_conf</th>\n",
       "      <th>p2_dog</th>\n",
       "      <th>p3</th>\n",
       "      <th>p3_conf</th>\n",
       "      <th>p3_dog</th>\n",
       "    </tr>\n",
       "  </thead>\n",
       "  <tbody>\n",
       "    <tr>\n",
       "      <th>2005</th>\n",
       "      <td>877556246731214848</td>\n",
       "      <td>https://pbs.twimg.com/media/DC20wEcW0AAf59m.jpg</td>\n",
       "      <td>1</td>\n",
       "      <td>basset</td>\n",
       "      <td>0.995368</td>\n",
       "      <td>True</td>\n",
       "      <td>Welsh_springer_spaniel</td>\n",
       "      <td>0.001936</td>\n",
       "      <td>True</td>\n",
       "      <td>bathtub</td>\n",
       "      <td>0.000468</td>\n",
       "      <td>False</td>\n",
       "    </tr>\n",
       "    <tr>\n",
       "      <th>167</th>\n",
       "      <td>668986018524233728</td>\n",
       "      <td>https://pbs.twimg.com/media/CUi3PIrWoAAPvPT.jpg</td>\n",
       "      <td>1</td>\n",
       "      <td>doormat</td>\n",
       "      <td>0.976103</td>\n",
       "      <td>False</td>\n",
       "      <td>Chihuahua</td>\n",
       "      <td>0.005640</td>\n",
       "      <td>True</td>\n",
       "      <td>Norfolk_terrier</td>\n",
       "      <td>0.003913</td>\n",
       "      <td>True</td>\n",
       "    </tr>\n",
       "    <tr>\n",
       "      <th>1438</th>\n",
       "      <td>774314403806253056</td>\n",
       "      <td>https://pbs.twimg.com/media/Cr7q1VxWIAA5Nm7.jpg</td>\n",
       "      <td>3</td>\n",
       "      <td>Eskimo_dog</td>\n",
       "      <td>0.596045</td>\n",
       "      <td>True</td>\n",
       "      <td>Siberian_husky</td>\n",
       "      <td>0.223067</td>\n",
       "      <td>True</td>\n",
       "      <td>Saluki</td>\n",
       "      <td>0.036325</td>\n",
       "      <td>True</td>\n",
       "    </tr>\n",
       "    <tr>\n",
       "      <th>1652</th>\n",
       "      <td>809808892968534016</td>\n",
       "      <td>https://pbs.twimg.com/media/CwS4aqZXUAAe3IO.jpg</td>\n",
       "      <td>1</td>\n",
       "      <td>Labrador_retriever</td>\n",
       "      <td>0.861651</td>\n",
       "      <td>True</td>\n",
       "      <td>golden_retriever</td>\n",
       "      <td>0.044462</td>\n",
       "      <td>True</td>\n",
       "      <td>Staffordshire_bullterrier</td>\n",
       "      <td>0.016497</td>\n",
       "      <td>True</td>\n",
       "    </tr>\n",
       "    <tr>\n",
       "      <th>1236</th>\n",
       "      <td>746726898085036033</td>\n",
       "      <td>https://pbs.twimg.com/media/ClzoJz7WYAELHSf.jpg</td>\n",
       "      <td>1</td>\n",
       "      <td>golden_retriever</td>\n",
       "      <td>0.256505</td>\n",
       "      <td>True</td>\n",
       "      <td>Labrador_retriever</td>\n",
       "      <td>0.252417</td>\n",
       "      <td>True</td>\n",
       "      <td>seat_belt</td>\n",
       "      <td>0.203163</td>\n",
       "      <td>False</td>\n",
       "    </tr>\n",
       "  </tbody>\n",
       "</table>\n",
       "</div>"
      ],
      "text/plain": [
       "                tweet_id                                          jpg_url  \\\n",
       "2005  877556246731214848  https://pbs.twimg.com/media/DC20wEcW0AAf59m.jpg   \n",
       "167   668986018524233728  https://pbs.twimg.com/media/CUi3PIrWoAAPvPT.jpg   \n",
       "1438  774314403806253056  https://pbs.twimg.com/media/Cr7q1VxWIAA5Nm7.jpg   \n",
       "1652  809808892968534016  https://pbs.twimg.com/media/CwS4aqZXUAAe3IO.jpg   \n",
       "1236  746726898085036033  https://pbs.twimg.com/media/ClzoJz7WYAELHSf.jpg   \n",
       "\n",
       "      img_num                  p1   p1_conf  p1_dog                      p2  \\\n",
       "2005        1              basset  0.995368    True  Welsh_springer_spaniel   \n",
       "167         1             doormat  0.976103   False               Chihuahua   \n",
       "1438        3          Eskimo_dog  0.596045    True          Siberian_husky   \n",
       "1652        1  Labrador_retriever  0.861651    True        golden_retriever   \n",
       "1236        1    golden_retriever  0.256505    True      Labrador_retriever   \n",
       "\n",
       "       p2_conf  p2_dog                         p3   p3_conf  p3_dog  \n",
       "2005  0.001936    True                    bathtub  0.000468   False  \n",
       "167   0.005640    True            Norfolk_terrier  0.003913    True  \n",
       "1438  0.223067    True                     Saluki  0.036325    True  \n",
       "1652  0.044462    True  Staffordshire_bullterrier  0.016497    True  \n",
       "1236  0.252417    True                  seat_belt  0.203163   False  "
      ]
     },
     "execution_count": 6,
     "metadata": {},
     "output_type": "execute_result"
    }
   ],
   "source": [
    "dogs_df.sample(5)"
   ]
  },
  {
   "cell_type": "code",
   "execution_count": 18,
   "metadata": {},
   "outputs": [
    {
     "name": "stdout",
     "output_type": "stream",
     "text": [
      "<class 'pandas.core.frame.DataFrame'>\n",
      "Int64Index: 2075 entries, 0 to 2074\n",
      "Data columns (total 12 columns):\n",
      "tweet_id    2075 non-null int64\n",
      "jpg_url     2075 non-null object\n",
      "img_num     2075 non-null int64\n",
      "p1          2075 non-null object\n",
      "p1_conf     2075 non-null float64\n",
      "p1_dog      2075 non-null bool\n",
      "p2          2075 non-null object\n",
      "p2_conf     2075 non-null float64\n",
      "p2_dog      2075 non-null bool\n",
      "p3          2075 non-null object\n",
      "p3_conf     2075 non-null float64\n",
      "p3_dog      2075 non-null bool\n",
      "dtypes: bool(3), float64(3), int64(2), object(4)\n",
      "memory usage: 168.2+ KB\n"
     ]
    }
   ],
   "source": [
    "dogs_df.info()"
   ]
  },
  {
   "cell_type": "code",
   "execution_count": 7,
   "metadata": {},
   "outputs": [
    {
     "data": {
      "text/plain": [
       "golden_retriever      150\n",
       "Labrador_retriever    100\n",
       "Pembroke               89\n",
       "Chihuahua              83\n",
       "pug                    57\n",
       "                     ... \n",
       "hand_blower             1\n",
       "dining_table            1\n",
       "zebra                   1\n",
       "restaurant              1\n",
       "slug                    1\n",
       "Name: p1, Length: 378, dtype: int64"
      ]
     },
     "execution_count": 7,
     "metadata": {},
     "output_type": "execute_result"
    }
   ],
   "source": [
    "dogs_df.p1.value_counts()"
   ]
  },
  {
   "cell_type": "code",
   "execution_count": 23,
   "metadata": {},
   "outputs": [
    {
     "data": {
      "text/plain": [
       "0"
      ]
     },
     "execution_count": 23,
     "metadata": {},
     "output_type": "execute_result"
    }
   ],
   "source": [
    "dogs_df.duplicated().sum()"
   ]
  },
  {
   "cell_type": "markdown",
   "metadata": {},
   "source": [
    "## Recording of issues\n",
    "### Quality issues (dirty data, content issues)\n",
    " - Completeness: Is something missing?\n",
    " - Validity: Records are present but are faulty or in the wrong scheme\n",
    " - Accuracy: Records that are valid but have inaccurate measurements\n",
    " - Consistency: Technical correct but in different formats across tables or rows\n",
    "#### twitter table\n",
    " - Retweets are included although they are not of interest\n",
    " - Replies to other statuses included although they are not of interest\n",
    " - Replies to users included although they are not of interest\n",
    " - Source column does not hold any valuable information\n",
    " - Timestamp is of type string\n",
    " - tweet_id is of type int\n",
    "#### api table\n",
    " - tweet_id is of type int\n",
    " - Has missing tweets compared to the twitter table\n",
    "#### dogs table\n",
    " - Naming of dog type is incoherent\n",
    " - tweet_id is of type int\n",
    " - Has missing tweets compared to the twitter table\n",
    "### Tidyness iddues (structural issues)\n",
    " - Type of dog in the twitter table is streched over the last four columns although it is one variable\n",
    " - The twitter table and the api table are the same type of an observational unit (a twitter post)\n"
   ]
  },
  {
   "cell_type": "markdown",
   "metadata": {},
   "source": [
    "# Cleaning the data"
   ]
  },
  {
   "cell_type": "code",
   "execution_count": 387,
   "metadata": {},
   "outputs": [],
   "source": [
    "t_clean = twitter_df.copy()\n",
    "a_clean = api_df.copy()\n",
    "d_clean = dogs_df.copy()"
   ]
  },
  {
   "cell_type": "markdown",
   "metadata": {},
   "source": [
    "### `twitter and api table` are the same type of an observational unit and api table has missing tweets\n",
    "#### Define\n",
    "Merge the two tables together on the tweet_id. Since the api table has less observations an inner merge on the ids available in both tables resolves two issues at the same time."
   ]
  },
  {
   "cell_type": "markdown",
   "metadata": {},
   "source": [
    "#### Code"
   ]
  },
  {
   "cell_type": "code",
   "execution_count": 388,
   "metadata": {},
   "outputs": [
    {
     "data": {
      "text/html": [
       "<div>\n",
       "<style scoped>\n",
       "    .dataframe tbody tr th:only-of-type {\n",
       "        vertical-align: middle;\n",
       "    }\n",
       "\n",
       "    .dataframe tbody tr th {\n",
       "        vertical-align: top;\n",
       "    }\n",
       "\n",
       "    .dataframe thead th {\n",
       "        text-align: right;\n",
       "    }\n",
       "</style>\n",
       "<table border=\"1\" class=\"dataframe\">\n",
       "  <thead>\n",
       "    <tr style=\"text-align: right;\">\n",
       "      <th></th>\n",
       "      <th>tweet_id</th>\n",
       "      <th>in_reply_to_status_id</th>\n",
       "      <th>in_reply_to_user_id</th>\n",
       "      <th>timestamp</th>\n",
       "      <th>source</th>\n",
       "      <th>text</th>\n",
       "      <th>retweeted_status_id</th>\n",
       "      <th>retweeted_status_user_id</th>\n",
       "      <th>retweeted_status_timestamp</th>\n",
       "      <th>expanded_urls</th>\n",
       "      <th>rating_numerator</th>\n",
       "      <th>rating_denominator</th>\n",
       "      <th>name</th>\n",
       "      <th>doggo</th>\n",
       "      <th>floofer</th>\n",
       "      <th>pupper</th>\n",
       "      <th>puppo</th>\n",
       "    </tr>\n",
       "  </thead>\n",
       "  <tbody>\n",
       "    <tr>\n",
       "      <th>0</th>\n",
       "      <td>892420643555336193</td>\n",
       "      <td>NaN</td>\n",
       "      <td>NaN</td>\n",
       "      <td>2017-08-01 16:23:56 +0000</td>\n",
       "      <td>&lt;a href=\"http://twitter.com/download/iphone\" r...</td>\n",
       "      <td>This is Phineas. He's a mystical boy. Only eve...</td>\n",
       "      <td>NaN</td>\n",
       "      <td>NaN</td>\n",
       "      <td>NaN</td>\n",
       "      <td>https://twitter.com/dog_rates/status/892420643...</td>\n",
       "      <td>13</td>\n",
       "      <td>10</td>\n",
       "      <td>Phineas</td>\n",
       "      <td>None</td>\n",
       "      <td>None</td>\n",
       "      <td>None</td>\n",
       "      <td>None</td>\n",
       "    </tr>\n",
       "  </tbody>\n",
       "</table>\n",
       "</div>"
      ],
      "text/plain": [
       "             tweet_id  in_reply_to_status_id  in_reply_to_user_id  \\\n",
       "0  892420643555336193                    NaN                  NaN   \n",
       "\n",
       "                   timestamp  \\\n",
       "0  2017-08-01 16:23:56 +0000   \n",
       "\n",
       "                                              source  \\\n",
       "0  <a href=\"http://twitter.com/download/iphone\" r...   \n",
       "\n",
       "                                                text  retweeted_status_id  \\\n",
       "0  This is Phineas. He's a mystical boy. Only eve...                  NaN   \n",
       "\n",
       "   retweeted_status_user_id retweeted_status_timestamp  \\\n",
       "0                       NaN                        NaN   \n",
       "\n",
       "                                       expanded_urls  rating_numerator  \\\n",
       "0  https://twitter.com/dog_rates/status/892420643...                13   \n",
       "\n",
       "   rating_denominator     name doggo floofer pupper puppo  \n",
       "0                  10  Phineas  None    None   None  None  "
      ]
     },
     "execution_count": 388,
     "metadata": {},
     "output_type": "execute_result"
    }
   ],
   "source": [
    "t_clean.head(1)"
   ]
  },
  {
   "cell_type": "code",
   "execution_count": 389,
   "metadata": {},
   "outputs": [
    {
     "data": {
      "text/html": [
       "<div>\n",
       "<style scoped>\n",
       "    .dataframe tbody tr th:only-of-type {\n",
       "        vertical-align: middle;\n",
       "    }\n",
       "\n",
       "    .dataframe tbody tr th {\n",
       "        vertical-align: top;\n",
       "    }\n",
       "\n",
       "    .dataframe thead th {\n",
       "        text-align: right;\n",
       "    }\n",
       "</style>\n",
       "<table border=\"1\" class=\"dataframe\">\n",
       "  <thead>\n",
       "    <tr style=\"text-align: right;\">\n",
       "      <th></th>\n",
       "      <th>tweet_id</th>\n",
       "      <th>follower_count</th>\n",
       "      <th>favourites_of_user_count</th>\n",
       "      <th>retweet_count</th>\n",
       "      <th>favourite_of_post_count</th>\n",
       "    </tr>\n",
       "  </thead>\n",
       "  <tbody>\n",
       "    <tr>\n",
       "      <th>0</th>\n",
       "      <td>684588130326986752</td>\n",
       "      <td>8709217</td>\n",
       "      <td>144674</td>\n",
       "      <td>1419</td>\n",
       "      <td>4146</td>\n",
       "    </tr>\n",
       "  </tbody>\n",
       "</table>\n",
       "</div>"
      ],
      "text/plain": [
       "             tweet_id  follower_count  favourites_of_user_count  \\\n",
       "0  684588130326986752         8709217                    144674   \n",
       "\n",
       "   retweet_count  favourite_of_post_count  \n",
       "0           1419                     4146  "
      ]
     },
     "execution_count": 389,
     "metadata": {},
     "output_type": "execute_result"
    }
   ],
   "source": [
    "a_clean.head(1)"
   ]
  },
  {
   "cell_type": "code",
   "execution_count": 390,
   "metadata": {},
   "outputs": [],
   "source": [
    "status_df = t_clean.merge(a_clean, how = \"inner\", on = \"tweet_id\")"
   ]
  },
  {
   "cell_type": "markdown",
   "metadata": {},
   "source": [
    "#### Test"
   ]
  },
  {
   "cell_type": "code",
   "execution_count": 391,
   "metadata": {},
   "outputs": [
    {
     "data": {
      "text/html": [
       "<div>\n",
       "<style scoped>\n",
       "    .dataframe tbody tr th:only-of-type {\n",
       "        vertical-align: middle;\n",
       "    }\n",
       "\n",
       "    .dataframe tbody tr th {\n",
       "        vertical-align: top;\n",
       "    }\n",
       "\n",
       "    .dataframe thead th {\n",
       "        text-align: right;\n",
       "    }\n",
       "</style>\n",
       "<table border=\"1\" class=\"dataframe\">\n",
       "  <thead>\n",
       "    <tr style=\"text-align: right;\">\n",
       "      <th></th>\n",
       "      <th>tweet_id</th>\n",
       "      <th>in_reply_to_status_id</th>\n",
       "      <th>in_reply_to_user_id</th>\n",
       "      <th>timestamp</th>\n",
       "      <th>source</th>\n",
       "      <th>text</th>\n",
       "      <th>retweeted_status_id</th>\n",
       "      <th>retweeted_status_user_id</th>\n",
       "      <th>retweeted_status_timestamp</th>\n",
       "      <th>expanded_urls</th>\n",
       "      <th>...</th>\n",
       "      <th>rating_denominator</th>\n",
       "      <th>name</th>\n",
       "      <th>doggo</th>\n",
       "      <th>floofer</th>\n",
       "      <th>pupper</th>\n",
       "      <th>puppo</th>\n",
       "      <th>follower_count</th>\n",
       "      <th>favourites_of_user_count</th>\n",
       "      <th>retweet_count</th>\n",
       "      <th>favourite_of_post_count</th>\n",
       "    </tr>\n",
       "  </thead>\n",
       "  <tbody>\n",
       "    <tr>\n",
       "      <th>0</th>\n",
       "      <td>892420643555336193</td>\n",
       "      <td>NaN</td>\n",
       "      <td>NaN</td>\n",
       "      <td>2017-08-01 16:23:56 +0000</td>\n",
       "      <td>&lt;a href=\"http://twitter.com/download/iphone\" r...</td>\n",
       "      <td>This is Phineas. He's a mystical boy. Only eve...</td>\n",
       "      <td>NaN</td>\n",
       "      <td>NaN</td>\n",
       "      <td>NaN</td>\n",
       "      <td>https://twitter.com/dog_rates/status/892420643...</td>\n",
       "      <td>...</td>\n",
       "      <td>10</td>\n",
       "      <td>Phineas</td>\n",
       "      <td>None</td>\n",
       "      <td>None</td>\n",
       "      <td>None</td>\n",
       "      <td>None</td>\n",
       "      <td>8709203</td>\n",
       "      <td>144674</td>\n",
       "      <td>7776</td>\n",
       "      <td>36526</td>\n",
       "    </tr>\n",
       "  </tbody>\n",
       "</table>\n",
       "<p>1 rows × 21 columns</p>\n",
       "</div>"
      ],
      "text/plain": [
       "             tweet_id  in_reply_to_status_id  in_reply_to_user_id  \\\n",
       "0  892420643555336193                    NaN                  NaN   \n",
       "\n",
       "                   timestamp  \\\n",
       "0  2017-08-01 16:23:56 +0000   \n",
       "\n",
       "                                              source  \\\n",
       "0  <a href=\"http://twitter.com/download/iphone\" r...   \n",
       "\n",
       "                                                text  retweeted_status_id  \\\n",
       "0  This is Phineas. He's a mystical boy. Only eve...                  NaN   \n",
       "\n",
       "   retweeted_status_user_id retweeted_status_timestamp  \\\n",
       "0                       NaN                        NaN   \n",
       "\n",
       "                                       expanded_urls  ...  rating_denominator  \\\n",
       "0  https://twitter.com/dog_rates/status/892420643...  ...                  10   \n",
       "\n",
       "      name doggo floofer pupper puppo follower_count  \\\n",
       "0  Phineas  None    None   None  None        8709203   \n",
       "\n",
       "   favourites_of_user_count  retweet_count  favourite_of_post_count  \n",
       "0                    144674           7776                    36526  \n",
       "\n",
       "[1 rows x 21 columns]"
      ]
     },
     "execution_count": 391,
     "metadata": {},
     "output_type": "execute_result"
    }
   ],
   "source": [
    "status_df.head(1)"
   ]
  },
  {
   "cell_type": "code",
   "execution_count": 392,
   "metadata": {},
   "outputs": [
    {
     "name": "stdout",
     "output_type": "stream",
     "text": [
      "<class 'pandas.core.frame.DataFrame'>\n",
      "Int64Index: 2331 entries, 0 to 2330\n",
      "Data columns (total 21 columns):\n",
      "tweet_id                      2331 non-null int64\n",
      "in_reply_to_status_id         78 non-null float64\n",
      "in_reply_to_user_id           78 non-null float64\n",
      "timestamp                     2331 non-null object\n",
      "source                        2331 non-null object\n",
      "text                          2331 non-null object\n",
      "retweeted_status_id           163 non-null float64\n",
      "retweeted_status_user_id      163 non-null float64\n",
      "retweeted_status_timestamp    163 non-null object\n",
      "expanded_urls                 2272 non-null object\n",
      "rating_numerator              2331 non-null int64\n",
      "rating_denominator            2331 non-null int64\n",
      "name                          2331 non-null object\n",
      "doggo                         2331 non-null object\n",
      "floofer                       2331 non-null object\n",
      "pupper                        2331 non-null object\n",
      "puppo                         2331 non-null object\n",
      "follower_count                2331 non-null int64\n",
      "favourites_of_user_count      2331 non-null int64\n",
      "retweet_count                 2331 non-null int64\n",
      "favourite_of_post_count       2331 non-null int64\n",
      "dtypes: float64(4), int64(7), object(10)\n",
      "memory usage: 400.6+ KB\n"
     ]
    }
   ],
   "source": [
    "status_df.info()"
   ]
  },
  {
   "cell_type": "markdown",
   "metadata": {},
   "source": [
    "### `twitter table` (now status_df table) Type of dog in the twitter table is streched over the last four columns although it is one variable\n",
    "#### Define\n",
    "Make a new column with a variable for the type of dog and get rid of the four type of dog columns."
   ]
  },
  {
   "cell_type": "markdown",
   "metadata": {},
   "source": [
    "#### Code"
   ]
  },
  {
   "cell_type": "code",
   "execution_count": 393,
   "metadata": {},
   "outputs": [
    {
     "data": {
      "text/html": [
       "<div>\n",
       "<style scoped>\n",
       "    .dataframe tbody tr th:only-of-type {\n",
       "        vertical-align: middle;\n",
       "    }\n",
       "\n",
       "    .dataframe tbody tr th {\n",
       "        vertical-align: top;\n",
       "    }\n",
       "\n",
       "    .dataframe thead th {\n",
       "        text-align: right;\n",
       "    }\n",
       "</style>\n",
       "<table border=\"1\" class=\"dataframe\">\n",
       "  <thead>\n",
       "    <tr style=\"text-align: right;\">\n",
       "      <th></th>\n",
       "      <th>tweet_id</th>\n",
       "      <th>in_reply_to_status_id</th>\n",
       "      <th>in_reply_to_user_id</th>\n",
       "      <th>timestamp</th>\n",
       "      <th>source</th>\n",
       "      <th>text</th>\n",
       "      <th>retweeted_status_id</th>\n",
       "      <th>retweeted_status_user_id</th>\n",
       "      <th>retweeted_status_timestamp</th>\n",
       "      <th>expanded_urls</th>\n",
       "      <th>...</th>\n",
       "      <th>rating_denominator</th>\n",
       "      <th>name</th>\n",
       "      <th>doggo</th>\n",
       "      <th>floofer</th>\n",
       "      <th>pupper</th>\n",
       "      <th>puppo</th>\n",
       "      <th>follower_count</th>\n",
       "      <th>favourites_of_user_count</th>\n",
       "      <th>retweet_count</th>\n",
       "      <th>favourite_of_post_count</th>\n",
       "    </tr>\n",
       "  </thead>\n",
       "  <tbody>\n",
       "    <tr>\n",
       "      <th>0</th>\n",
       "      <td>892420643555336193</td>\n",
       "      <td>NaN</td>\n",
       "      <td>NaN</td>\n",
       "      <td>2017-08-01 16:23:56 +0000</td>\n",
       "      <td>&lt;a href=\"http://twitter.com/download/iphone\" r...</td>\n",
       "      <td>This is Phineas. He's a mystical boy. Only eve...</td>\n",
       "      <td>NaN</td>\n",
       "      <td>NaN</td>\n",
       "      <td>NaN</td>\n",
       "      <td>https://twitter.com/dog_rates/status/892420643...</td>\n",
       "      <td>...</td>\n",
       "      <td>10</td>\n",
       "      <td>Phineas</td>\n",
       "      <td>None</td>\n",
       "      <td>None</td>\n",
       "      <td>None</td>\n",
       "      <td>None</td>\n",
       "      <td>8709203</td>\n",
       "      <td>144674</td>\n",
       "      <td>7776</td>\n",
       "      <td>36526</td>\n",
       "    </tr>\n",
       "  </tbody>\n",
       "</table>\n",
       "<p>1 rows × 21 columns</p>\n",
       "</div>"
      ],
      "text/plain": [
       "             tweet_id  in_reply_to_status_id  in_reply_to_user_id  \\\n",
       "0  892420643555336193                    NaN                  NaN   \n",
       "\n",
       "                   timestamp  \\\n",
       "0  2017-08-01 16:23:56 +0000   \n",
       "\n",
       "                                              source  \\\n",
       "0  <a href=\"http://twitter.com/download/iphone\" r...   \n",
       "\n",
       "                                                text  retweeted_status_id  \\\n",
       "0  This is Phineas. He's a mystical boy. Only eve...                  NaN   \n",
       "\n",
       "   retweeted_status_user_id retweeted_status_timestamp  \\\n",
       "0                       NaN                        NaN   \n",
       "\n",
       "                                       expanded_urls  ...  rating_denominator  \\\n",
       "0  https://twitter.com/dog_rates/status/892420643...  ...                  10   \n",
       "\n",
       "      name doggo floofer pupper puppo follower_count  \\\n",
       "0  Phineas  None    None   None  None        8709203   \n",
       "\n",
       "   favourites_of_user_count  retweet_count  favourite_of_post_count  \n",
       "0                    144674           7776                    36526  \n",
       "\n",
       "[1 rows x 21 columns]"
      ]
     },
     "execution_count": 393,
     "metadata": {},
     "output_type": "execute_result"
    }
   ],
   "source": [
    "status_df.head(1)"
   ]
  },
  {
   "cell_type": "code",
   "execution_count": 394,
   "metadata": {},
   "outputs": [],
   "source": [
    "# If no dogtype is present one of the dogtype gets an entry so it is easier to clean after melting\n",
    "for i in range(len(status_df)):\n",
    "    if status_df.iloc[i,13]==status_df.iloc[i,14]==status_df.iloc[i,15]==status_df.iloc[i,16]:\n",
    "        status_df.loc[i, \"doggo\"] = \"no dogtype\""
   ]
  },
  {
   "cell_type": "code",
   "execution_count": 395,
   "metadata": {},
   "outputs": [
    {
     "data": {
      "text/html": [
       "<div>\n",
       "<style scoped>\n",
       "    .dataframe tbody tr th:only-of-type {\n",
       "        vertical-align: middle;\n",
       "    }\n",
       "\n",
       "    .dataframe tbody tr th {\n",
       "        vertical-align: top;\n",
       "    }\n",
       "\n",
       "    .dataframe thead th {\n",
       "        text-align: right;\n",
       "    }\n",
       "</style>\n",
       "<table border=\"1\" class=\"dataframe\">\n",
       "  <thead>\n",
       "    <tr style=\"text-align: right;\">\n",
       "      <th></th>\n",
       "      <th>tweet_id</th>\n",
       "      <th>in_reply_to_status_id</th>\n",
       "      <th>in_reply_to_user_id</th>\n",
       "      <th>timestamp</th>\n",
       "      <th>source</th>\n",
       "      <th>text</th>\n",
       "      <th>retweeted_status_id</th>\n",
       "      <th>retweeted_status_user_id</th>\n",
       "      <th>retweeted_status_timestamp</th>\n",
       "      <th>expanded_urls</th>\n",
       "      <th>...</th>\n",
       "      <th>rating_denominator</th>\n",
       "      <th>name</th>\n",
       "      <th>doggo</th>\n",
       "      <th>floofer</th>\n",
       "      <th>pupper</th>\n",
       "      <th>puppo</th>\n",
       "      <th>follower_count</th>\n",
       "      <th>favourites_of_user_count</th>\n",
       "      <th>retweet_count</th>\n",
       "      <th>favourite_of_post_count</th>\n",
       "    </tr>\n",
       "  </thead>\n",
       "  <tbody>\n",
       "    <tr>\n",
       "      <th>0</th>\n",
       "      <td>892420643555336193</td>\n",
       "      <td>NaN</td>\n",
       "      <td>NaN</td>\n",
       "      <td>2017-08-01 16:23:56 +0000</td>\n",
       "      <td>&lt;a href=\"http://twitter.com/download/iphone\" r...</td>\n",
       "      <td>This is Phineas. He's a mystical boy. Only eve...</td>\n",
       "      <td>NaN</td>\n",
       "      <td>NaN</td>\n",
       "      <td>NaN</td>\n",
       "      <td>https://twitter.com/dog_rates/status/892420643...</td>\n",
       "      <td>...</td>\n",
       "      <td>10</td>\n",
       "      <td>Phineas</td>\n",
       "      <td>no dogtype</td>\n",
       "      <td>None</td>\n",
       "      <td>None</td>\n",
       "      <td>None</td>\n",
       "      <td>8709203</td>\n",
       "      <td>144674</td>\n",
       "      <td>7776</td>\n",
       "      <td>36526</td>\n",
       "    </tr>\n",
       "    <tr>\n",
       "      <th>1</th>\n",
       "      <td>892177421306343426</td>\n",
       "      <td>NaN</td>\n",
       "      <td>NaN</td>\n",
       "      <td>2017-08-01 00:17:27 +0000</td>\n",
       "      <td>&lt;a href=\"http://twitter.com/download/iphone\" r...</td>\n",
       "      <td>This is Tilly. She's just checking pup on you....</td>\n",
       "      <td>NaN</td>\n",
       "      <td>NaN</td>\n",
       "      <td>NaN</td>\n",
       "      <td>https://twitter.com/dog_rates/status/892177421...</td>\n",
       "      <td>...</td>\n",
       "      <td>10</td>\n",
       "      <td>Tilly</td>\n",
       "      <td>no dogtype</td>\n",
       "      <td>None</td>\n",
       "      <td>None</td>\n",
       "      <td>None</td>\n",
       "      <td>8709202</td>\n",
       "      <td>144674</td>\n",
       "      <td>5762</td>\n",
       "      <td>31472</td>\n",
       "    </tr>\n",
       "    <tr>\n",
       "      <th>2</th>\n",
       "      <td>891815181378084864</td>\n",
       "      <td>NaN</td>\n",
       "      <td>NaN</td>\n",
       "      <td>2017-07-31 00:18:03 +0000</td>\n",
       "      <td>&lt;a href=\"http://twitter.com/download/iphone\" r...</td>\n",
       "      <td>This is Archie. He is a rare Norwegian Pouncin...</td>\n",
       "      <td>NaN</td>\n",
       "      <td>NaN</td>\n",
       "      <td>NaN</td>\n",
       "      <td>https://twitter.com/dog_rates/status/891815181...</td>\n",
       "      <td>...</td>\n",
       "      <td>10</td>\n",
       "      <td>Archie</td>\n",
       "      <td>no dogtype</td>\n",
       "      <td>None</td>\n",
       "      <td>None</td>\n",
       "      <td>None</td>\n",
       "      <td>8709202</td>\n",
       "      <td>144674</td>\n",
       "      <td>3814</td>\n",
       "      <td>23715</td>\n",
       "    </tr>\n",
       "    <tr>\n",
       "      <th>3</th>\n",
       "      <td>891689557279858688</td>\n",
       "      <td>NaN</td>\n",
       "      <td>NaN</td>\n",
       "      <td>2017-07-30 15:58:51 +0000</td>\n",
       "      <td>&lt;a href=\"http://twitter.com/download/iphone\" r...</td>\n",
       "      <td>This is Darla. She commenced a snooze mid meal...</td>\n",
       "      <td>NaN</td>\n",
       "      <td>NaN</td>\n",
       "      <td>NaN</td>\n",
       "      <td>https://twitter.com/dog_rates/status/891689557...</td>\n",
       "      <td>...</td>\n",
       "      <td>10</td>\n",
       "      <td>Darla</td>\n",
       "      <td>no dogtype</td>\n",
       "      <td>None</td>\n",
       "      <td>None</td>\n",
       "      <td>None</td>\n",
       "      <td>8709203</td>\n",
       "      <td>144674</td>\n",
       "      <td>7948</td>\n",
       "      <td>39850</td>\n",
       "    </tr>\n",
       "    <tr>\n",
       "      <th>4</th>\n",
       "      <td>891327558926688256</td>\n",
       "      <td>NaN</td>\n",
       "      <td>NaN</td>\n",
       "      <td>2017-07-29 16:00:24 +0000</td>\n",
       "      <td>&lt;a href=\"http://twitter.com/download/iphone\" r...</td>\n",
       "      <td>This is Franklin. He would like you to stop ca...</td>\n",
       "      <td>NaN</td>\n",
       "      <td>NaN</td>\n",
       "      <td>NaN</td>\n",
       "      <td>https://twitter.com/dog_rates/status/891327558...</td>\n",
       "      <td>...</td>\n",
       "      <td>10</td>\n",
       "      <td>Franklin</td>\n",
       "      <td>no dogtype</td>\n",
       "      <td>None</td>\n",
       "      <td>None</td>\n",
       "      <td>None</td>\n",
       "      <td>8709202</td>\n",
       "      <td>144674</td>\n",
       "      <td>8574</td>\n",
       "      <td>38047</td>\n",
       "    </tr>\n",
       "  </tbody>\n",
       "</table>\n",
       "<p>5 rows × 21 columns</p>\n",
       "</div>"
      ],
      "text/plain": [
       "             tweet_id  in_reply_to_status_id  in_reply_to_user_id  \\\n",
       "0  892420643555336193                    NaN                  NaN   \n",
       "1  892177421306343426                    NaN                  NaN   \n",
       "2  891815181378084864                    NaN                  NaN   \n",
       "3  891689557279858688                    NaN                  NaN   \n",
       "4  891327558926688256                    NaN                  NaN   \n",
       "\n",
       "                   timestamp  \\\n",
       "0  2017-08-01 16:23:56 +0000   \n",
       "1  2017-08-01 00:17:27 +0000   \n",
       "2  2017-07-31 00:18:03 +0000   \n",
       "3  2017-07-30 15:58:51 +0000   \n",
       "4  2017-07-29 16:00:24 +0000   \n",
       "\n",
       "                                              source  \\\n",
       "0  <a href=\"http://twitter.com/download/iphone\" r...   \n",
       "1  <a href=\"http://twitter.com/download/iphone\" r...   \n",
       "2  <a href=\"http://twitter.com/download/iphone\" r...   \n",
       "3  <a href=\"http://twitter.com/download/iphone\" r...   \n",
       "4  <a href=\"http://twitter.com/download/iphone\" r...   \n",
       "\n",
       "                                                text  retweeted_status_id  \\\n",
       "0  This is Phineas. He's a mystical boy. Only eve...                  NaN   \n",
       "1  This is Tilly. She's just checking pup on you....                  NaN   \n",
       "2  This is Archie. He is a rare Norwegian Pouncin...                  NaN   \n",
       "3  This is Darla. She commenced a snooze mid meal...                  NaN   \n",
       "4  This is Franklin. He would like you to stop ca...                  NaN   \n",
       "\n",
       "   retweeted_status_user_id retweeted_status_timestamp  \\\n",
       "0                       NaN                        NaN   \n",
       "1                       NaN                        NaN   \n",
       "2                       NaN                        NaN   \n",
       "3                       NaN                        NaN   \n",
       "4                       NaN                        NaN   \n",
       "\n",
       "                                       expanded_urls  ...  rating_denominator  \\\n",
       "0  https://twitter.com/dog_rates/status/892420643...  ...                  10   \n",
       "1  https://twitter.com/dog_rates/status/892177421...  ...                  10   \n",
       "2  https://twitter.com/dog_rates/status/891815181...  ...                  10   \n",
       "3  https://twitter.com/dog_rates/status/891689557...  ...                  10   \n",
       "4  https://twitter.com/dog_rates/status/891327558...  ...                  10   \n",
       "\n",
       "       name       doggo floofer pupper puppo follower_count  \\\n",
       "0   Phineas  no dogtype    None   None  None        8709203   \n",
       "1     Tilly  no dogtype    None   None  None        8709202   \n",
       "2    Archie  no dogtype    None   None  None        8709202   \n",
       "3     Darla  no dogtype    None   None  None        8709203   \n",
       "4  Franklin  no dogtype    None   None  None        8709202   \n",
       "\n",
       "   favourites_of_user_count  retweet_count  favourite_of_post_count  \n",
       "0                    144674           7776                    36526  \n",
       "1                    144674           5762                    31472  \n",
       "2                    144674           3814                    23715  \n",
       "3                    144674           7948                    39850  \n",
       "4                    144674           8574                    38047  \n",
       "\n",
       "[5 rows x 21 columns]"
      ]
     },
     "execution_count": 395,
     "metadata": {},
     "output_type": "execute_result"
    }
   ],
   "source": [
    "status_df.head()"
   ]
  },
  {
   "cell_type": "code",
   "execution_count": 396,
   "metadata": {},
   "outputs": [],
   "source": [
    "# Create a list for all the columns that should stay the same during melting\n",
    "id_columns = list(status_df.columns[:13])\n",
    "for item in list(status_df.columns[17:]):\n",
    "    id_columns.append(item)"
   ]
  },
  {
   "cell_type": "code",
   "execution_count": 397,
   "metadata": {},
   "outputs": [],
   "source": [
    "status_df = pd.melt(status_df, id_vars = id_columns, var_name = \"dog_type\", value_name='dog')"
   ]
  },
  {
   "cell_type": "code",
   "execution_count": 398,
   "metadata": {},
   "outputs": [
    {
     "data": {
      "text/plain": [
       "2345"
      ]
     },
     "execution_count": 398,
     "metadata": {},
     "output_type": "execute_result"
    }
   ],
   "source": [
    "status_df = status_df.query(\"dog != 'None'\")\n",
    "len(status_df)"
   ]
  },
  {
   "cell_type": "code",
   "execution_count": 399,
   "metadata": {},
   "outputs": [
    {
     "data": {
      "text/plain": [
       "28"
      ]
     },
     "execution_count": 399,
     "metadata": {},
     "output_type": "execute_result"
    }
   ],
   "source": [
    "# show all duplicates\n",
    "len(status_df[status_df.tweet_id.duplicated(keep = False)].sort_values(by=\"tweet_id\"))"
   ]
  },
  {
   "cell_type": "code",
   "execution_count": 400,
   "metadata": {},
   "outputs": [],
   "source": [
    "# 14 statuses included two types of dogtype. Since it is ambigious which type is referencing the pictures all are removed\n",
    "# from the dataset. This is ok since it is only a small number"
   ]
  },
  {
   "cell_type": "code",
   "execution_count": 401,
   "metadata": {},
   "outputs": [],
   "source": [
    "# Get a list of the tweet ids with duplicates\n",
    "duplicates = list(status_df[status_df.tweet_id.duplicated(keep = False)].tweet_id)"
   ]
  },
  {
   "cell_type": "code",
   "execution_count": 402,
   "metadata": {},
   "outputs": [],
   "source": [
    "# Remove all rows whose tweet ids are in the duplicates list\n",
    "status_df = status_df[~status_df['tweet_id'].isin(duplicates)]"
   ]
  },
  {
   "cell_type": "code",
   "execution_count": 403,
   "metadata": {},
   "outputs": [],
   "source": [
    "for i in range(len(status_df)):\n",
    "    if status_df.iloc[i,-1]==\"no dogtype\":\n",
    "        status_df.iloc[i, -2] = \"no dogtype\""
   ]
  },
  {
   "cell_type": "code",
   "execution_count": 404,
   "metadata": {},
   "outputs": [],
   "source": [
    "status_df = status_df.drop(columns = \"dog\")"
   ]
  },
  {
   "cell_type": "markdown",
   "metadata": {},
   "source": [
    "#### Test"
   ]
  },
  {
   "cell_type": "code",
   "execution_count": 405,
   "metadata": {},
   "outputs": [
    {
     "data": {
      "text/plain": [
       "no dogtype    1956\n",
       "pupper         243\n",
       "doggo           80\n",
       "puppo           29\n",
       "floofer          9\n",
       "Name: dog_type, dtype: int64"
      ]
     },
     "execution_count": 405,
     "metadata": {},
     "output_type": "execute_result"
    }
   ],
   "source": [
    "status_df.dog_type.value_counts()"
   ]
  },
  {
   "cell_type": "code",
   "execution_count": 406,
   "metadata": {},
   "outputs": [
    {
     "data": {
      "text/html": [
       "<div>\n",
       "<style scoped>\n",
       "    .dataframe tbody tr th:only-of-type {\n",
       "        vertical-align: middle;\n",
       "    }\n",
       "\n",
       "    .dataframe tbody tr th {\n",
       "        vertical-align: top;\n",
       "    }\n",
       "\n",
       "    .dataframe thead th {\n",
       "        text-align: right;\n",
       "    }\n",
       "</style>\n",
       "<table border=\"1\" class=\"dataframe\">\n",
       "  <thead>\n",
       "    <tr style=\"text-align: right;\">\n",
       "      <th></th>\n",
       "      <th>tweet_id</th>\n",
       "      <th>in_reply_to_status_id</th>\n",
       "      <th>in_reply_to_user_id</th>\n",
       "      <th>timestamp</th>\n",
       "      <th>source</th>\n",
       "      <th>text</th>\n",
       "      <th>retweeted_status_id</th>\n",
       "      <th>retweeted_status_user_id</th>\n",
       "      <th>retweeted_status_timestamp</th>\n",
       "      <th>expanded_urls</th>\n",
       "      <th>rating_numerator</th>\n",
       "      <th>rating_denominator</th>\n",
       "      <th>name</th>\n",
       "      <th>follower_count</th>\n",
       "      <th>favourites_of_user_count</th>\n",
       "      <th>retweet_count</th>\n",
       "      <th>favourite_of_post_count</th>\n",
       "      <th>dog_type</th>\n",
       "    </tr>\n",
       "  </thead>\n",
       "  <tbody>\n",
       "    <tr>\n",
       "      <th>1862</th>\n",
       "      <td>674788554665512960</td>\n",
       "      <td>NaN</td>\n",
       "      <td>NaN</td>\n",
       "      <td>2015-12-10 03:11:43 +0000</td>\n",
       "      <td>&lt;a href=\"http://twitter.com/download/iphone\" r...</td>\n",
       "      <td>Say hello to Maggie. She's a Western Septic Do...</td>\n",
       "      <td>NaN</td>\n",
       "      <td>NaN</td>\n",
       "      <td>NaN</td>\n",
       "      <td>https://twitter.com/dog_rates/status/674788554...</td>\n",
       "      <td>9</td>\n",
       "      <td>10</td>\n",
       "      <td>Maggie</td>\n",
       "      <td>8709246</td>\n",
       "      <td>144674</td>\n",
       "      <td>203</td>\n",
       "      <td>807</td>\n",
       "      <td>no dogtype</td>\n",
       "    </tr>\n",
       "    <tr>\n",
       "      <th>1503</th>\n",
       "      <td>690360449368465409</td>\n",
       "      <td>NaN</td>\n",
       "      <td>NaN</td>\n",
       "      <td>2016-01-22 02:28:52 +0000</td>\n",
       "      <td>&lt;a href=\"http://twitter.com/download/iphone\" r...</td>\n",
       "      <td>Stop sending in lobsters. This is the final wa...</td>\n",
       "      <td>NaN</td>\n",
       "      <td>NaN</td>\n",
       "      <td>NaN</td>\n",
       "      <td>https://twitter.com/dog_rates/status/690360449...</td>\n",
       "      <td>9</td>\n",
       "      <td>10</td>\n",
       "      <td>the</td>\n",
       "      <td>8709217</td>\n",
       "      <td>144674</td>\n",
       "      <td>886</td>\n",
       "      <td>2691</td>\n",
       "      <td>no dogtype</td>\n",
       "    </tr>\n",
       "    <tr>\n",
       "      <th>1223</th>\n",
       "      <td>711652651650457602</td>\n",
       "      <td>NaN</td>\n",
       "      <td>NaN</td>\n",
       "      <td>2016-03-20 20:36:28 +0000</td>\n",
       "      <td>&lt;a href=\"http://twitter.com/download/iphone\" r...</td>\n",
       "      <td>This is Gary. He just wanted to say hi. 9/10 v...</td>\n",
       "      <td>NaN</td>\n",
       "      <td>NaN</td>\n",
       "      <td>NaN</td>\n",
       "      <td>https://twitter.com/dog_rates/status/711652651...</td>\n",
       "      <td>9</td>\n",
       "      <td>10</td>\n",
       "      <td>Gary</td>\n",
       "      <td>8709216</td>\n",
       "      <td>144674</td>\n",
       "      <td>918</td>\n",
       "      <td>3875</td>\n",
       "      <td>no dogtype</td>\n",
       "    </tr>\n",
       "    <tr>\n",
       "      <th>1441</th>\n",
       "      <td>694352839993344000</td>\n",
       "      <td>NaN</td>\n",
       "      <td>NaN</td>\n",
       "      <td>2016-02-02 02:53:12 +0000</td>\n",
       "      <td>&lt;a href=\"http://twitter.com/download/iphone\" r...</td>\n",
       "      <td>Meet Oliviér. He takes killer selfies. Has a d...</td>\n",
       "      <td>NaN</td>\n",
       "      <td>NaN</td>\n",
       "      <td>NaN</td>\n",
       "      <td>https://twitter.com/dog_rates/status/694352839...</td>\n",
       "      <td>10</td>\n",
       "      <td>10</td>\n",
       "      <td>Oliviér</td>\n",
       "      <td>8709217</td>\n",
       "      <td>144674</td>\n",
       "      <td>617</td>\n",
       "      <td>2048</td>\n",
       "      <td>no dogtype</td>\n",
       "    </tr>\n",
       "    <tr>\n",
       "      <th>7664</th>\n",
       "      <td>787717603741622272</td>\n",
       "      <td>NaN</td>\n",
       "      <td>NaN</td>\n",
       "      <td>2016-10-16 18:11:26 +0000</td>\n",
       "      <td>&lt;a href=\"http://twitter.com/download/iphone\" r...</td>\n",
       "      <td>This is Tonks. She is a service puppo. Can hea...</td>\n",
       "      <td>NaN</td>\n",
       "      <td>NaN</td>\n",
       "      <td>NaN</td>\n",
       "      <td>https://twitter.com/dog_rates/status/787717603...</td>\n",
       "      <td>13</td>\n",
       "      <td>10</td>\n",
       "      <td>Tonks</td>\n",
       "      <td>8709206</td>\n",
       "      <td>144674</td>\n",
       "      <td>2872</td>\n",
       "      <td>10551</td>\n",
       "      <td>puppo</td>\n",
       "    </tr>\n",
       "  </tbody>\n",
       "</table>\n",
       "</div>"
      ],
      "text/plain": [
       "                tweet_id  in_reply_to_status_id  in_reply_to_user_id  \\\n",
       "1862  674788554665512960                    NaN                  NaN   \n",
       "1503  690360449368465409                    NaN                  NaN   \n",
       "1223  711652651650457602                    NaN                  NaN   \n",
       "1441  694352839993344000                    NaN                  NaN   \n",
       "7664  787717603741622272                    NaN                  NaN   \n",
       "\n",
       "                      timestamp  \\\n",
       "1862  2015-12-10 03:11:43 +0000   \n",
       "1503  2016-01-22 02:28:52 +0000   \n",
       "1223  2016-03-20 20:36:28 +0000   \n",
       "1441  2016-02-02 02:53:12 +0000   \n",
       "7664  2016-10-16 18:11:26 +0000   \n",
       "\n",
       "                                                 source  \\\n",
       "1862  <a href=\"http://twitter.com/download/iphone\" r...   \n",
       "1503  <a href=\"http://twitter.com/download/iphone\" r...   \n",
       "1223  <a href=\"http://twitter.com/download/iphone\" r...   \n",
       "1441  <a href=\"http://twitter.com/download/iphone\" r...   \n",
       "7664  <a href=\"http://twitter.com/download/iphone\" r...   \n",
       "\n",
       "                                                   text  retweeted_status_id  \\\n",
       "1862  Say hello to Maggie. She's a Western Septic Do...                  NaN   \n",
       "1503  Stop sending in lobsters. This is the final wa...                  NaN   \n",
       "1223  This is Gary. He just wanted to say hi. 9/10 v...                  NaN   \n",
       "1441  Meet Oliviér. He takes killer selfies. Has a d...                  NaN   \n",
       "7664  This is Tonks. She is a service puppo. Can hea...                  NaN   \n",
       "\n",
       "      retweeted_status_user_id retweeted_status_timestamp  \\\n",
       "1862                       NaN                        NaN   \n",
       "1503                       NaN                        NaN   \n",
       "1223                       NaN                        NaN   \n",
       "1441                       NaN                        NaN   \n",
       "7664                       NaN                        NaN   \n",
       "\n",
       "                                          expanded_urls  rating_numerator  \\\n",
       "1862  https://twitter.com/dog_rates/status/674788554...                 9   \n",
       "1503  https://twitter.com/dog_rates/status/690360449...                 9   \n",
       "1223  https://twitter.com/dog_rates/status/711652651...                 9   \n",
       "1441  https://twitter.com/dog_rates/status/694352839...                10   \n",
       "7664  https://twitter.com/dog_rates/status/787717603...                13   \n",
       "\n",
       "      rating_denominator     name  follower_count  favourites_of_user_count  \\\n",
       "1862                  10   Maggie         8709246                    144674   \n",
       "1503                  10      the         8709217                    144674   \n",
       "1223                  10     Gary         8709216                    144674   \n",
       "1441                  10  Oliviér         8709217                    144674   \n",
       "7664                  10    Tonks         8709206                    144674   \n",
       "\n",
       "      retweet_count  favourite_of_post_count    dog_type  \n",
       "1862            203                      807  no dogtype  \n",
       "1503            886                     2691  no dogtype  \n",
       "1223            918                     3875  no dogtype  \n",
       "1441            617                     2048  no dogtype  \n",
       "7664           2872                    10551       puppo  "
      ]
     },
     "execution_count": 406,
     "metadata": {},
     "output_type": "execute_result"
    }
   ],
   "source": [
    "status_df.sample(5)"
   ]
  },
  {
   "cell_type": "markdown",
   "metadata": {},
   "source": [
    "### `twitter table` (now status table) \n",
    " - Retweets are included although they are not of interest\n",
    " - Replies to other statuses included although they are not of interest\n",
    " - Replies to users included although they are not of interest\n",
    "#### Define\n",
    "Remove all retweets and replies of and to other statuses and users by identifying rows that hold values that are not NaN\n",
    "#### Code"
   ]
  },
  {
   "cell_type": "code",
   "execution_count": 444,
   "metadata": {},
   "outputs": [],
   "source": [
    "stat_df = status_df.copy()"
   ]
  },
  {
   "cell_type": "code",
   "execution_count": 445,
   "metadata": {},
   "outputs": [
    {
     "data": {
      "text/plain": [
       "2317"
      ]
     },
     "execution_count": 445,
     "metadata": {},
     "output_type": "execute_result"
    }
   ],
   "source": [
    "len(stat_df)"
   ]
  },
  {
   "cell_type": "code",
   "execution_count": 446,
   "metadata": {},
   "outputs": [],
   "source": [
    "stat_df = stat_df[stat_df['in_reply_to_status_id'].isna()]"
   ]
  },
  {
   "cell_type": "code",
   "execution_count": 447,
   "metadata": {},
   "outputs": [
    {
     "data": {
      "text/plain": [
       "2240"
      ]
     },
     "execution_count": 447,
     "metadata": {},
     "output_type": "execute_result"
    }
   ],
   "source": [
    "len(stat_df)"
   ]
  },
  {
   "cell_type": "code",
   "execution_count": 448,
   "metadata": {},
   "outputs": [
    {
     "data": {
      "text/plain": [
       "2240"
      ]
     },
     "execution_count": 448,
     "metadata": {},
     "output_type": "execute_result"
    }
   ],
   "source": [
    "stat_df = stat_df[stat_df['in_reply_to_user_id'].isna()]\n",
    "\n",
    "len(stat_df)"
   ]
  },
  {
   "cell_type": "code",
   "execution_count": 449,
   "metadata": {},
   "outputs": [
    {
     "data": {
      "text/plain": [
       "2079"
      ]
     },
     "execution_count": 449,
     "metadata": {},
     "output_type": "execute_result"
    }
   ],
   "source": [
    "stat_df = stat_df[stat_df['retweeted_status_id'].isna()]\n",
    "\n",
    "len(stat_df)"
   ]
  },
  {
   "cell_type": "code",
   "execution_count": 450,
   "metadata": {},
   "outputs": [
    {
     "data": {
      "text/plain": [
       "2079"
      ]
     },
     "execution_count": 450,
     "metadata": {},
     "output_type": "execute_result"
    }
   ],
   "source": [
    "stat_df = stat_df[stat_df['retweeted_status_user_id'].isna()]\n",
    "\n",
    "len(stat_df)"
   ]
  },
  {
   "cell_type": "markdown",
   "metadata": {},
   "source": [
    "#### Test"
   ]
  },
  {
   "cell_type": "code",
   "execution_count": 451,
   "metadata": {},
   "outputs": [
    {
     "data": {
      "text/plain": [
       "Series([], Name: in_reply_to_status_id, dtype: int64)"
      ]
     },
     "execution_count": 451,
     "metadata": {},
     "output_type": "execute_result"
    }
   ],
   "source": [
    "stat_df.in_reply_to_status_id.value_counts()"
   ]
  },
  {
   "cell_type": "code",
   "execution_count": 452,
   "metadata": {},
   "outputs": [
    {
     "data": {
      "text/plain": [
       "Series([], Name: in_reply_to_user_id, dtype: int64)"
      ]
     },
     "execution_count": 452,
     "metadata": {},
     "output_type": "execute_result"
    }
   ],
   "source": [
    "stat_df.in_reply_to_user_id.value_counts()"
   ]
  },
  {
   "cell_type": "code",
   "execution_count": 453,
   "metadata": {},
   "outputs": [
    {
     "data": {
      "text/plain": [
       "Series([], Name: retweeted_status_id, dtype: int64)"
      ]
     },
     "execution_count": 453,
     "metadata": {},
     "output_type": "execute_result"
    }
   ],
   "source": [
    "stat_df.retweeted_status_id.value_counts()"
   ]
  },
  {
   "cell_type": "code",
   "execution_count": 454,
   "metadata": {},
   "outputs": [
    {
     "data": {
      "text/plain": [
       "Series([], Name: retweeted_status_user_id, dtype: int64)"
      ]
     },
     "execution_count": 454,
     "metadata": {},
     "output_type": "execute_result"
    }
   ],
   "source": [
    "stat_df.retweeted_status_user_id.value_counts()"
   ]
  },
  {
   "cell_type": "code",
   "execution_count": null,
   "metadata": {},
   "outputs": [],
   "source": []
  }
 ],
 "metadata": {
  "kernelspec": {
   "display_name": "Python 3",
   "language": "python",
   "name": "python3"
  },
  "language_info": {
   "codemirror_mode": {
    "name": "ipython",
    "version": 3
   },
   "file_extension": ".py",
   "mimetype": "text/x-python",
   "name": "python",
   "nbconvert_exporter": "python",
   "pygments_lexer": "ipython3",
   "version": "3.7.6"
  }
 },
 "nbformat": 4,
 "nbformat_minor": 2
}
